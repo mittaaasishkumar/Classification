{
 "cells": [
  {
   "cell_type": "markdown",
   "id": "071295f0",
   "metadata": {},
   "source": [
    "## Step-1: Business Problem\n",
    "- Create a predictive model that can help predict a species of a penguin based on physical attributes, then we can use that model to help researchers classify penguins in the field, instead of needing an experienced biologist"
   ]
  },
  {
   "cell_type": "code",
   "execution_count": null,
   "id": "c8243279",
   "metadata": {},
   "outputs": [],
   "source": [
    "import numpy as np\n",
    "import pandas as pd\n",
    "import matplotlib.pyplot as plt\n",
    "import seaborn as sns\n",
    "\n",
    "import warnings\n",
    "warnings.simplefilter('ignore')"
   ]
  },
  {
   "cell_type": "code",
   "execution_count": null,
   "id": "bfcc7c4f",
   "metadata": {},
   "outputs": [],
   "source": [
    "df=pd.read_csv('penguins_size.csv')\n",
    "df.head()"
   ]
  },
  {
   "cell_type": "code",
   "execution_count": null,
   "id": "cbb77e2b",
   "metadata": {},
   "outputs": [],
   "source": [
    "df.info()"
   ]
  },
  {
   "cell_type": "markdown",
   "id": "81f05d88",
   "metadata": {},
   "source": [
    "## Step-3: Data Preprocessing\n"
   ]
  },
  {
   "cell_type": "markdown",
   "id": "f2f4ce38",
   "metadata": {},
   "source": [
    "#### Data Cleaning"
   ]
  },
  {
   "cell_type": "code",
   "execution_count": null,
   "id": "14d7f15b",
   "metadata": {},
   "outputs": [],
   "source": [
    "df['sex'].replace(\".\",\"MALE\",inplace=True)"
   ]
  },
  {
   "cell_type": "code",
   "execution_count": null,
   "id": "f389b85d",
   "metadata": {},
   "outputs": [],
   "source": [
    "df.isna().sum()/len(df)*100"
   ]
  },
  {
   "cell_type": "code",
   "execution_count": null,
   "id": "31e0a97f",
   "metadata": {},
   "outputs": [],
   "source": [
    "#Coninuous variable with mean\n",
    "#Discrete variable with mode\n",
    "\n",
    "df['culmen_length_mm'].fillna(df['culmen_length_mm'].mean(),inplace=True)\n",
    "df['culmen_depth_mm'].fillna(df['culmen_depth_mm'].mean(),inplace=True)\n",
    "df['flipper_length_mm'].fillna(df['flipper_length_mm'].mean(),inplace=True)\n",
    "df['body_mass_g'].fillna(df['body_mass_g'].mean(),inplace=True)\n",
    "df['sex'].fillna(df['sex'].mode()[0],inplace=True)"
   ]
  },
  {
   "cell_type": "markdown",
   "id": "d9376a3d",
   "metadata": {},
   "source": [
    "#### Encoding"
   ]
  },
  {
   "cell_type": "code",
   "execution_count": 34,
   "id": "d471f5a3",
   "metadata": {},
   "outputs": [],
   "source": [
    "X=pd.get_dummies(df.drop(\"species\",axis=1),drop_first=True)\n",
    "y=df['species']"
   ]
  },
  {
   "cell_type": "code",
   "execution_count": 36,
   "id": "d55284ee",
   "metadata": {},
   "outputs": [
    {
     "data": {
      "text/html": [
       "<div>\n",
       "<style scoped>\n",
       "    .dataframe tbody tr th:only-of-type {\n",
       "        vertical-align: middle;\n",
       "    }\n",
       "\n",
       "    .dataframe tbody tr th {\n",
       "        vertical-align: top;\n",
       "    }\n",
       "\n",
       "    .dataframe thead th {\n",
       "        text-align: right;\n",
       "    }\n",
       "</style>\n",
       "<table border=\"1\" class=\"dataframe\">\n",
       "  <thead>\n",
       "    <tr style=\"text-align: right;\">\n",
       "      <th></th>\n",
       "      <th>culmen_length_mm</th>\n",
       "      <th>culmen_depth_mm</th>\n",
       "      <th>flipper_length_mm</th>\n",
       "      <th>body_mass_g</th>\n",
       "      <th>island_Dream</th>\n",
       "      <th>island_Torgersen</th>\n",
       "      <th>sex_MALE</th>\n",
       "    </tr>\n",
       "  </thead>\n",
       "  <tbody>\n",
       "    <tr>\n",
       "      <th>0</th>\n",
       "      <td>39.10000</td>\n",
       "      <td>18.70000</td>\n",
       "      <td>181.000000</td>\n",
       "      <td>3750.000000</td>\n",
       "      <td>0</td>\n",
       "      <td>1</td>\n",
       "      <td>1</td>\n",
       "    </tr>\n",
       "    <tr>\n",
       "      <th>1</th>\n",
       "      <td>39.50000</td>\n",
       "      <td>17.40000</td>\n",
       "      <td>186.000000</td>\n",
       "      <td>3800.000000</td>\n",
       "      <td>0</td>\n",
       "      <td>1</td>\n",
       "      <td>0</td>\n",
       "    </tr>\n",
       "    <tr>\n",
       "      <th>2</th>\n",
       "      <td>40.30000</td>\n",
       "      <td>18.00000</td>\n",
       "      <td>195.000000</td>\n",
       "      <td>3250.000000</td>\n",
       "      <td>0</td>\n",
       "      <td>1</td>\n",
       "      <td>0</td>\n",
       "    </tr>\n",
       "    <tr>\n",
       "      <th>3</th>\n",
       "      <td>43.92193</td>\n",
       "      <td>17.15117</td>\n",
       "      <td>200.915205</td>\n",
       "      <td>4201.754386</td>\n",
       "      <td>0</td>\n",
       "      <td>1</td>\n",
       "      <td>1</td>\n",
       "    </tr>\n",
       "    <tr>\n",
       "      <th>4</th>\n",
       "      <td>36.70000</td>\n",
       "      <td>19.30000</td>\n",
       "      <td>193.000000</td>\n",
       "      <td>3450.000000</td>\n",
       "      <td>0</td>\n",
       "      <td>1</td>\n",
       "      <td>0</td>\n",
       "    </tr>\n",
       "    <tr>\n",
       "      <th>...</th>\n",
       "      <td>...</td>\n",
       "      <td>...</td>\n",
       "      <td>...</td>\n",
       "      <td>...</td>\n",
       "      <td>...</td>\n",
       "      <td>...</td>\n",
       "      <td>...</td>\n",
       "    </tr>\n",
       "    <tr>\n",
       "      <th>339</th>\n",
       "      <td>43.92193</td>\n",
       "      <td>17.15117</td>\n",
       "      <td>200.915205</td>\n",
       "      <td>4201.754386</td>\n",
       "      <td>0</td>\n",
       "      <td>0</td>\n",
       "      <td>1</td>\n",
       "    </tr>\n",
       "    <tr>\n",
       "      <th>340</th>\n",
       "      <td>46.80000</td>\n",
       "      <td>14.30000</td>\n",
       "      <td>215.000000</td>\n",
       "      <td>4850.000000</td>\n",
       "      <td>0</td>\n",
       "      <td>0</td>\n",
       "      <td>0</td>\n",
       "    </tr>\n",
       "    <tr>\n",
       "      <th>341</th>\n",
       "      <td>50.40000</td>\n",
       "      <td>15.70000</td>\n",
       "      <td>222.000000</td>\n",
       "      <td>5750.000000</td>\n",
       "      <td>0</td>\n",
       "      <td>0</td>\n",
       "      <td>1</td>\n",
       "    </tr>\n",
       "    <tr>\n",
       "      <th>342</th>\n",
       "      <td>45.20000</td>\n",
       "      <td>14.80000</td>\n",
       "      <td>212.000000</td>\n",
       "      <td>5200.000000</td>\n",
       "      <td>0</td>\n",
       "      <td>0</td>\n",
       "      <td>0</td>\n",
       "    </tr>\n",
       "    <tr>\n",
       "      <th>343</th>\n",
       "      <td>49.90000</td>\n",
       "      <td>16.10000</td>\n",
       "      <td>213.000000</td>\n",
       "      <td>5400.000000</td>\n",
       "      <td>0</td>\n",
       "      <td>0</td>\n",
       "      <td>1</td>\n",
       "    </tr>\n",
       "  </tbody>\n",
       "</table>\n",
       "<p>344 rows × 7 columns</p>\n",
       "</div>"
      ],
      "text/plain": [
       "     culmen_length_mm  culmen_depth_mm  flipper_length_mm  body_mass_g  \\\n",
       "0            39.10000         18.70000         181.000000  3750.000000   \n",
       "1            39.50000         17.40000         186.000000  3800.000000   \n",
       "2            40.30000         18.00000         195.000000  3250.000000   \n",
       "3            43.92193         17.15117         200.915205  4201.754386   \n",
       "4            36.70000         19.30000         193.000000  3450.000000   \n",
       "..                ...              ...                ...          ...   \n",
       "339          43.92193         17.15117         200.915205  4201.754386   \n",
       "340          46.80000         14.30000         215.000000  4850.000000   \n",
       "341          50.40000         15.70000         222.000000  5750.000000   \n",
       "342          45.20000         14.80000         212.000000  5200.000000   \n",
       "343          49.90000         16.10000         213.000000  5400.000000   \n",
       "\n",
       "     island_Dream  island_Torgersen  sex_MALE  \n",
       "0               0                 1         1  \n",
       "1               0                 1         0  \n",
       "2               0                 1         0  \n",
       "3               0                 1         1  \n",
       "4               0                 1         0  \n",
       "..            ...               ...       ...  \n",
       "339             0                 0         1  \n",
       "340             0                 0         0  \n",
       "341             0                 0         1  \n",
       "342             0                 0         0  \n",
       "343             0                 0         1  \n",
       "\n",
       "[344 rows x 7 columns]"
      ]
     },
     "execution_count": 36,
     "metadata": {},
     "output_type": "execute_result"
    }
   ],
   "source": [
    "X"
   ]
  },
  {
   "cell_type": "markdown",
   "id": "69f78342",
   "metadata": {},
   "source": [
    "### Train-Test Split"
   ]
  },
  {
   "cell_type": "code",
   "execution_count": null,
   "id": "bb50f2bf",
   "metadata": {},
   "outputs": [],
   "source": [
    "from sklearn.model_selection import train_test_split\n",
    "\n",
    "X_train,X_test,y_train,y_test = train_test_split(X,y,train_size=0.8,\n",
    "                                                 random_state=6)"
   ]
  },
  {
   "cell_type": "markdown",
   "id": "f17fbeb6",
   "metadata": {},
   "source": [
    "## Step-4,5: Modelling & Evaluation\n",
    "#### Decision Tree Classfier-with default Hyperparameters"
   ]
  },
  {
   "cell_type": "code",
   "execution_count": null,
   "id": "e09fab66",
   "metadata": {},
   "outputs": [],
   "source": [
    "#Modelling\n",
    "from sklearn.ensemble import RandomForestClassifier\n",
    "rf_default_model=RandomForestClassifier(random_state=6)\n",
    "rf_default_model.fit(X_train,y_train)\n",
    "\n",
    "\n",
    "#Prediction and Eval on Train\n",
    "ypred_train = rf_default_model.predict(X_train)\n",
    "from sklearn.metrics import accuracy_score\n",
    "print(\"Train Accuracy:\",accuracy_score(y_train,ypred_train))\n",
    "\n",
    "\n",
    "#CV Score\n",
    "from sklearn.model_selection import cross_val_score\n",
    "print(\"CV Score:\",cross_val_score(rf_default_model,X,y,cv=5).mean())\n",
    "\n",
    "#Predict and Eval on Test Data\n",
    "ypred_test = rf_default_model.predict(X_test)\n",
    "print(\"Test Accuracy:\",accuracy_score(ypred_test,y_test))\n"
   ]
  },
  {
   "cell_type": "markdown",
   "id": "f8af8069",
   "metadata": {},
   "source": [
    "#### Hyperparameter Tuning"
   ]
  },
  {
   "cell_type": "code",
   "execution_count": null,
   "id": "64a47e84",
   "metadata": {},
   "outputs": [],
   "source": [
    "from sklearn.model_selection import GridSearchCV\n",
    "\n",
    "estimator=RandomForestClassifier(random_state=0)\n",
    "\n",
    "param_grid={'n_estimators':list(range(1,101))}\n",
    "\n",
    "grid=GridSearchCV(estimator,param_grid,scoring='accuracy',cv=5)\n",
    "grid.fit(X_train,y_train)\n",
    "grid.best_params_"
   ]
  },
  {
   "cell_type": "code",
   "execution_count": null,
   "id": "3cffa71c",
   "metadata": {},
   "outputs": [],
   "source": [
    "grid.best_estimator_.feature_importances_"
   ]
  },
  {
   "cell_type": "code",
   "execution_count": null,
   "id": "e391cc8d",
   "metadata": {},
   "outputs": [],
   "source": [
    "feats=pd.DataFrame(data=grid.best_estimator_.feature_importances_,\n",
    "                  index=X.columns,columns=['Feature Importance'])\n",
    "feats"
   ]
  },
  {
   "cell_type": "code",
   "execution_count": null,
   "id": "380ebe1d",
   "metadata": {},
   "outputs": [],
   "source": [
    "feats_imp=feats[feats['Feature Importance']>0]\n",
    "feats_imp"
   ]
  },
  {
   "cell_type": "code",
   "execution_count": null,
   "id": "8d0b283b",
   "metadata": {},
   "outputs": [],
   "source": [
    "importance_features_list=feats_imp.index.to_list()\n",
    "importance_features_list"
   ]
  },
  {
   "cell_type": "markdown",
   "id": "ef599a7d",
   "metadata": {},
   "source": [
    "## Final Decision Tree Model\n",
    "#### with best hyperparameters & with important features"
   ]
  },
  {
   "cell_type": "code",
   "execution_count": null,
   "id": "aa9dde5a",
   "metadata": {},
   "outputs": [],
   "source": [
    "X_imp=X[importance_features_list]\n",
    "\n",
    "X_train,X_test,y_train,y_test = train_test_split(X_imp,y,train_size=0.8,\n",
    "                                                 random_state=6)\n",
    "\n",
    "final_rf_model=RandomForestClassifier(n_estimators=12,random_state=0)\n",
    "final_rf_model.fit(X_train,y_train)\n",
    "\n",
    "\n",
    "#Prediction and Eval on Train\n",
    "ypred_train = final_rf_model.predict(X_train)\n",
    "from sklearn.metrics import accuracy_score\n",
    "print(\"Train Accuracy:\",accuracy_score(y_train,ypred_train))\n",
    "\n",
    "\n",
    "#CV Score\n",
    "from sklearn.model_selection import cross_val_score\n",
    "print(\"CV Score:\",cross_val_score(final_rf_model,X_imp,y,cv=5).mean())\n",
    "\n",
    "#Predict and Eval on Test Data\n",
    "ypred_test = final_rf_model.predict(X_test)\n",
    "print(\"Test Accuracy:\",accuracy_score(ypred_test,y_test))\n"
   ]
  },
  {
   "cell_type": "markdown",
   "id": "7722c058",
   "metadata": {},
   "source": [
    "## Confusion Matrix"
   ]
  },
  {
   "cell_type": "code",
   "execution_count": null,
   "id": "ef2e0e37",
   "metadata": {},
   "outputs": [],
   "source": [
    "from sklearn.metrics import confusion_matrix\n",
    "confusion_matrix(y_test,ypred_test)"
   ]
  },
  {
   "cell_type": "code",
   "execution_count": null,
   "id": "4cd6f2d6",
   "metadata": {},
   "outputs": [],
   "source": []
  }
 ],
 "metadata": {
  "kernelspec": {
   "display_name": "Python 3 (ipykernel)",
   "language": "python",
   "name": "python3"
  },
  "language_info": {
   "codemirror_mode": {
    "name": "ipython",
    "version": 3
   },
   "file_extension": ".py",
   "mimetype": "text/x-python",
   "name": "python",
   "nbconvert_exporter": "python",
   "pygments_lexer": "ipython3",
   "version": "3.11.4"
  }
 },
 "nbformat": 4,
 "nbformat_minor": 5
}
