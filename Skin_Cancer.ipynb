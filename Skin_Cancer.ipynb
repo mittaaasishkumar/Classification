{
  "cells": [
    {
      "cell_type": "markdown",
      "metadata": {
        "id": "view-in-github",
        "colab_type": "text"
      },
      "source": [
        "<a href=\"https://colab.research.google.com/github/mittaaasishkumar/Classification_ML/blob/main/Skin_Cancer.ipynb\" target=\"_parent\"><img src=\"https://colab.research.google.com/assets/colab-badge.svg\" alt=\"Open In Colab\"/></a>"
      ]
    },
    {
      "cell_type": "code",
      "execution_count": 1,
      "id": "b21f0530",
      "metadata": {
        "id": "b21f0530"
      },
      "outputs": [],
      "source": [
        "import numpy as np\n",
        "import pandas as pd\n",
        "import matplotlib.pyplot as plt\n",
        "import seaborn as sns\n",
        "\n",
        "import warnings\n",
        "warnings.filterwarnings('ignore')"
      ]
    },
    {
      "cell_type": "code",
      "execution_count": null,
      "id": "36fcd975",
      "metadata": {
        "id": "36fcd975",
        "outputId": "4343e57d-d560-41ca-ab5d-9c2efccca49f"
      },
      "outputs": [
        {
          "data": {
            "text/html": [
              "<div>\n",
              "<style scoped>\n",
              "    .dataframe tbody tr th:only-of-type {\n",
              "        vertical-align: middle;\n",
              "    }\n",
              "\n",
              "    .dataframe tbody tr th {\n",
              "        vertical-align: top;\n",
              "    }\n",
              "\n",
              "    .dataframe thead th {\n",
              "        text-align: right;\n",
              "    }\n",
              "</style>\n",
              "<table border=\"1\" class=\"dataframe\">\n",
              "  <thead>\n",
              "    <tr style=\"text-align: right;\">\n",
              "      <th></th>\n",
              "      <th>patient_id</th>\n",
              "      <th>lesion_id</th>\n",
              "      <th>smoke</th>\n",
              "      <th>drink</th>\n",
              "      <th>background_father</th>\n",
              "      <th>background_mother</th>\n",
              "      <th>age</th>\n",
              "      <th>pesticide</th>\n",
              "      <th>gender</th>\n",
              "      <th>skin_cancer_history</th>\n",
              "      <th>...</th>\n",
              "      <th>diameter_2</th>\n",
              "      <th>diagnostic</th>\n",
              "      <th>itch</th>\n",
              "      <th>grew</th>\n",
              "      <th>hurt</th>\n",
              "      <th>changed</th>\n",
              "      <th>bleed</th>\n",
              "      <th>elevation</th>\n",
              "      <th>img_id</th>\n",
              "      <th>biopsed</th>\n",
              "    </tr>\n",
              "  </thead>\n",
              "  <tbody>\n",
              "    <tr>\n",
              "      <th>0</th>\n",
              "      <td>PAT_1516</td>\n",
              "      <td>1765</td>\n",
              "      <td>NaN</td>\n",
              "      <td>NaN</td>\n",
              "      <td>NaN</td>\n",
              "      <td>NaN</td>\n",
              "      <td>8</td>\n",
              "      <td>NaN</td>\n",
              "      <td>NaN</td>\n",
              "      <td>NaN</td>\n",
              "      <td>...</td>\n",
              "      <td>NaN</td>\n",
              "      <td>NEV</td>\n",
              "      <td>FALSE</td>\n",
              "      <td>FALSE</td>\n",
              "      <td>FALSE</td>\n",
              "      <td>FALSE</td>\n",
              "      <td>FALSE</td>\n",
              "      <td>FALSE</td>\n",
              "      <td>PAT_1516_1765_530.png</td>\n",
              "      <td>False</td>\n",
              "    </tr>\n",
              "    <tr>\n",
              "      <th>1</th>\n",
              "      <td>PAT_46</td>\n",
              "      <td>881</td>\n",
              "      <td>False</td>\n",
              "      <td>False</td>\n",
              "      <td>POMERANIA</td>\n",
              "      <td>POMERANIA</td>\n",
              "      <td>55</td>\n",
              "      <td>False</td>\n",
              "      <td>FEMALE</td>\n",
              "      <td>True</td>\n",
              "      <td>...</td>\n",
              "      <td>5.0</td>\n",
              "      <td>BCC</td>\n",
              "      <td>TRUE</td>\n",
              "      <td>TRUE</td>\n",
              "      <td>FALSE</td>\n",
              "      <td>TRUE</td>\n",
              "      <td>TRUE</td>\n",
              "      <td>TRUE</td>\n",
              "      <td>PAT_46_881_939.png</td>\n",
              "      <td>True</td>\n",
              "    </tr>\n",
              "    <tr>\n",
              "      <th>2</th>\n",
              "      <td>PAT_1545</td>\n",
              "      <td>1867</td>\n",
              "      <td>NaN</td>\n",
              "      <td>NaN</td>\n",
              "      <td>NaN</td>\n",
              "      <td>NaN</td>\n",
              "      <td>77</td>\n",
              "      <td>NaN</td>\n",
              "      <td>NaN</td>\n",
              "      <td>NaN</td>\n",
              "      <td>...</td>\n",
              "      <td>NaN</td>\n",
              "      <td>ACK</td>\n",
              "      <td>TRUE</td>\n",
              "      <td>FALSE</td>\n",
              "      <td>FALSE</td>\n",
              "      <td>FALSE</td>\n",
              "      <td>FALSE</td>\n",
              "      <td>FALSE</td>\n",
              "      <td>PAT_1545_1867_547.png</td>\n",
              "      <td>False</td>\n",
              "    </tr>\n",
              "    <tr>\n",
              "      <th>3</th>\n",
              "      <td>PAT_1989</td>\n",
              "      <td>4061</td>\n",
              "      <td>NaN</td>\n",
              "      <td>NaN</td>\n",
              "      <td>NaN</td>\n",
              "      <td>NaN</td>\n",
              "      <td>75</td>\n",
              "      <td>NaN</td>\n",
              "      <td>NaN</td>\n",
              "      <td>NaN</td>\n",
              "      <td>...</td>\n",
              "      <td>NaN</td>\n",
              "      <td>ACK</td>\n",
              "      <td>TRUE</td>\n",
              "      <td>FALSE</td>\n",
              "      <td>FALSE</td>\n",
              "      <td>FALSE</td>\n",
              "      <td>FALSE</td>\n",
              "      <td>FALSE</td>\n",
              "      <td>PAT_1989_4061_934.png</td>\n",
              "      <td>False</td>\n",
              "    </tr>\n",
              "    <tr>\n",
              "      <th>4</th>\n",
              "      <td>PAT_684</td>\n",
              "      <td>1302</td>\n",
              "      <td>False</td>\n",
              "      <td>True</td>\n",
              "      <td>POMERANIA</td>\n",
              "      <td>POMERANIA</td>\n",
              "      <td>79</td>\n",
              "      <td>False</td>\n",
              "      <td>MALE</td>\n",
              "      <td>True</td>\n",
              "      <td>...</td>\n",
              "      <td>5.0</td>\n",
              "      <td>BCC</td>\n",
              "      <td>TRUE</td>\n",
              "      <td>TRUE</td>\n",
              "      <td>FALSE</td>\n",
              "      <td>FALSE</td>\n",
              "      <td>TRUE</td>\n",
              "      <td>TRUE</td>\n",
              "      <td>PAT_684_1302_588.png</td>\n",
              "      <td>True</td>\n",
              "    </tr>\n",
              "  </tbody>\n",
              "</table>\n",
              "<p>5 rows × 26 columns</p>\n",
              "</div>"
            ],
            "text/plain": [
              "  patient_id  lesion_id  smoke  drink background_father background_mother  \\\n",
              "0   PAT_1516       1765    NaN    NaN               NaN               NaN   \n",
              "1     PAT_46        881  False  False         POMERANIA         POMERANIA   \n",
              "2   PAT_1545       1867    NaN    NaN               NaN               NaN   \n",
              "3   PAT_1989       4061    NaN    NaN               NaN               NaN   \n",
              "4    PAT_684       1302  False   True         POMERANIA         POMERANIA   \n",
              "\n",
              "   age pesticide  gender skin_cancer_history  ... diameter_2 diagnostic  \\\n",
              "0    8       NaN     NaN                 NaN  ...        NaN        NEV   \n",
              "1   55     False  FEMALE                True  ...        5.0        BCC   \n",
              "2   77       NaN     NaN                 NaN  ...        NaN        ACK   \n",
              "3   75       NaN     NaN                 NaN  ...        NaN        ACK   \n",
              "4   79     False    MALE                True  ...        5.0        BCC   \n",
              "\n",
              "    itch   grew   hurt  changed  bleed elevation                 img_id  \\\n",
              "0  FALSE  FALSE  FALSE    FALSE  FALSE     FALSE  PAT_1516_1765_530.png   \n",
              "1   TRUE   TRUE  FALSE     TRUE   TRUE      TRUE     PAT_46_881_939.png   \n",
              "2   TRUE  FALSE  FALSE    FALSE  FALSE     FALSE  PAT_1545_1867_547.png   \n",
              "3   TRUE  FALSE  FALSE    FALSE  FALSE     FALSE  PAT_1989_4061_934.png   \n",
              "4   TRUE   TRUE  FALSE    FALSE   TRUE      TRUE   PAT_684_1302_588.png   \n",
              "\n",
              "  biopsed  \n",
              "0   False  \n",
              "1    True  \n",
              "2   False  \n",
              "3   False  \n",
              "4    True  \n",
              "\n",
              "[5 rows x 26 columns]"
            ]
          },
          "execution_count": 2,
          "metadata": {},
          "output_type": "execute_result"
        }
      ],
      "source": [
        "data=pd.read_csv(\"skincancer.csv\")\n",
        "data.head()"
      ]
    },
    {
      "cell_type": "code",
      "execution_count": null,
      "id": "625cf2e3",
      "metadata": {
        "id": "625cf2e3"
      },
      "outputs": [],
      "source": []
    },
    {
      "cell_type": "code",
      "execution_count": null,
      "id": "3809453c",
      "metadata": {
        "id": "3809453c"
      },
      "outputs": [],
      "source": [
        "#df_combined = pd.concat([df1,data], ignore_index=True)\n",
        "#df_combined.head()"
      ]
    },
    {
      "cell_type": "code",
      "execution_count": null,
      "id": "feb1478a",
      "metadata": {
        "id": "feb1478a"
      },
      "outputs": [],
      "source": [
        "#import io\n",
        "#import base64\n",
        "\n",
        "# Create a BytesIO object to hold the DataFrame in CSV format\n",
        "#csv_buffer = io.BytesIO()\n",
        "#df_combined.to_csv(csv_buffer, index=False)  # Export to CSV without index\n",
        "\n",
        "# Encode the CSV data in base64\n",
        "#encoded_data = base64.b64encode(csv_buffer.getvalue()).decode('utf-8')\n",
        "\n",
        "# Generate the download link (replace 'your_filename.csv' with your desired name)\n",
        "#download_link = f'<a href=\"data:application/csv;base64,{encoded_data}\" download=\"data1.csv\">Download CSV</a>'\n",
        "\n",
        "# Display the download link in your Jupyter Notebook cell using HTML\n",
        "#from IPython.display import HTML\n",
        "#display(HTML(download_link))\n"
      ]
    },
    {
      "cell_type": "code",
      "execution_count": null,
      "id": "7b1cbbe3",
      "metadata": {
        "id": "7b1cbbe3",
        "outputId": "d04a0d35-ee28-4878-bc7a-cf1385f1ed72"
      },
      "outputs": [
        {
          "name": "stdout",
          "output_type": "stream",
          "text": [
            "<class 'pandas.core.frame.DataFrame'>\n",
            "RangeIndex: 2298 entries, 0 to 2297\n",
            "Data columns (total 26 columns):\n",
            " #   Column               Non-Null Count  Dtype  \n",
            "---  ------               --------------  -----  \n",
            " 0   patient_id           2298 non-null   object \n",
            " 1   lesion_id            2298 non-null   int64  \n",
            " 2   smoke                1494 non-null   object \n",
            " 3   drink                1494 non-null   object \n",
            " 4   background_father    1480 non-null   object \n",
            " 5   background_mother    1476 non-null   object \n",
            " 6   age                  2298 non-null   int64  \n",
            " 7   pesticide            1494 non-null   object \n",
            " 8   gender               1494 non-null   object \n",
            " 9   skin_cancer_history  1494 non-null   object \n",
            " 10  cancer_history       1494 non-null   object \n",
            " 11  has_piped_water      1494 non-null   object \n",
            " 12  has_sewage_system    1494 non-null   object \n",
            " 13  fitspatrick          1494 non-null   float64\n",
            " 14  region               2298 non-null   object \n",
            " 15  diameter_1           1494 non-null   float64\n",
            " 16  diameter_2           1494 non-null   float64\n",
            " 17  diagnostic           2298 non-null   object \n",
            " 18  itch                 2298 non-null   object \n",
            " 19  grew                 2298 non-null   object \n",
            " 20  hurt                 2298 non-null   object \n",
            " 21  changed              2298 non-null   object \n",
            " 22  bleed                2298 non-null   object \n",
            " 23  elevation            2298 non-null   object \n",
            " 24  img_id               2298 non-null   object \n",
            " 25  biopsed              2298 non-null   bool   \n",
            "dtypes: bool(1), float64(3), int64(2), object(20)\n",
            "memory usage: 451.2+ KB\n"
          ]
        }
      ],
      "source": [
        "data.info()"
      ]
    },
    {
      "cell_type": "code",
      "execution_count": null,
      "id": "51ff4ac5",
      "metadata": {
        "id": "51ff4ac5",
        "outputId": "f54e0aab-bd4b-401c-fdc7-049da1bbd3e1"
      },
      "outputs": [
        {
          "data": {
            "text/plain": [
              "Index(['patient_id', 'lesion_id', 'smoke', 'drink', 'background_father',\n",
              "       'background_mother', 'age', 'pesticide', 'gender',\n",
              "       'skin_cancer_history', 'cancer_history', 'has_piped_water',\n",
              "       'has_sewage_system', 'fitspatrick', 'region', 'diameter_1',\n",
              "       'diameter_2', 'diagnostic', 'itch', 'grew', 'hurt', 'changed', 'bleed',\n",
              "       'elevation', 'img_id', 'biopsed'],\n",
              "      dtype='object')"
            ]
          },
          "execution_count": 6,
          "metadata": {},
          "output_type": "execute_result"
        }
      ],
      "source": [
        "data.columns"
      ]
    },
    {
      "cell_type": "code",
      "execution_count": null,
      "id": "54c887a3",
      "metadata": {
        "id": "54c887a3",
        "outputId": "3598953f-9443-4bae-919e-90fdd2034424"
      },
      "outputs": [
        {
          "data": {
            "text/plain": [
              "2298"
            ]
          },
          "execution_count": 7,
          "metadata": {},
          "output_type": "execute_result"
        }
      ],
      "source": [
        "len(data)"
      ]
    },
    {
      "cell_type": "markdown",
      "id": "f53703b6",
      "metadata": {
        "id": "f53703b6"
      },
      "source": [
        "## Data Understanding"
      ]
    },
    {
      "cell_type": "code",
      "execution_count": null,
      "id": "21532d46",
      "metadata": {
        "id": "21532d46",
        "outputId": "e644964c-ba9e-4c67-ecb1-46a6f0c71a05"
      },
      "outputs": [
        {
          "data": {
            "text/plain": [
              "1373"
            ]
          },
          "execution_count": 8,
          "metadata": {},
          "output_type": "execute_result"
        }
      ],
      "source": [
        "data['patient_id'].nunique()"
      ]
    },
    {
      "cell_type": "code",
      "execution_count": null,
      "id": "7c1114b7",
      "metadata": {
        "id": "7c1114b7",
        "outputId": "3cb38311-332c-4a43-abcf-9e7f86a2d66f"
      },
      "outputs": [
        {
          "data": {
            "text/plain": [
              "1641"
            ]
          },
          "execution_count": 9,
          "metadata": {},
          "output_type": "execute_result"
        }
      ],
      "source": [
        "data['lesion_id'].nunique()"
      ]
    },
    {
      "cell_type": "code",
      "execution_count": null,
      "id": "f84df68d",
      "metadata": {
        "id": "f84df68d",
        "outputId": "3bf7a7b6-db86-4450-bf4a-2af61a3abff1"
      },
      "outputs": [
        {
          "data": {
            "text/plain": [
              "array([1765,  881, 1867, ...,  934, 3156, 3189], dtype=int64)"
            ]
          },
          "execution_count": 10,
          "metadata": {},
          "output_type": "execute_result"
        }
      ],
      "source": [
        "data['lesion_id'].unique()"
      ]
    },
    {
      "cell_type": "code",
      "execution_count": null,
      "id": "6ccc9c13",
      "metadata": {
        "id": "6ccc9c13",
        "outputId": "2e0fea3d-af12-4360-d223-a005c86e4edc"
      },
      "outputs": [
        {
          "data": {
            "text/plain": [
              "array([nan, False, True], dtype=object)"
            ]
          },
          "execution_count": 11,
          "metadata": {},
          "output_type": "execute_result"
        }
      ],
      "source": [
        "data['smoke'].unique()"
      ]
    },
    {
      "cell_type": "code",
      "execution_count": null,
      "id": "d637b6df",
      "metadata": {
        "id": "d637b6df",
        "outputId": "5bdfa28f-ec23-4108-d417-1f25c7b21bba"
      },
      "outputs": [
        {
          "data": {
            "text/plain": [
              "False    1292\n",
              "True      202\n",
              "Name: smoke, dtype: int64"
            ]
          },
          "execution_count": 12,
          "metadata": {},
          "output_type": "execute_result"
        }
      ],
      "source": [
        "data['smoke'].value_counts()"
      ]
    },
    {
      "cell_type": "code",
      "execution_count": null,
      "id": "43b5f9c0",
      "metadata": {
        "id": "43b5f9c0",
        "outputId": "b4f72a08-487c-4b45-9923-dae0b8fd6d23"
      },
      "outputs": [
        {
          "data": {
            "text/plain": [
              "array([nan, False, True], dtype=object)"
            ]
          },
          "execution_count": 13,
          "metadata": {},
          "output_type": "execute_result"
        }
      ],
      "source": [
        "data['drink'].unique()"
      ]
    },
    {
      "cell_type": "code",
      "execution_count": null,
      "id": "2c0cdf70",
      "metadata": {
        "id": "2c0cdf70",
        "outputId": "c8e668cd-8488-4cae-aa4e-6de42cef0ae9"
      },
      "outputs": [
        {
          "data": {
            "text/plain": [
              "False    1126\n",
              "True      368\n",
              "Name: drink, dtype: int64"
            ]
          },
          "execution_count": 14,
          "metadata": {},
          "output_type": "execute_result"
        }
      ],
      "source": [
        "data['drink'].value_counts()"
      ]
    },
    {
      "cell_type": "code",
      "execution_count": null,
      "id": "9c699a82",
      "metadata": {
        "id": "9c699a82",
        "outputId": "a2236f1b-b9eb-4496-e624-1693667aa8a2"
      },
      "outputs": [
        {
          "data": {
            "text/plain": [
              "array(['ARM', 'NECK', 'FACE', 'HAND', 'FOREARM', 'CHEST', 'NOSE', 'THIGH',\n",
              "       'SCALP', 'EAR', 'BACK', 'FOOT', 'ABDOMEN', 'LIP'], dtype=object)"
            ]
          },
          "execution_count": 15,
          "metadata": {},
          "output_type": "execute_result"
        }
      ],
      "source": [
        "data['region'].unique()"
      ]
    },
    {
      "cell_type": "code",
      "execution_count": null,
      "id": "86ac5c5f",
      "metadata": {
        "id": "86ac5c5f",
        "outputId": "e128fc8e-e403-436f-d661-fbacc9cd5fe7"
      },
      "outputs": [
        {
          "data": {
            "text/plain": [
              "FACE       570\n",
              "FOREARM    392\n",
              "CHEST      280\n",
              "BACK       248\n",
              "ARM        192\n",
              "NOSE       158\n",
              "HAND       126\n",
              "NECK        93\n",
              "THIGH       73\n",
              "EAR         73\n",
              "ABDOMEN     36\n",
              "LIP         23\n",
              "SCALP       18\n",
              "FOOT        16\n",
              "Name: region, dtype: int64"
            ]
          },
          "execution_count": 16,
          "metadata": {},
          "output_type": "execute_result"
        }
      ],
      "source": [
        "data['region'].value_counts()"
      ]
    },
    {
      "cell_type": "code",
      "execution_count": null,
      "id": "66a88038",
      "metadata": {
        "id": "66a88038",
        "outputId": "ace6c007-9ec5-42d4-d106-31ba432cdfb2"
      },
      "outputs": [
        {
          "data": {
            "text/plain": [
              "array(['NEV', 'BCC', 'ACK', 'SEK', 'SCC', 'MEL'], dtype=object)"
            ]
          },
          "execution_count": 17,
          "metadata": {},
          "output_type": "execute_result"
        }
      ],
      "source": [
        "data['diagnostic'].unique()"
      ]
    },
    {
      "cell_type": "code",
      "execution_count": null,
      "id": "ab76832b",
      "metadata": {
        "id": "ab76832b",
        "outputId": "4d6a5056-774a-4893-a883-149c5f8e46af"
      },
      "outputs": [
        {
          "data": {
            "text/plain": [
              "BCC    845\n",
              "ACK    730\n",
              "NEV    244\n",
              "SEK    235\n",
              "SCC    192\n",
              "MEL     52\n",
              "Name: diagnostic, dtype: int64"
            ]
          },
          "execution_count": 18,
          "metadata": {},
          "output_type": "execute_result"
        }
      ],
      "source": [
        "data['diagnostic'].value_counts()"
      ]
    },
    {
      "cell_type": "code",
      "execution_count": null,
      "id": "1bd9a438",
      "metadata": {
        "id": "1bd9a438",
        "outputId": "a8fe365d-9d5c-45ce-e651-44c761d10f8c"
      },
      "outputs": [
        {
          "data": {
            "text/plain": [
              "array(['FALSE', 'TRUE', 'UNK'], dtype=object)"
            ]
          },
          "execution_count": 19,
          "metadata": {},
          "output_type": "execute_result"
        }
      ],
      "source": [
        "data['itch'].unique()"
      ]
    },
    {
      "cell_type": "code",
      "execution_count": null,
      "id": "3d6055d4",
      "metadata": {
        "id": "3d6055d4",
        "outputId": "2529ddc0-850f-48b0-a353-da569c9d12a9"
      },
      "outputs": [
        {
          "data": {
            "text/plain": [
              "TRUE     1455\n",
              "FALSE     837\n",
              "UNK         6\n",
              "Name: itch, dtype: int64"
            ]
          },
          "execution_count": 20,
          "metadata": {},
          "output_type": "execute_result"
        }
      ],
      "source": [
        "data['itch'].value_counts()"
      ]
    },
    {
      "cell_type": "code",
      "execution_count": null,
      "id": "e3e0bb93",
      "metadata": {
        "id": "e3e0bb93",
        "outputId": "be5f2abe-d87c-4102-da7b-3bbaa7394f8c"
      },
      "outputs": [
        {
          "data": {
            "text/plain": [
              "array(['FALSE', 'TRUE', 'UNK'], dtype=object)"
            ]
          },
          "execution_count": 21,
          "metadata": {},
          "output_type": "execute_result"
        }
      ],
      "source": [
        "data['grew'].unique()"
      ]
    },
    {
      "cell_type": "code",
      "execution_count": null,
      "id": "6188b876",
      "metadata": {
        "id": "6188b876",
        "outputId": "492fbd7e-2563-4d19-d982-91416c7e9a35"
      },
      "outputs": [
        {
          "data": {
            "text/plain": [
              "FALSE    971\n",
              "TRUE     925\n",
              "UNK      402\n",
              "Name: grew, dtype: int64"
            ]
          },
          "execution_count": 22,
          "metadata": {},
          "output_type": "execute_result"
        }
      ],
      "source": [
        "data['grew'].value_counts()"
      ]
    },
    {
      "cell_type": "code",
      "execution_count": null,
      "id": "6ae1ad4f",
      "metadata": {
        "id": "6ae1ad4f",
        "outputId": "40be1bf5-8518-45b0-a114-8f6806b855ad"
      },
      "outputs": [
        {
          "data": {
            "text/plain": [
              "array(['FALSE', 'TRUE', 'UNK'], dtype=object)"
            ]
          },
          "execution_count": 23,
          "metadata": {},
          "output_type": "execute_result"
        }
      ],
      "source": [
        "data['hurt'].unique()"
      ]
    },
    {
      "cell_type": "code",
      "execution_count": null,
      "id": "1886be0a",
      "metadata": {
        "id": "1886be0a",
        "outputId": "a7799bb3-86f5-4b5b-b745-632e444f771a"
      },
      "outputs": [
        {
          "data": {
            "text/plain": [
              "FALSE    1891\n",
              "TRUE      397\n",
              "UNK        10\n",
              "Name: hurt, dtype: int64"
            ]
          },
          "execution_count": 24,
          "metadata": {},
          "output_type": "execute_result"
        }
      ],
      "source": [
        "data['hurt'].value_counts()"
      ]
    },
    {
      "cell_type": "code",
      "execution_count": null,
      "id": "9d8b5fa9",
      "metadata": {
        "id": "9d8b5fa9",
        "outputId": "7c14135f-ab14-4b39-f9ea-cdb1404a1310"
      },
      "outputs": [
        {
          "data": {
            "text/plain": [
              "array(['FALSE', 'TRUE', 'UNK'], dtype=object)"
            ]
          },
          "execution_count": 25,
          "metadata": {},
          "output_type": "execute_result"
        }
      ],
      "source": [
        "data['changed'].unique()"
      ]
    },
    {
      "cell_type": "code",
      "execution_count": null,
      "id": "ddf70d29",
      "metadata": {
        "id": "ddf70d29",
        "outputId": "85cf3272-f5ca-41b2-9942-c8ffe34422f4"
      },
      "outputs": [
        {
          "data": {
            "text/plain": [
              "FALSE    1700\n",
              "UNK       396\n",
              "TRUE      202\n",
              "Name: changed, dtype: int64"
            ]
          },
          "execution_count": 26,
          "metadata": {},
          "output_type": "execute_result"
        }
      ],
      "source": [
        "data['changed'].value_counts()"
      ]
    },
    {
      "cell_type": "code",
      "execution_count": null,
      "id": "3d981548",
      "metadata": {
        "id": "3d981548",
        "outputId": "7770157d-cf73-4872-aae8-332fb0dfadb4"
      },
      "outputs": [
        {
          "data": {
            "text/plain": [
              "array(['FALSE', 'TRUE', 'UNK'], dtype=object)"
            ]
          },
          "execution_count": 27,
          "metadata": {},
          "output_type": "execute_result"
        }
      ],
      "source": [
        "data['bleed'].unique()"
      ]
    },
    {
      "cell_type": "code",
      "execution_count": null,
      "id": "f02d6bfc",
      "metadata": {
        "id": "f02d6bfc",
        "outputId": "cf4c7d4d-b0a1-4184-9037-a8d04d352953"
      },
      "outputs": [
        {
          "data": {
            "text/plain": [
              "FALSE    1678\n",
              "TRUE      614\n",
              "UNK         6\n",
              "Name: bleed, dtype: int64"
            ]
          },
          "execution_count": 28,
          "metadata": {},
          "output_type": "execute_result"
        }
      ],
      "source": [
        "data['bleed'].value_counts()"
      ]
    },
    {
      "cell_type": "code",
      "execution_count": null,
      "id": "b4bc461f",
      "metadata": {
        "id": "b4bc461f",
        "outputId": "cf96dba1-6018-46c3-a2da-b200d4b5a5cb"
      },
      "outputs": [
        {
          "data": {
            "text/plain": [
              "array(['FALSE', 'TRUE', 'UNK'], dtype=object)"
            ]
          },
          "execution_count": 29,
          "metadata": {},
          "output_type": "execute_result"
        }
      ],
      "source": [
        "data['elevation'].unique()"
      ]
    },
    {
      "cell_type": "code",
      "execution_count": null,
      "id": "40a14c60",
      "metadata": {
        "id": "40a14c60",
        "outputId": "03e0f677-73ce-42bb-f68f-d6f2a7534677"
      },
      "outputs": [
        {
          "data": {
            "text/plain": [
              "TRUE     1433\n",
              "FALSE     863\n",
              "UNK         2\n",
              "Name: elevation, dtype: int64"
            ]
          },
          "execution_count": 30,
          "metadata": {},
          "output_type": "execute_result"
        }
      ],
      "source": [
        "data['elevation'].value_counts()"
      ]
    },
    {
      "cell_type": "code",
      "execution_count": null,
      "id": "1b3391fc",
      "metadata": {
        "id": "1b3391fc"
      },
      "outputs": [],
      "source": [
        "continuous=['lesion_id','age']\n",
        "\n",
        "discrete_cat=['region','diagnostic','itch','grew','hurt','changed',\n",
        "              'bleed','elevation']"
      ]
    },
    {
      "cell_type": "markdown",
      "id": "4053aeeb",
      "metadata": {
        "id": "4053aeeb"
      },
      "source": [
        "## EDA"
      ]
    },
    {
      "cell_type": "code",
      "execution_count": null,
      "id": "3d37192d",
      "metadata": {
        "id": "3d37192d",
        "outputId": "b4fcabb9-3e52-4537-abe6-1465d93c4424"
      },
      "outputs": [
        {
          "data": {
            "text/html": [
              "<div>\n",
              "<style scoped>\n",
              "    .dataframe tbody tr th:only-of-type {\n",
              "        vertical-align: middle;\n",
              "    }\n",
              "\n",
              "    .dataframe tbody tr th {\n",
              "        vertical-align: top;\n",
              "    }\n",
              "\n",
              "    .dataframe thead th {\n",
              "        text-align: right;\n",
              "    }\n",
              "</style>\n",
              "<table border=\"1\" class=\"dataframe\">\n",
              "  <thead>\n",
              "    <tr style=\"text-align: right;\">\n",
              "      <th></th>\n",
              "      <th>lesion_id</th>\n",
              "      <th>age</th>\n",
              "    </tr>\n",
              "  </thead>\n",
              "  <tbody>\n",
              "    <tr>\n",
              "      <th>count</th>\n",
              "      <td>2298.000000</td>\n",
              "      <td>2298.000000</td>\n",
              "    </tr>\n",
              "    <tr>\n",
              "      <th>mean</th>\n",
              "      <td>1529.933856</td>\n",
              "      <td>60.464752</td>\n",
              "    </tr>\n",
              "    <tr>\n",
              "      <th>std</th>\n",
              "      <td>1196.285644</td>\n",
              "      <td>15.894866</td>\n",
              "    </tr>\n",
              "    <tr>\n",
              "      <th>min</th>\n",
              "      <td>6.000000</td>\n",
              "      <td>6.000000</td>\n",
              "    </tr>\n",
              "    <tr>\n",
              "      <th>25%</th>\n",
              "      <td>720.500000</td>\n",
              "      <td>52.000000</td>\n",
              "    </tr>\n",
              "    <tr>\n",
              "      <th>50%</th>\n",
              "      <td>1297.000000</td>\n",
              "      <td>62.000000</td>\n",
              "    </tr>\n",
              "    <tr>\n",
              "      <th>75%</th>\n",
              "      <td>1782.750000</td>\n",
              "      <td>72.000000</td>\n",
              "    </tr>\n",
              "    <tr>\n",
              "      <th>max</th>\n",
              "      <td>4820.000000</td>\n",
              "      <td>94.000000</td>\n",
              "    </tr>\n",
              "  </tbody>\n",
              "</table>\n",
              "</div>"
            ],
            "text/plain": [
              "         lesion_id          age\n",
              "count  2298.000000  2298.000000\n",
              "mean   1529.933856    60.464752\n",
              "std    1196.285644    15.894866\n",
              "min       6.000000     6.000000\n",
              "25%     720.500000    52.000000\n",
              "50%    1297.000000    62.000000\n",
              "75%    1782.750000    72.000000\n",
              "max    4820.000000    94.000000"
            ]
          },
          "execution_count": 32,
          "metadata": {},
          "output_type": "execute_result"
        }
      ],
      "source": [
        "data[continuous].describe()"
      ]
    },
    {
      "cell_type": "code",
      "execution_count": null,
      "id": "f49f5a4a",
      "metadata": {
        "id": "f49f5a4a",
        "outputId": "39ceafd0-d258-4166-cd2e-91c31bf71e6d"
      },
      "outputs": [
        {
          "data": {
            "text/plain": [
              "<Axes: xlabel='lesion_id', ylabel='Count'>"
            ]
          },
          "execution_count": 33,
          "metadata": {},
          "output_type": "execute_result"
        },
        {
          "data": {
            "image/png": "[encoded data removed]",
            "text/plain": [
              "<Figure size 1800x800 with 2 Axes>"
            ]
          },
          "metadata": {},
          "output_type": "display_data"
        }
      ],
      "source": [
        "plt.rcParams['figure.figsize']=(18,8)\n",
        "plt.subplot(1,2,1)\n",
        "sns.histplot(data['age'],kde=True)\n",
        "\n",
        "plt.subplot(1,2,2)\n",
        "sns.histplot(data['lesion_id'],kde=True)"
      ]
    },
    {
      "cell_type": "code",
      "execution_count": null,
      "id": "2528e258",
      "metadata": {
        "id": "2528e258",
        "outputId": "34ca0c09-ad4c-4c38-f9e5-6985daedd171"
      },
      "outputs": [
        {
          "data": {
            "text/plain": [
              "lesion_id    1.097282\n",
              "age         -0.615305\n",
              "dtype: float64"
            ]
          },
          "execution_count": 34,
          "metadata": {},
          "output_type": "execute_result"
        }
      ],
      "source": [
        "data[continuous].skew()"
      ]
    },
    {
      "cell_type": "code",
      "execution_count": null,
      "id": "df948380",
      "metadata": {
        "id": "df948380",
        "outputId": "9f9f1454-3c90-4e86-eecf-0acffa2d3c9b"
      },
      "outputs": [
        {
          "data": {
            "text/plain": [
              "<Axes: >"
            ]
          },
          "execution_count": 35,
          "metadata": {},
          "output_type": "execute_result"
        },
        {
          "data": {
            "image/png": "[encoded data removed]",
            "text/plain": [
              "<Figure size 1800x800 with 2 Axes>"
            ]
          },
          "metadata": {},
          "output_type": "display_data"
        }
      ],
      "source": [
        "sns.heatmap(data[continuous].corr(),annot=True)"
      ]
    },
    {
      "cell_type": "code",
      "execution_count": null,
      "id": "115a0672",
      "metadata": {
        "id": "115a0672",
        "outputId": "bb6821fa-5675-426e-d461-29217277fb0e"
      },
      "outputs": [
        {
          "data": {
            "text/html": [
              "<div>\n",
              "<style scoped>\n",
              "    .dataframe tbody tr th:only-of-type {\n",
              "        vertical-align: middle;\n",
              "    }\n",
              "\n",
              "    .dataframe tbody tr th {\n",
              "        vertical-align: top;\n",
              "    }\n",
              "\n",
              "    .dataframe thead th {\n",
              "        text-align: right;\n",
              "    }\n",
              "</style>\n",
              "<table border=\"1\" class=\"dataframe\">\n",
              "  <thead>\n",
              "    <tr style=\"text-align: right;\">\n",
              "      <th></th>\n",
              "      <th>region</th>\n",
              "      <th>diagnostic</th>\n",
              "      <th>itch</th>\n",
              "      <th>grew</th>\n",
              "      <th>hurt</th>\n",
              "      <th>changed</th>\n",
              "      <th>bleed</th>\n",
              "      <th>elevation</th>\n",
              "    </tr>\n",
              "  </thead>\n",
              "  <tbody>\n",
              "    <tr>\n",
              "      <th>count</th>\n",
              "      <td>2298</td>\n",
              "      <td>2298</td>\n",
              "      <td>2298</td>\n",
              "      <td>2298</td>\n",
              "      <td>2298</td>\n",
              "      <td>2298</td>\n",
              "      <td>2298</td>\n",
              "      <td>2298</td>\n",
              "    </tr>\n",
              "    <tr>\n",
              "      <th>unique</th>\n",
              "      <td>14</td>\n",
              "      <td>6</td>\n",
              "      <td>3</td>\n",
              "      <td>3</td>\n",
              "      <td>3</td>\n",
              "      <td>3</td>\n",
              "      <td>3</td>\n",
              "      <td>3</td>\n",
              "    </tr>\n",
              "    <tr>\n",
              "      <th>top</th>\n",
              "      <td>FACE</td>\n",
              "      <td>BCC</td>\n",
              "      <td>TRUE</td>\n",
              "      <td>FALSE</td>\n",
              "      <td>FALSE</td>\n",
              "      <td>FALSE</td>\n",
              "      <td>FALSE</td>\n",
              "      <td>TRUE</td>\n",
              "    </tr>\n",
              "    <tr>\n",
              "      <th>freq</th>\n",
              "      <td>570</td>\n",
              "      <td>845</td>\n",
              "      <td>1455</td>\n",
              "      <td>971</td>\n",
              "      <td>1891</td>\n",
              "      <td>1700</td>\n",
              "      <td>1678</td>\n",
              "      <td>1433</td>\n",
              "    </tr>\n",
              "  </tbody>\n",
              "</table>\n",
              "</div>"
            ],
            "text/plain": [
              "       region diagnostic  itch   grew   hurt changed  bleed elevation\n",
              "count    2298       2298  2298   2298   2298    2298   2298      2298\n",
              "unique     14          6     3      3      3       3      3         3\n",
              "top      FACE        BCC  TRUE  FALSE  FALSE   FALSE  FALSE      TRUE\n",
              "freq      570        845  1455    971   1891    1700   1678      1433"
            ]
          },
          "execution_count": 36,
          "metadata": {},
          "output_type": "execute_result"
        }
      ],
      "source": [
        "data[discrete_cat].describe()"
      ]
    },
    {
      "cell_type": "markdown",
      "id": "eb18c8cf",
      "metadata": {
        "id": "eb18c8cf"
      },
      "source": [
        "## Data Cleaning"
      ]
    },
    {
      "cell_type": "code",
      "execution_count": null,
      "id": "b4e357e7",
      "metadata": {
        "id": "b4e357e7",
        "outputId": "a642f39f-bb6f-4582-d839-5b231b69d6a2"
      },
      "outputs": [
        {
          "data": {
            "text/html": [
              "<div>\n",
              "<style scoped>\n",
              "    .dataframe tbody tr th:only-of-type {\n",
              "        vertical-align: middle;\n",
              "    }\n",
              "\n",
              "    .dataframe tbody tr th {\n",
              "        vertical-align: top;\n",
              "    }\n",
              "\n",
              "    .dataframe thead th {\n",
              "        text-align: right;\n",
              "    }\n",
              "</style>\n",
              "<table border=\"1\" class=\"dataframe\">\n",
              "  <thead>\n",
              "    <tr style=\"text-align: right;\">\n",
              "      <th></th>\n",
              "      <th>age</th>\n",
              "      <th>region</th>\n",
              "      <th>diagnostic</th>\n",
              "      <th>itch</th>\n",
              "      <th>grew</th>\n",
              "      <th>hurt</th>\n",
              "      <th>changed</th>\n",
              "      <th>bleed</th>\n",
              "      <th>elevation</th>\n",
              "    </tr>\n",
              "  </thead>\n",
              "  <tbody>\n",
              "    <tr>\n",
              "      <th>0</th>\n",
              "      <td>8</td>\n",
              "      <td>ARM</td>\n",
              "      <td>NEV</td>\n",
              "      <td>FALSE</td>\n",
              "      <td>FALSE</td>\n",
              "      <td>FALSE</td>\n",
              "      <td>FALSE</td>\n",
              "      <td>FALSE</td>\n",
              "      <td>FALSE</td>\n",
              "    </tr>\n",
              "    <tr>\n",
              "      <th>1</th>\n",
              "      <td>55</td>\n",
              "      <td>NECK</td>\n",
              "      <td>BCC</td>\n",
              "      <td>TRUE</td>\n",
              "      <td>TRUE</td>\n",
              "      <td>FALSE</td>\n",
              "      <td>TRUE</td>\n",
              "      <td>TRUE</td>\n",
              "      <td>TRUE</td>\n",
              "    </tr>\n",
              "    <tr>\n",
              "      <th>2</th>\n",
              "      <td>77</td>\n",
              "      <td>FACE</td>\n",
              "      <td>ACK</td>\n",
              "      <td>TRUE</td>\n",
              "      <td>FALSE</td>\n",
              "      <td>FALSE</td>\n",
              "      <td>FALSE</td>\n",
              "      <td>FALSE</td>\n",
              "      <td>FALSE</td>\n",
              "    </tr>\n",
              "    <tr>\n",
              "      <th>3</th>\n",
              "      <td>75</td>\n",
              "      <td>HAND</td>\n",
              "      <td>ACK</td>\n",
              "      <td>TRUE</td>\n",
              "      <td>FALSE</td>\n",
              "      <td>FALSE</td>\n",
              "      <td>FALSE</td>\n",
              "      <td>FALSE</td>\n",
              "      <td>FALSE</td>\n",
              "    </tr>\n",
              "    <tr>\n",
              "      <th>4</th>\n",
              "      <td>79</td>\n",
              "      <td>FOREARM</td>\n",
              "      <td>BCC</td>\n",
              "      <td>TRUE</td>\n",
              "      <td>TRUE</td>\n",
              "      <td>FALSE</td>\n",
              "      <td>FALSE</td>\n",
              "      <td>TRUE</td>\n",
              "      <td>TRUE</td>\n",
              "    </tr>\n",
              "  </tbody>\n",
              "</table>\n",
              "</div>"
            ],
            "text/plain": [
              "   age   region diagnostic   itch   grew   hurt changed  bleed elevation\n",
              "0    8      ARM        NEV  FALSE  FALSE  FALSE   FALSE  FALSE     FALSE\n",
              "1   55     NECK        BCC   TRUE   TRUE  FALSE    TRUE   TRUE      TRUE\n",
              "2   77     FACE        ACK   TRUE  FALSE  FALSE   FALSE  FALSE     FALSE\n",
              "3   75     HAND        ACK   TRUE  FALSE  FALSE   FALSE  FALSE     FALSE\n",
              "4   79  FOREARM        BCC   TRUE   TRUE  FALSE   FALSE   TRUE      TRUE"
            ]
          },
          "execution_count": 37,
          "metadata": {},
          "output_type": "execute_result"
        }
      ],
      "source": [
        "data.drop(['patient_id','lesion_id','smoke','drink','background_father',\n",
        "          'background_mother','pesticide','gender','skin_cancer_history','cancer_history',\n",
        "          'has_piped_water','has_sewage_system','fitspatrick','diameter_1',\n",
        "          'diameter_2','img_id','biopsed'],axis=1,inplace=True)\n",
        "data.head()"
      ]
    },
    {
      "cell_type": "markdown",
      "id": "de32ba73",
      "metadata": {
        "id": "de32ba73"
      },
      "source": [
        "## Missing Values"
      ]
    },
    {
      "cell_type": "code",
      "execution_count": null,
      "id": "f84d7201",
      "metadata": {
        "id": "f84d7201",
        "outputId": "124e7779-9f12-4530-bbf2-b2f36268e142"
      },
      "outputs": [
        {
          "data": {
            "text/plain": [
              "age           0\n",
              "region        0\n",
              "diagnostic    0\n",
              "itch          0\n",
              "grew          0\n",
              "hurt          0\n",
              "changed       0\n",
              "bleed         0\n",
              "elevation     0\n",
              "dtype: int64"
            ]
          },
          "execution_count": 38,
          "metadata": {},
          "output_type": "execute_result"
        }
      ],
      "source": [
        "data.isnull().sum()"
      ]
    },
    {
      "cell_type": "markdown",
      "id": "e2d8c1f1",
      "metadata": {
        "id": "e2d8c1f1"
      },
      "source": [
        "### Encoding"
      ]
    },
    {
      "cell_type": "code",
      "execution_count": null,
      "id": "dcf43977",
      "metadata": {
        "id": "dcf43977"
      },
      "outputs": [],
      "source": [
        "data['region']=data['region'].map({'ARM':0,'NECK':1,'FACE':2,'HAND':3,'FOREARM':4,'CHEST':5,'NOSE':6,'THIGH':7,\n",
        "                                   'SCALP':8,'EAR':9, 'BACK':10,'FOOT':11,'ABDOMEN':12,'LIP':13}).astype('int')\n",
        "data['diagnostic']=data['diagnostic'].map({'NEV':0,'BCC':1,'ACK':2,'SEK':3,'SCC':4,'MEL':5}).astype('int')\n",
        "data['itch']=data['itch'].map({'FALSE':0,'TRUE':1,'UNK':2}).astype('int')\n",
        "data['grew']=data['grew'].map({'FALSE':0,'TRUE':1,'UNK':2}).astype('int')\n",
        "data['hurt']=data['hurt'].map({'FALSE':0,'TRUE':1,'UNK':2}).astype('int')\n",
        "data['changed']=data['changed'].map({'FALSE':0,'TRUE':1,'UNK':2}).astype('int')\n",
        "data['bleed']=data['bleed'].map({'FALSE':0,'TRUE':1,'UNK':2}).astype('int')\n",
        "data['elevation']=data['elevation'].map({'FALSE':0,'TRUE':1,'UNK':2}).astype('int')"
      ]
    },
    {
      "cell_type": "code",
      "execution_count": null,
      "id": "dddbb4a8",
      "metadata": {
        "id": "dddbb4a8",
        "outputId": "f65f2a8e-e16d-47c3-f173-6c488c284ae6"
      },
      "outputs": [
        {
          "data": {
            "text/html": [
              "<div>\n",
              "<style scoped>\n",
              "    .dataframe tbody tr th:only-of-type {\n",
              "        vertical-align: middle;\n",
              "    }\n",
              "\n",
              "    .dataframe tbody tr th {\n",
              "        vertical-align: top;\n",
              "    }\n",
              "\n",
              "    .dataframe thead th {\n",
              "        text-align: right;\n",
              "    }\n",
              "</style>\n",
              "<table border=\"1\" class=\"dataframe\">\n",
              "  <thead>\n",
              "    <tr style=\"text-align: right;\">\n",
              "      <th></th>\n",
              "      <th>age</th>\n",
              "      <th>region</th>\n",
              "      <th>diagnostic</th>\n",
              "      <th>itch</th>\n",
              "      <th>grew</th>\n",
              "      <th>hurt</th>\n",
              "      <th>changed</th>\n",
              "      <th>bleed</th>\n",
              "      <th>elevation</th>\n",
              "    </tr>\n",
              "  </thead>\n",
              "  <tbody>\n",
              "    <tr>\n",
              "      <th>0</th>\n",
              "      <td>8</td>\n",
              "      <td>0</td>\n",
              "      <td>0</td>\n",
              "      <td>0</td>\n",
              "      <td>0</td>\n",
              "      <td>0</td>\n",
              "      <td>0</td>\n",
              "      <td>0</td>\n",
              "      <td>0</td>\n",
              "    </tr>\n",
              "    <tr>\n",
              "      <th>1</th>\n",
              "      <td>55</td>\n",
              "      <td>1</td>\n",
              "      <td>1</td>\n",
              "      <td>1</td>\n",
              "      <td>1</td>\n",
              "      <td>0</td>\n",
              "      <td>1</td>\n",
              "      <td>1</td>\n",
              "      <td>1</td>\n",
              "    </tr>\n",
              "    <tr>\n",
              "      <th>2</th>\n",
              "      <td>77</td>\n",
              "      <td>2</td>\n",
              "      <td>2</td>\n",
              "      <td>1</td>\n",
              "      <td>0</td>\n",
              "      <td>0</td>\n",
              "      <td>0</td>\n",
              "      <td>0</td>\n",
              "      <td>0</td>\n",
              "    </tr>\n",
              "    <tr>\n",
              "      <th>3</th>\n",
              "      <td>75</td>\n",
              "      <td>3</td>\n",
              "      <td>2</td>\n",
              "      <td>1</td>\n",
              "      <td>0</td>\n",
              "      <td>0</td>\n",
              "      <td>0</td>\n",
              "      <td>0</td>\n",
              "      <td>0</td>\n",
              "    </tr>\n",
              "    <tr>\n",
              "      <th>4</th>\n",
              "      <td>79</td>\n",
              "      <td>4</td>\n",
              "      <td>1</td>\n",
              "      <td>1</td>\n",
              "      <td>1</td>\n",
              "      <td>0</td>\n",
              "      <td>0</td>\n",
              "      <td>1</td>\n",
              "      <td>1</td>\n",
              "    </tr>\n",
              "  </tbody>\n",
              "</table>\n",
              "</div>"
            ],
            "text/plain": [
              "   age  region  diagnostic  itch  grew  hurt  changed  bleed  elevation\n",
              "0    8       0           0     0     0     0        0      0          0\n",
              "1   55       1           1     1     1     0        1      1          1\n",
              "2   77       2           2     1     0     0        0      0          0\n",
              "3   75       3           2     1     0     0        0      0          0\n",
              "4   79       4           1     1     1     0        0      1          1"
            ]
          },
          "execution_count": 40,
          "metadata": {},
          "output_type": "execute_result"
        }
      ],
      "source": [
        "data.head()"
      ]
    },
    {
      "cell_type": "markdown",
      "id": "66e7c13e",
      "metadata": {
        "id": "66e7c13e"
      },
      "source": [
        "### Data type conversion"
      ]
    },
    {
      "cell_type": "code",
      "execution_count": null,
      "id": "621db21b",
      "metadata": {
        "id": "621db21b"
      },
      "outputs": [],
      "source": [
        "data['age']=data['age'].astype('int')"
      ]
    },
    {
      "cell_type": "code",
      "execution_count": null,
      "id": "967a9f58",
      "metadata": {
        "id": "967a9f58"
      },
      "outputs": [],
      "source": [
        "X=data.drop('diagnostic',axis=1) #Train Data\n",
        "y=data['diagnostic'] #Test Data"
      ]
    },
    {
      "cell_type": "code",
      "execution_count": null,
      "id": "b215abe1",
      "metadata": {
        "id": "b215abe1",
        "outputId": "41eeed4a-be5b-4845-e88b-5f206878df90"
      },
      "outputs": [
        {
          "name": "stdout",
          "output_type": "stream",
          "text": [
            "{0, 1, 2, 3, 4, 5}\n"
          ]
        }
      ],
      "source": [
        "print(set(y))"
      ]
    },
    {
      "cell_type": "markdown",
      "id": "ff4d30c7",
      "metadata": {
        "id": "ff4d30c7"
      },
      "source": [
        "### Train-Test Split"
      ]
    },
    {
      "cell_type": "code",
      "execution_count": null,
      "id": "72a66622",
      "metadata": {
        "id": "72a66622"
      },
      "outputs": [],
      "source": [
        "from sklearn.model_selection import train_test_split\n",
        "X_train,X_test,y_train,y_test=train_test_split(X,y,test_size=0.2,random_state=0)"
      ]
    },
    {
      "cell_type": "code",
      "execution_count": null,
      "id": "5a7e5d51",
      "metadata": {
        "id": "5a7e5d51",
        "outputId": "58d0b8d8-5445-4633-93b2-339358b02fe9"
      },
      "outputs": [
        {
          "name": "stdout",
          "output_type": "stream",
          "text": [
            "{0, 1, 2, 3, 4, 5}\n"
          ]
        },
        {
          "data": {
            "text/plain": [
              "1    845\n",
              "2    730\n",
              "0    244\n",
              "3    235\n",
              "4    192\n",
              "5     52\n",
              "Name: diagnostic, dtype: int64"
            ]
          },
          "execution_count": 45,
          "metadata": {},
          "output_type": "execute_result"
        }
      ],
      "source": [
        "print(set(y_train))\n",
        "y.value_counts()"
      ]
    },
    {
      "cell_type": "code",
      "execution_count": null,
      "id": "c85cdb0c",
      "metadata": {
        "id": "c85cdb0c",
        "outputId": "b1182ff3-a7cd-4319-9cb0-863d181d0af6"
      },
      "outputs": [
        {
          "name": "stdout",
          "output_type": "stream",
          "text": [
            "              precision    recall  f1-score   support\n",
            "\n",
            "         NEV       0.64      0.83      0.72        41\n",
            "         BCC       0.80      0.78      0.79       188\n",
            "         ACK       0.79      0.82      0.81       136\n",
            "         SEK       0.66      0.59      0.62        46\n",
            "         SCC       0.53      0.44      0.48        39\n",
            "         MEL       0.70      0.70      0.70        10\n",
            "\n",
            "    accuracy                           0.75       460\n",
            "   macro avg       0.69      0.69      0.69       460\n",
            "weighted avg       0.74      0.75      0.74       460\n",
            "\n"
          ]
        }
      ],
      "source": [
        "from sklearn.metrics import classification_report\n",
        "target_names=['NEV','BCC','ACK','SEK','SCC','MEL']\n",
        "print(classification_report(y_test,ypred_test, target_names=target_names))"
      ]
    },
    {
      "cell_type": "code",
      "execution_count": null,
      "id": "97e2d036",
      "metadata": {
        "id": "97e2d036",
        "outputId": "749e0a4f-a127-4f6c-93c8-36c8e86f7d28"
      },
      "outputs": [
        {
          "data": {
            "text/plain": [
              "array([[ 34,   3,   1,   2,   1,   0],\n",
              "       [  6, 146,  16,  10,   9,   1],\n",
              "       [  7,  13, 112,   2,   2,   0],\n",
              "       [  4,   5,   7,  27,   2,   1],\n",
              "       [  1,  16,   4,   0,  17,   1],\n",
              "       [  1,   0,   1,   0,   1,   7]], dtype=int64)"
            ]
          },
          "execution_count": 48,
          "metadata": {},
          "output_type": "execute_result"
        }
      ],
      "source": [
        "from sklearn.metrics import confusion_matrix\n",
        "confusion_matrix(y_test,ypred_test)"
      ]
    },
    {
      "cell_type": "code",
      "execution_count": null,
      "id": "6ef8276b",
      "metadata": {
        "id": "6ef8276b",
        "outputId": "749a6b03-b497-4f12-ebaa-601e21b65e13"
      },
      "outputs": [
        {
          "name": "stdout",
          "output_type": "stream",
          "text": [
            "WARNING:tensorflow:From C:\\Users\\Mitta Aasish Kumar\\anaconda3\\Lib\\site-packages\\keras\\src\\losses.py:2976: The name tf.losses.sparse_softmax_cross_entropy is deprecated. Please use tf.compat.v1.losses.sparse_softmax_cross_entropy instead.\n",
            "\n",
            "WARNING:tensorflow:From C:\\Users\\Mitta Aasish Kumar\\anaconda3\\Lib\\site-packages\\keras\\src\\backend.py:1398: The name tf.executing_eagerly_outside_functions is deprecated. Please use tf.compat.v1.executing_eagerly_outside_functions instead.\n",
            "\n",
            "WARNING:tensorflow:From C:\\Users\\Mitta Aasish Kumar\\anaconda3\\Lib\\site-packages\\keras\\src\\layers\\pooling\\max_pooling2d.py:161: The name tf.nn.max_pool is deprecated. Please use tf.nn.max_pool2d instead.\n",
            "\n"
          ]
        }
      ],
      "source": [
        "from tensorflow.keras.applications import VGG16\n",
        "from tensorflow.keras.applications.vgg16 import preprocess_input\n",
        "from tensorflow.keras.preprocessing import image\n",
        "from tensorflow.keras.models import Model\n",
        "import numpy as np\n",
        "\n",
        "base_model = VGG16(weights='imagenet', include_top=False)\n",
        "model = Model(inputs=base_model.input, outputs=base_model.get_layer('block5_pool').output)\n"
      ]
    },
    {
      "cell_type": "code",
      "execution_count": null,
      "id": "860224a4",
      "metadata": {
        "id": "860224a4"
      },
      "outputs": [],
      "source": [
        "def extract_features(img_path):\n",
        "    img = image.load_img(img_path, target_size=(224, 224))\n",
        "    img_array = image.img_to_array(img)\n",
        "    img_array = np.expand_dims(img_array, axis=0)\n",
        "    img_array = preprocess_input(img_array)\n",
        "    features = model.predict(img_array)\n",
        "    return features.flatten()\n"
      ]
    },
    {
      "cell_type": "code",
      "execution_count": null,
      "id": "16eeb576",
      "metadata": {
        "id": "16eeb576",
        "outputId": "1522a4f4-f5eb-4b50-ce58-51c1009364f6"
      },
      "outputs": [
        {
          "name": "stdout",
          "output_type": "stream",
          "text": [
            "1/1 [==============================] - 1s 613ms/step\n",
            "1/1 [==============================] - 0s 162ms/step\n",
            "1/1 [==============================] - 0s 173ms/step\n",
            "1/1 [==============================] - 0s 172ms/step\n",
            "1/1 [==============================] - 0s 164ms/step\n",
            "1/1 [==============================] - 0s 173ms/step\n",
            "1/1 [==============================] - 0s 182ms/step\n",
            "1/1 [==============================] - 0s 165ms/step\n",
            "1/1 [==============================] - 0s 159ms/step\n",
            "1/1 [==============================] - 0s 155ms/step\n",
            "1/1 [==============================] - 0s 151ms/step\n",
            "1/1 [==============================] - 0s 167ms/step\n",
            "1/1 [==============================] - 0s 156ms/step\n",
            "1/1 [==============================] - 0s 167ms/step\n",
            "1/1 [==============================] - 0s 153ms/step\n",
            "1/1 [==============================] - 0s 170ms/step\n",
            "1/1 [==============================] - 0s 152ms/step\n",
            "1/1 [==============================] - 0s 152ms/step\n",
            "1/1 [==============================] - 0s 151ms/step\n",
            "1/1 [==============================] - 0s 173ms/step\n",
            "1/1 [==============================] - 0s 161ms/step\n",
            "1/1 [==============================] - 0s 161ms/step\n",
            "1/1 [==============================] - 0s 149ms/step\n",
            "1/1 [==============================] - 0s 156ms/step\n"
          ]
        },
        {
          "ename": "KeyboardInterrupt",
          "evalue": "",
          "output_type": "error",
          "traceback": [
            "\u001b[1;31m---------------------------------------------------------------------------\u001b[0m",
            "\u001b[1;31mKeyboardInterrupt\u001b[0m                         Traceback (most recent call last)",
            "Cell \u001b[1;32mIn[51], line 10\u001b[0m\n\u001b[0;32m      8\u001b[0m \u001b[38;5;28;01mfor\u001b[39;00m img_file \u001b[38;5;129;01min\u001b[39;00m image_files:\n\u001b[0;32m      9\u001b[0m     img_path \u001b[38;5;241m=\u001b[39m os\u001b[38;5;241m.\u001b[39mpath\u001b[38;5;241m.\u001b[39mjoin(data_dir, img_file)\n\u001b[1;32m---> 10\u001b[0m     features \u001b[38;5;241m=\u001b[39m extract_features(img_path)\n\u001b[0;32m     11\u001b[0m     features_list\u001b[38;5;241m.\u001b[39mappend(features)\n\u001b[0;32m     13\u001b[0m features_df \u001b[38;5;241m=\u001b[39m pd\u001b[38;5;241m.\u001b[39mDataFrame(features_list)\n",
            "Cell \u001b[1;32mIn[50], line 6\u001b[0m, in \u001b[0;36mextract_features\u001b[1;34m(img_path)\u001b[0m\n\u001b[0;32m      4\u001b[0m img_array \u001b[38;5;241m=\u001b[39m np\u001b[38;5;241m.\u001b[39mexpand_dims(img_array, axis\u001b[38;5;241m=\u001b[39m\u001b[38;5;241m0\u001b[39m)\n\u001b[0;32m      5\u001b[0m img_array \u001b[38;5;241m=\u001b[39m preprocess_input(img_array)\n\u001b[1;32m----> 6\u001b[0m features \u001b[38;5;241m=\u001b[39m model\u001b[38;5;241m.\u001b[39mpredict(img_array)\n\u001b[0;32m      7\u001b[0m \u001b[38;5;28;01mreturn\u001b[39;00m features\u001b[38;5;241m.\u001b[39mflatten()\n",
            "File \u001b[1;32m~\\anaconda3\\Lib\\site-packages\\keras\\src\\utils\\traceback_utils.py:65\u001b[0m, in \u001b[0;36mfilter_traceback.<locals>.error_handler\u001b[1;34m(*args, **kwargs)\u001b[0m\n\u001b[0;32m     63\u001b[0m filtered_tb \u001b[38;5;241m=\u001b[39m \u001b[38;5;28;01mNone\u001b[39;00m\n\u001b[0;32m     64\u001b[0m \u001b[38;5;28;01mtry\u001b[39;00m:\n\u001b[1;32m---> 65\u001b[0m     \u001b[38;5;28;01mreturn\u001b[39;00m fn(\u001b[38;5;241m*\u001b[39margs, \u001b[38;5;241m*\u001b[39m\u001b[38;5;241m*\u001b[39mkwargs)\n\u001b[0;32m     66\u001b[0m \u001b[38;5;28;01mexcept\u001b[39;00m \u001b[38;5;167;01mException\u001b[39;00m \u001b[38;5;28;01mas\u001b[39;00m e:\n\u001b[0;32m     67\u001b[0m     filtered_tb \u001b[38;5;241m=\u001b[39m _process_traceback_frames(e\u001b[38;5;241m.\u001b[39m__traceback__)\n",
            "File \u001b[1;32m~\\anaconda3\\Lib\\site-packages\\keras\\src\\engine\\training.py:2655\u001b[0m, in \u001b[0;36mModel.predict\u001b[1;34m(self, x, batch_size, verbose, steps, callbacks, max_queue_size, workers, use_multiprocessing)\u001b[0m\n\u001b[0;32m   2653\u001b[0m \u001b[38;5;28;01mfor\u001b[39;00m step \u001b[38;5;129;01min\u001b[39;00m data_handler\u001b[38;5;241m.\u001b[39msteps():\n\u001b[0;32m   2654\u001b[0m     callbacks\u001b[38;5;241m.\u001b[39mon_predict_batch_begin(step)\n\u001b[1;32m-> 2655\u001b[0m     tmp_batch_outputs \u001b[38;5;241m=\u001b[39m \u001b[38;5;28mself\u001b[39m\u001b[38;5;241m.\u001b[39mpredict_function(iterator)\n\u001b[0;32m   2656\u001b[0m     \u001b[38;5;28;01mif\u001b[39;00m data_handler\u001b[38;5;241m.\u001b[39mshould_sync:\n\u001b[0;32m   2657\u001b[0m         context\u001b[38;5;241m.\u001b[39masync_wait()\n",
            "File \u001b[1;32m~\\anaconda3\\Lib\\site-packages\\tensorflow\\python\\util\\traceback_utils.py:150\u001b[0m, in \u001b[0;36mfilter_traceback.<locals>.error_handler\u001b[1;34m(*args, **kwargs)\u001b[0m\n\u001b[0;32m    148\u001b[0m filtered_tb \u001b[38;5;241m=\u001b[39m \u001b[38;5;28;01mNone\u001b[39;00m\n\u001b[0;32m    149\u001b[0m \u001b[38;5;28;01mtry\u001b[39;00m:\n\u001b[1;32m--> 150\u001b[0m   \u001b[38;5;28;01mreturn\u001b[39;00m fn(\u001b[38;5;241m*\u001b[39margs, \u001b[38;5;241m*\u001b[39m\u001b[38;5;241m*\u001b[39mkwargs)\n\u001b[0;32m    151\u001b[0m \u001b[38;5;28;01mexcept\u001b[39;00m \u001b[38;5;167;01mException\u001b[39;00m \u001b[38;5;28;01mas\u001b[39;00m e:\n\u001b[0;32m    152\u001b[0m   filtered_tb \u001b[38;5;241m=\u001b[39m _process_traceback_frames(e\u001b[38;5;241m.\u001b[39m__traceback__)\n",
            "File \u001b[1;32m~\\anaconda3\\Lib\\site-packages\\tensorflow\\python\\eager\\polymorphic_function\\polymorphic_function.py:832\u001b[0m, in \u001b[0;36mFunction.__call__\u001b[1;34m(self, *args, **kwds)\u001b[0m\n\u001b[0;32m    829\u001b[0m compiler \u001b[38;5;241m=\u001b[39m \u001b[38;5;124m\"\u001b[39m\u001b[38;5;124mxla\u001b[39m\u001b[38;5;124m\"\u001b[39m \u001b[38;5;28;01mif\u001b[39;00m \u001b[38;5;28mself\u001b[39m\u001b[38;5;241m.\u001b[39m_jit_compile \u001b[38;5;28;01melse\u001b[39;00m \u001b[38;5;124m\"\u001b[39m\u001b[38;5;124mnonXla\u001b[39m\u001b[38;5;124m\"\u001b[39m\n\u001b[0;32m    831\u001b[0m \u001b[38;5;28;01mwith\u001b[39;00m OptionalXlaContext(\u001b[38;5;28mself\u001b[39m\u001b[38;5;241m.\u001b[39m_jit_compile):\n\u001b[1;32m--> 832\u001b[0m   result \u001b[38;5;241m=\u001b[39m \u001b[38;5;28mself\u001b[39m\u001b[38;5;241m.\u001b[39m_call(\u001b[38;5;241m*\u001b[39margs, \u001b[38;5;241m*\u001b[39m\u001b[38;5;241m*\u001b[39mkwds)\n\u001b[0;32m    834\u001b[0m new_tracing_count \u001b[38;5;241m=\u001b[39m \u001b[38;5;28mself\u001b[39m\u001b[38;5;241m.\u001b[39mexperimental_get_tracing_count()\n\u001b[0;32m    835\u001b[0m without_tracing \u001b[38;5;241m=\u001b[39m (tracing_count \u001b[38;5;241m==\u001b[39m new_tracing_count)\n",
            "File \u001b[1;32m~\\anaconda3\\Lib\\site-packages\\tensorflow\\python\\eager\\polymorphic_function\\polymorphic_function.py:877\u001b[0m, in \u001b[0;36mFunction._call\u001b[1;34m(self, *args, **kwds)\u001b[0m\n\u001b[0;32m    874\u001b[0m \u001b[38;5;28mself\u001b[39m\u001b[38;5;241m.\u001b[39m_lock\u001b[38;5;241m.\u001b[39mrelease()\n\u001b[0;32m    875\u001b[0m \u001b[38;5;66;03m# In this case we have not created variables on the first call. So we can\u001b[39;00m\n\u001b[0;32m    876\u001b[0m \u001b[38;5;66;03m# run the first trace but we should fail if variables are created.\u001b[39;00m\n\u001b[1;32m--> 877\u001b[0m results \u001b[38;5;241m=\u001b[39m tracing_compilation\u001b[38;5;241m.\u001b[39mcall_function(\n\u001b[0;32m    878\u001b[0m     args, kwds, \u001b[38;5;28mself\u001b[39m\u001b[38;5;241m.\u001b[39m_variable_creation_config\n\u001b[0;32m    879\u001b[0m )\n\u001b[0;32m    880\u001b[0m \u001b[38;5;28;01mif\u001b[39;00m \u001b[38;5;28mself\u001b[39m\u001b[38;5;241m.\u001b[39m_created_variables:\n\u001b[0;32m    881\u001b[0m   \u001b[38;5;28;01mraise\u001b[39;00m \u001b[38;5;167;01mValueError\u001b[39;00m(\u001b[38;5;124m\"\u001b[39m\u001b[38;5;124mCreating variables on a non-first call to a function\u001b[39m\u001b[38;5;124m\"\u001b[39m\n\u001b[0;32m    882\u001b[0m                    \u001b[38;5;124m\"\u001b[39m\u001b[38;5;124m decorated with tf.function.\u001b[39m\u001b[38;5;124m\"\u001b[39m)\n",
            "File \u001b[1;32m~\\anaconda3\\Lib\\site-packages\\tensorflow\\python\\eager\\polymorphic_function\\tracing_compilation.py:139\u001b[0m, in \u001b[0;36mcall_function\u001b[1;34m(args, kwargs, tracing_options)\u001b[0m\n\u001b[0;32m    137\u001b[0m bound_args \u001b[38;5;241m=\u001b[39m function\u001b[38;5;241m.\u001b[39mfunction_type\u001b[38;5;241m.\u001b[39mbind(\u001b[38;5;241m*\u001b[39margs, \u001b[38;5;241m*\u001b[39m\u001b[38;5;241m*\u001b[39mkwargs)\n\u001b[0;32m    138\u001b[0m flat_inputs \u001b[38;5;241m=\u001b[39m function\u001b[38;5;241m.\u001b[39mfunction_type\u001b[38;5;241m.\u001b[39munpack_inputs(bound_args)\n\u001b[1;32m--> 139\u001b[0m \u001b[38;5;28;01mreturn\u001b[39;00m function\u001b[38;5;241m.\u001b[39m_call_flat(  \u001b[38;5;66;03m# pylint: disable=protected-access\u001b[39;00m\n\u001b[0;32m    140\u001b[0m     flat_inputs, captured_inputs\u001b[38;5;241m=\u001b[39mfunction\u001b[38;5;241m.\u001b[39mcaptured_inputs\n\u001b[0;32m    141\u001b[0m )\n",
            "File \u001b[1;32m~\\anaconda3\\Lib\\site-packages\\tensorflow\\python\\eager\\polymorphic_function\\concrete_function.py:1323\u001b[0m, in \u001b[0;36mConcreteFunction._call_flat\u001b[1;34m(self, tensor_inputs, captured_inputs)\u001b[0m\n\u001b[0;32m   1319\u001b[0m possible_gradient_type \u001b[38;5;241m=\u001b[39m gradients_util\u001b[38;5;241m.\u001b[39mPossibleTapeGradientTypes(args)\n\u001b[0;32m   1320\u001b[0m \u001b[38;5;28;01mif\u001b[39;00m (possible_gradient_type \u001b[38;5;241m==\u001b[39m gradients_util\u001b[38;5;241m.\u001b[39mPOSSIBLE_GRADIENT_TYPES_NONE\n\u001b[0;32m   1321\u001b[0m     \u001b[38;5;129;01mand\u001b[39;00m executing_eagerly):\n\u001b[0;32m   1322\u001b[0m   \u001b[38;5;66;03m# No tape is watching; skip to running the function.\u001b[39;00m\n\u001b[1;32m-> 1323\u001b[0m   \u001b[38;5;28;01mreturn\u001b[39;00m \u001b[38;5;28mself\u001b[39m\u001b[38;5;241m.\u001b[39m_inference_function\u001b[38;5;241m.\u001b[39mcall_preflattened(args)\n\u001b[0;32m   1324\u001b[0m forward_backward \u001b[38;5;241m=\u001b[39m \u001b[38;5;28mself\u001b[39m\u001b[38;5;241m.\u001b[39m_select_forward_and_backward_functions(\n\u001b[0;32m   1325\u001b[0m     args,\n\u001b[0;32m   1326\u001b[0m     possible_gradient_type,\n\u001b[0;32m   1327\u001b[0m     executing_eagerly)\n\u001b[0;32m   1328\u001b[0m forward_function, args_with_tangents \u001b[38;5;241m=\u001b[39m forward_backward\u001b[38;5;241m.\u001b[39mforward()\n",
            "File \u001b[1;32m~\\anaconda3\\Lib\\site-packages\\tensorflow\\python\\eager\\polymorphic_function\\atomic_function.py:216\u001b[0m, in \u001b[0;36mAtomicFunction.call_preflattened\u001b[1;34m(self, args)\u001b[0m\n\u001b[0;32m    214\u001b[0m \u001b[38;5;28;01mdef\u001b[39;00m \u001b[38;5;21mcall_preflattened\u001b[39m(\u001b[38;5;28mself\u001b[39m, args: Sequence[core\u001b[38;5;241m.\u001b[39mTensor]) \u001b[38;5;241m-\u001b[39m\u001b[38;5;241m>\u001b[39m Any:\n\u001b[0;32m    215\u001b[0m \u001b[38;5;250m  \u001b[39m\u001b[38;5;124;03m\"\"\"Calls with flattened tensor inputs and returns the structured output.\"\"\"\u001b[39;00m\n\u001b[1;32m--> 216\u001b[0m   flat_outputs \u001b[38;5;241m=\u001b[39m \u001b[38;5;28mself\u001b[39m\u001b[38;5;241m.\u001b[39mcall_flat(\u001b[38;5;241m*\u001b[39margs)\n\u001b[0;32m    217\u001b[0m   \u001b[38;5;28;01mreturn\u001b[39;00m \u001b[38;5;28mself\u001b[39m\u001b[38;5;241m.\u001b[39mfunction_type\u001b[38;5;241m.\u001b[39mpack_output(flat_outputs)\n",
            "File \u001b[1;32m~\\anaconda3\\Lib\\site-packages\\tensorflow\\python\\eager\\polymorphic_function\\atomic_function.py:251\u001b[0m, in \u001b[0;36mAtomicFunction.call_flat\u001b[1;34m(self, *args)\u001b[0m\n\u001b[0;32m    249\u001b[0m \u001b[38;5;28;01mwith\u001b[39;00m record\u001b[38;5;241m.\u001b[39mstop_recording():\n\u001b[0;32m    250\u001b[0m   \u001b[38;5;28;01mif\u001b[39;00m \u001b[38;5;28mself\u001b[39m\u001b[38;5;241m.\u001b[39m_bound_context\u001b[38;5;241m.\u001b[39mexecuting_eagerly():\n\u001b[1;32m--> 251\u001b[0m     outputs \u001b[38;5;241m=\u001b[39m \u001b[38;5;28mself\u001b[39m\u001b[38;5;241m.\u001b[39m_bound_context\u001b[38;5;241m.\u001b[39mcall_function(\n\u001b[0;32m    252\u001b[0m         \u001b[38;5;28mself\u001b[39m\u001b[38;5;241m.\u001b[39mname,\n\u001b[0;32m    253\u001b[0m         \u001b[38;5;28mlist\u001b[39m(args),\n\u001b[0;32m    254\u001b[0m         \u001b[38;5;28mlen\u001b[39m(\u001b[38;5;28mself\u001b[39m\u001b[38;5;241m.\u001b[39mfunction_type\u001b[38;5;241m.\u001b[39mflat_outputs),\n\u001b[0;32m    255\u001b[0m     )\n\u001b[0;32m    256\u001b[0m   \u001b[38;5;28;01melse\u001b[39;00m:\n\u001b[0;32m    257\u001b[0m     outputs \u001b[38;5;241m=\u001b[39m make_call_op_in_graph(\n\u001b[0;32m    258\u001b[0m         \u001b[38;5;28mself\u001b[39m,\n\u001b[0;32m    259\u001b[0m         \u001b[38;5;28mlist\u001b[39m(args),\n\u001b[0;32m    260\u001b[0m         \u001b[38;5;28mself\u001b[39m\u001b[38;5;241m.\u001b[39m_bound_context\u001b[38;5;241m.\u001b[39mfunction_call_options\u001b[38;5;241m.\u001b[39mas_attrs(),\n\u001b[0;32m    261\u001b[0m     )\n",
            "File \u001b[1;32m~\\anaconda3\\Lib\\site-packages\\tensorflow\\python\\eager\\context.py:1486\u001b[0m, in \u001b[0;36mContext.call_function\u001b[1;34m(self, name, tensor_inputs, num_outputs)\u001b[0m\n\u001b[0;32m   1484\u001b[0m cancellation_context \u001b[38;5;241m=\u001b[39m cancellation\u001b[38;5;241m.\u001b[39mcontext()\n\u001b[0;32m   1485\u001b[0m \u001b[38;5;28;01mif\u001b[39;00m cancellation_context \u001b[38;5;129;01mis\u001b[39;00m \u001b[38;5;28;01mNone\u001b[39;00m:\n\u001b[1;32m-> 1486\u001b[0m   outputs \u001b[38;5;241m=\u001b[39m execute\u001b[38;5;241m.\u001b[39mexecute(\n\u001b[0;32m   1487\u001b[0m       name\u001b[38;5;241m.\u001b[39mdecode(\u001b[38;5;124m\"\u001b[39m\u001b[38;5;124mutf-8\u001b[39m\u001b[38;5;124m\"\u001b[39m),\n\u001b[0;32m   1488\u001b[0m       num_outputs\u001b[38;5;241m=\u001b[39mnum_outputs,\n\u001b[0;32m   1489\u001b[0m       inputs\u001b[38;5;241m=\u001b[39mtensor_inputs,\n\u001b[0;32m   1490\u001b[0m       attrs\u001b[38;5;241m=\u001b[39mattrs,\n\u001b[0;32m   1491\u001b[0m       ctx\u001b[38;5;241m=\u001b[39m\u001b[38;5;28mself\u001b[39m,\n\u001b[0;32m   1492\u001b[0m   )\n\u001b[0;32m   1493\u001b[0m \u001b[38;5;28;01melse\u001b[39;00m:\n\u001b[0;32m   1494\u001b[0m   outputs \u001b[38;5;241m=\u001b[39m execute\u001b[38;5;241m.\u001b[39mexecute_with_cancellation(\n\u001b[0;32m   1495\u001b[0m       name\u001b[38;5;241m.\u001b[39mdecode(\u001b[38;5;124m\"\u001b[39m\u001b[38;5;124mutf-8\u001b[39m\u001b[38;5;124m\"\u001b[39m),\n\u001b[0;32m   1496\u001b[0m       num_outputs\u001b[38;5;241m=\u001b[39mnum_outputs,\n\u001b[1;32m   (...)\u001b[0m\n\u001b[0;32m   1500\u001b[0m       cancellation_manager\u001b[38;5;241m=\u001b[39mcancellation_context,\n\u001b[0;32m   1501\u001b[0m   )\n",
            "File \u001b[1;32m~\\anaconda3\\Lib\\site-packages\\tensorflow\\python\\eager\\execute.py:53\u001b[0m, in \u001b[0;36mquick_execute\u001b[1;34m(op_name, num_outputs, inputs, attrs, ctx, name)\u001b[0m\n\u001b[0;32m     51\u001b[0m \u001b[38;5;28;01mtry\u001b[39;00m:\n\u001b[0;32m     52\u001b[0m   ctx\u001b[38;5;241m.\u001b[39mensure_initialized()\n\u001b[1;32m---> 53\u001b[0m   tensors \u001b[38;5;241m=\u001b[39m pywrap_tfe\u001b[38;5;241m.\u001b[39mTFE_Py_Execute(ctx\u001b[38;5;241m.\u001b[39m_handle, device_name, op_name,\n\u001b[0;32m     54\u001b[0m                                       inputs, attrs, num_outputs)\n\u001b[0;32m     55\u001b[0m \u001b[38;5;28;01mexcept\u001b[39;00m core\u001b[38;5;241m.\u001b[39m_NotOkStatusException \u001b[38;5;28;01mas\u001b[39;00m e:\n\u001b[0;32m     56\u001b[0m   \u001b[38;5;28;01mif\u001b[39;00m name \u001b[38;5;129;01mis\u001b[39;00m \u001b[38;5;129;01mnot\u001b[39;00m \u001b[38;5;28;01mNone\u001b[39;00m:\n",
            "\u001b[1;31mKeyboardInterrupt\u001b[0m: "
          ]
        }
      ],
      "source": [
        "import os\n",
        "import pandas as pd\n",
        "\n",
        "data_dir = r\"C:\\Users\\Mitta Aasish Kumar\\Data Science Course\\AIML Project\\train_set\"\n",
        "image_files = [f for f in os.listdir(data_dir) if f.endswith('.png')]\n",
        "\n",
        "features_list = []\n",
        "for img_file in image_files:\n",
        "    img_path = os.path.join(data_dir, img_file)\n",
        "    features = extract_features(img_path)\n",
        "    features_list.append(features)\n",
        "\n",
        "features_df = pd.DataFrame(features_list)\n"
      ]
    },
    {
      "cell_type": "code",
      "execution_count": null,
      "id": "d2ac0cdd",
      "metadata": {
        "id": "d2ac0cdd"
      },
      "outputs": [],
      "source": [
        "os.listdir(data_dir)"
      ]
    },
    {
      "cell_type": "code",
      "execution_count": null,
      "id": "31e54748",
      "metadata": {
        "id": "31e54748"
      },
      "outputs": [],
      "source": [
        "features_df.to_csv(\"image_features.csv\", index=False)"
      ]
    },
    {
      "cell_type": "code",
      "execution_count": null,
      "id": "bb7b6c2f",
      "metadata": {
        "id": "bb7b6c2f"
      },
      "outputs": [],
      "source": [
        "import os\n",
        "import pandas as pd\n",
        "\n",
        "data_dir = r\"C:\\Users\\Mitta Aasish Kumar\\Data Science Course\\AIML Project\\test_set\"\n",
        "image_files = [f for f in os.listdir(data_dir) if f.endswith('.png')]\n",
        "\n",
        "features_list = []\n",
        "for img_file in image_files:\n",
        "    img_path = os.path.join(data_dir, img_file)\n",
        "    features = extract_features(img_path)\n",
        "    features_list.append(features)\n",
        "\n",
        "features_df = pd.DataFrame(features_list)"
      ]
    },
    {
      "cell_type": "code",
      "execution_count": null,
      "id": "83ca9859",
      "metadata": {
        "id": "83ca9859"
      },
      "outputs": [],
      "source": [
        "os.listdir(data_dir)"
      ]
    },
    {
      "cell_type": "code",
      "execution_count": null,
      "id": "6b557dc9",
      "metadata": {
        "id": "6b557dc9"
      },
      "outputs": [],
      "source": [
        "features_df.to_csv(\"image_features_test.csv\", index=False)"
      ]
    },
    {
      "cell_type": "code",
      "execution_count": null,
      "id": "16aceccb",
      "metadata": {
        "id": "16aceccb",
        "outputId": "24cd1e52-d89d-4338-ec78-13cf36f82965"
      },
      "outputs": [
        {
          "data": {
            "text/html": [
              "<div>\n",
              "<style scoped>\n",
              "    .dataframe tbody tr th:only-of-type {\n",
              "        vertical-align: middle;\n",
              "    }\n",
              "\n",
              "    .dataframe tbody tr th {\n",
              "        vertical-align: top;\n",
              "    }\n",
              "\n",
              "    .dataframe thead th {\n",
              "        text-align: right;\n",
              "    }\n",
              "</style>\n",
              "<table border=\"1\" class=\"dataframe\">\n",
              "  <thead>\n",
              "    <tr style=\"text-align: right;\">\n",
              "      <th></th>\n",
              "      <th>0</th>\n",
              "      <th>1</th>\n",
              "      <th>2</th>\n",
              "      <th>3</th>\n",
              "      <th>4</th>\n",
              "      <th>5</th>\n",
              "      <th>6</th>\n",
              "      <th>7</th>\n",
              "      <th>8</th>\n",
              "      <th>9</th>\n",
              "      <th>...</th>\n",
              "      <th>25078</th>\n",
              "      <th>25079</th>\n",
              "      <th>25080</th>\n",
              "      <th>25081</th>\n",
              "      <th>25082</th>\n",
              "      <th>25083</th>\n",
              "      <th>25084</th>\n",
              "      <th>25085</th>\n",
              "      <th>25086</th>\n",
              "      <th>25087</th>\n",
              "    </tr>\n",
              "  </thead>\n",
              "  <tbody>\n",
              "    <tr>\n",
              "      <th>0</th>\n",
              "      <td>0.0</td>\n",
              "      <td>0.0</td>\n",
              "      <td>0.000000</td>\n",
              "      <td>0.0</td>\n",
              "      <td>0.000000</td>\n",
              "      <td>0.0</td>\n",
              "      <td>0.0</td>\n",
              "      <td>0.0</td>\n",
              "      <td>0.0</td>\n",
              "      <td>0.0</td>\n",
              "      <td>...</td>\n",
              "      <td>11.992150</td>\n",
              "      <td>0.000000</td>\n",
              "      <td>5.153082</td>\n",
              "      <td>24.643599</td>\n",
              "      <td>28.009308</td>\n",
              "      <td>0.0</td>\n",
              "      <td>0.000000</td>\n",
              "      <td>11.060067</td>\n",
              "      <td>0.000000</td>\n",
              "      <td>0.0</td>\n",
              "    </tr>\n",
              "    <tr>\n",
              "      <th>1</th>\n",
              "      <td>0.0</td>\n",
              "      <td>0.0</td>\n",
              "      <td>0.000000</td>\n",
              "      <td>0.0</td>\n",
              "      <td>0.000000</td>\n",
              "      <td>0.0</td>\n",
              "      <td>0.0</td>\n",
              "      <td>0.0</td>\n",
              "      <td>0.0</td>\n",
              "      <td>0.0</td>\n",
              "      <td>...</td>\n",
              "      <td>0.000000</td>\n",
              "      <td>0.000000</td>\n",
              "      <td>14.683868</td>\n",
              "      <td>17.737180</td>\n",
              "      <td>0.000000</td>\n",
              "      <td>0.0</td>\n",
              "      <td>0.000000</td>\n",
              "      <td>11.789178</td>\n",
              "      <td>6.025297</td>\n",
              "      <td>0.0</td>\n",
              "    </tr>\n",
              "    <tr>\n",
              "      <th>2</th>\n",
              "      <td>0.0</td>\n",
              "      <td>0.0</td>\n",
              "      <td>0.000000</td>\n",
              "      <td>0.0</td>\n",
              "      <td>0.000000</td>\n",
              "      <td>0.0</td>\n",
              "      <td>0.0</td>\n",
              "      <td>0.0</td>\n",
              "      <td>0.0</td>\n",
              "      <td>0.0</td>\n",
              "      <td>...</td>\n",
              "      <td>0.000000</td>\n",
              "      <td>6.137355</td>\n",
              "      <td>0.000000</td>\n",
              "      <td>0.000000</td>\n",
              "      <td>0.000000</td>\n",
              "      <td>0.0</td>\n",
              "      <td>10.833303</td>\n",
              "      <td>0.000000</td>\n",
              "      <td>0.000000</td>\n",
              "      <td>0.0</td>\n",
              "    </tr>\n",
              "    <tr>\n",
              "      <th>3</th>\n",
              "      <td>0.0</td>\n",
              "      <td>0.0</td>\n",
              "      <td>8.118018</td>\n",
              "      <td>0.0</td>\n",
              "      <td>1.179801</td>\n",
              "      <td>0.0</td>\n",
              "      <td>0.0</td>\n",
              "      <td>0.0</td>\n",
              "      <td>0.0</td>\n",
              "      <td>0.0</td>\n",
              "      <td>...</td>\n",
              "      <td>8.372901</td>\n",
              "      <td>0.000000</td>\n",
              "      <td>31.511848</td>\n",
              "      <td>11.137816</td>\n",
              "      <td>0.000000</td>\n",
              "      <td>0.0</td>\n",
              "      <td>0.000000</td>\n",
              "      <td>0.000000</td>\n",
              "      <td>0.000000</td>\n",
              "      <td>0.0</td>\n",
              "    </tr>\n",
              "    <tr>\n",
              "      <th>4</th>\n",
              "      <td>0.0</td>\n",
              "      <td>0.0</td>\n",
              "      <td>1.827268</td>\n",
              "      <td>0.0</td>\n",
              "      <td>0.000000</td>\n",
              "      <td>0.0</td>\n",
              "      <td>0.0</td>\n",
              "      <td>0.0</td>\n",
              "      <td>0.0</td>\n",
              "      <td>0.0</td>\n",
              "      <td>...</td>\n",
              "      <td>1.568567</td>\n",
              "      <td>0.000000</td>\n",
              "      <td>2.470457</td>\n",
              "      <td>0.000000</td>\n",
              "      <td>4.048325</td>\n",
              "      <td>0.0</td>\n",
              "      <td>0.000000</td>\n",
              "      <td>0.000000</td>\n",
              "      <td>2.013259</td>\n",
              "      <td>0.0</td>\n",
              "    </tr>\n",
              "  </tbody>\n",
              "</table>\n",
              "<p>5 rows × 25088 columns</p>\n",
              "</div>"
            ],
            "text/plain": [
              "     0    1         2    3         4    5    6    7    8    9  ...      25078  \\\n",
              "0  0.0  0.0  0.000000  0.0  0.000000  0.0  0.0  0.0  0.0  0.0  ...  11.992150   \n",
              "1  0.0  0.0  0.000000  0.0  0.000000  0.0  0.0  0.0  0.0  0.0  ...   0.000000   \n",
              "2  0.0  0.0  0.000000  0.0  0.000000  0.0  0.0  0.0  0.0  0.0  ...   0.000000   \n",
              "3  0.0  0.0  8.118018  0.0  1.179801  0.0  0.0  0.0  0.0  0.0  ...   8.372901   \n",
              "4  0.0  0.0  1.827268  0.0  0.000000  0.0  0.0  0.0  0.0  0.0  ...   1.568567   \n",
              "\n",
              "      25079      25080      25081      25082  25083      25084      25085  \\\n",
              "0  0.000000   5.153082  24.643599  28.009308    0.0   0.000000  11.060067   \n",
              "1  0.000000  14.683868  17.737180   0.000000    0.0   0.000000  11.789178   \n",
              "2  6.137355   0.000000   0.000000   0.000000    0.0  10.833303   0.000000   \n",
              "3  0.000000  31.511848  11.137816   0.000000    0.0   0.000000   0.000000   \n",
              "4  0.000000   2.470457   0.000000   4.048325    0.0   0.000000   0.000000   \n",
              "\n",
              "      25086  25087  \n",
              "0  0.000000    0.0  \n",
              "1  6.025297    0.0  \n",
              "2  0.000000    0.0  \n",
              "3  0.000000    0.0  \n",
              "4  2.013259    0.0  \n",
              "\n",
              "[5 rows x 25088 columns]"
            ]
          },
          "execution_count": 56,
          "metadata": {},
          "output_type": "execute_result"
        }
      ],
      "source": [
        "df1=pd.read_csv(\"image_features_all.csv\")\n",
        "df1.head()"
      ]
    },
    {
      "cell_type": "code",
      "execution_count": null,
      "id": "d0cb2cbd",
      "metadata": {
        "id": "d0cb2cbd"
      },
      "outputs": [],
      "source": [
        "df2=data"
      ]
    },
    {
      "cell_type": "code",
      "execution_count": null,
      "id": "b983bfbb",
      "metadata": {
        "id": "b983bfbb",
        "outputId": "d904b6e7-73fc-42a2-a2fd-6c893215aac0"
      },
      "outputs": [
        {
          "name": "stderr",
          "output_type": "stream",
          "text": [
            "\n",
            "KeyboardInterrupt\n",
            "\n"
          ]
        }
      ],
      "source": [
        "df1['output']=df2['diagnostic']\n",
        "df1.to_csv(\"image_features.csv\", index=False)"
      ]
    },
    {
      "cell_type": "code",
      "execution_count": null,
      "id": "18df8f0d",
      "metadata": {
        "id": "18df8f0d",
        "outputId": "e7689d63-ee02-4457-85cf-b260c9164f1a"
      },
      "outputs": [
        {
          "data": {
            "text/plain": [
              "0       0\n",
              "1       1\n",
              "2       2\n",
              "3       2\n",
              "4       1\n",
              "       ..\n",
              "2293    2\n",
              "2294    1\n",
              "2295    3\n",
              "2296    1\n",
              "2297    3\n",
              "Name: output, Length: 2298, dtype: int32"
            ]
          },
          "execution_count": 60,
          "metadata": {},
          "output_type": "execute_result"
        }
      ],
      "source": [
        "df1['output']"
      ]
    },
    {
      "cell_type": "code",
      "execution_count": null,
      "id": "e3e47b78",
      "metadata": {
        "id": "e3e47b78"
      },
      "outputs": [],
      "source": [
        "import pandas as pd\n",
        "import numpy as np\n",
        "\n",
        "# Assuming df is your dataframe where each column represents a feature and the output variable\n",
        "# is in a column named 'output'\n",
        "\n",
        "# Step 1: Compute the correlation matrix\n",
        "correlation_matrix = df1.corr()\n",
        "\n",
        "# Step 2: Rank the features based on their correlation with the output variable\n",
        "correlation_with_output = correlation_matrix['output'].abs().sort_values(ascending=False)\n",
        "\n",
        "# Step 3: Select the top 500 features\n",
        "top_500_features = correlation_with_output.head(500).index.tolist()\n",
        "\n",
        "# Now you have the top 500 features affecting the output variable"
      ]
    },
    {
      "cell_type": "code",
      "execution_count": null,
      "id": "d1c9ce27",
      "metadata": {
        "id": "d1c9ce27",
        "outputId": "d5f6ecd1-c203-4092-d721-e01169d979ae"
      },
      "outputs": [
        {
          "data": {
            "text/plain": [
              "['output',\n",
              " '21895',\n",
              " '3151',\n",
              " '12371',\n",
              " '13152',\n",
              " '19821',\n",
              " '2804',\n",
              " '15204',\n",
              " '16242',\n",
              " '16798',\n",
              " '8666',\n",
              " '18980',\n",
              " '9354',\n",
              " '6295',\n",
              " '19293',\n",
              " '21955',\n",
              " '13173',\n",
              " '13369',\n",
              " '13663',\n",
              " '14692',\n",
              " '9682',\n",
              " '8302',\n",
              " '17310',\n",
              " '19152',\n",
              " '15758',\n",
              " '12719',\n",
              " '6098',\n",
              " '12349',\n",
              " '17859',\n",
              " '402',\n",
              " '22407',\n",
              " '1607',\n",
              " '7835',\n",
              " '5014',\n",
              " '831',\n",
              " '16578',\n",
              " '3709',\n",
              " '20025',\n",
              " '16303',\n",
              " '13175',\n",
              " '5371',\n",
              " '4251',\n",
              " '22201',\n",
              " '20626',\n",
              " '21975',\n",
              " '12968',\n",
              " '11419',\n",
              " '12755',\n",
              " '23833',\n",
              " '16931',\n",
              " '8924',\n",
              " '15955',\n",
              " '22863',\n",
              " '18255',\n",
              " '14671',\n",
              " '2199',\n",
              " '16761',\n",
              " '1586',\n",
              " '19492',\n",
              " '12503',\n",
              " '19099',\n",
              " '19040',\n",
              " '9727',\n",
              " '16488',\n",
              " '12206',\n",
              " '6495',\n",
              " '11777',\n",
              " '9235',\n",
              " '9785',\n",
              " '11842',\n",
              " '21927',\n",
              " '21105',\n",
              " '16402',\n",
              " '11085',\n",
              " '16323',\n",
              " '793',\n",
              " '23382',\n",
              " '16693',\n",
              " '16947',\n",
              " '6350',\n",
              " '4221',\n",
              " '2639',\n",
              " '14705',\n",
              " '6585',\n",
              " '14387',\n",
              " '12658',\n",
              " '9962',\n",
              " '13863',\n",
              " '12718',\n",
              " '18450',\n",
              " '7720',\n",
              " '7070',\n",
              " '13513',\n",
              " '8035',\n",
              " '13238',\n",
              " '20240',\n",
              " '9197',\n",
              " '7400',\n",
              " '18781',\n",
              " '4580',\n",
              " '16274',\n",
              " '1892',\n",
              " '7463',\n",
              " '9805',\n",
              " '7694',\n",
              " '9384',\n",
              " '14031',\n",
              " '12402',\n",
              " '18115',\n",
              " '24648',\n",
              " '13693',\n",
              " '18783',\n",
              " '23036',\n",
              " '4230',\n",
              " '9910',\n",
              " '21959',\n",
              " '9929',\n",
              " '5838',\n",
              " '3432',\n",
              " '10094',\n",
              " '3986',\n",
              " '22351',\n",
              " '9486',\n",
              " '20986',\n",
              " '16463',\n",
              " '6494',\n",
              " '17804',\n",
              " '12711',\n",
              " '12857',\n",
              " '17179',\n",
              " '8150',\n",
              " '8968',\n",
              " '5112',\n",
              " '8267',\n",
              " '10276',\n",
              " '22966',\n",
              " '22813',\n",
              " '11837',\n",
              " '10426',\n",
              " '23390',\n",
              " '9170',\n",
              " '13434',\n",
              " '17836',\n",
              " '2452',\n",
              " '17228',\n",
              " '5652',\n",
              " '5974',\n",
              " '7924',\n",
              " '11705',\n",
              " '17518',\n",
              " '10077',\n",
              " '5357',\n",
              " '8938',\n",
              " '22963',\n",
              " '5939',\n",
              " '12980',\n",
              " '11087',\n",
              " '23478',\n",
              " '17531',\n",
              " '18489',\n",
              " '16635',\n",
              " '25034',\n",
              " '15890',\n",
              " '1782',\n",
              " '6333',\n",
              " '533',\n",
              " '23465',\n",
              " '3152',\n",
              " '9911',\n",
              " '6627',\n",
              " '16812',\n",
              " '10364',\n",
              " '14795',\n",
              " '23321',\n",
              " '19418',\n",
              " '15003',\n",
              " '19564',\n",
              " '21617',\n",
              " '12346',\n",
              " '1397',\n",
              " '22269',\n",
              " '11315',\n",
              " '3197',\n",
              " '20165',\n",
              " '11304',\n",
              " '17182',\n",
              " '3577',\n",
              " '12300',\n",
              " '18767',\n",
              " '12085',\n",
              " '24804',\n",
              " '636',\n",
              " '4976',\n",
              " '9592',\n",
              " '24493',\n",
              " '19166',\n",
              " '16225',\n",
              " '9208',\n",
              " '10035',\n",
              " '15217',\n",
              " '2148',\n",
              " '8166',\n",
              " '287',\n",
              " '5178',\n",
              " '1619',\n",
              " '8154',\n",
              " '22462',\n",
              " '10433',\n",
              " '20070',\n",
              " '14287',\n",
              " '14163',\n",
              " '10856',\n",
              " '23685',\n",
              " '12919',\n",
              " '17747',\n",
              " '12539',\n",
              " '8149',\n",
              " '1051',\n",
              " '9399',\n",
              " '5898',\n",
              " '19189',\n",
              " '295',\n",
              " '5098',\n",
              " '9460',\n",
              " '16441',\n",
              " '14910',\n",
              " '15246',\n",
              " '6314',\n",
              " '10792',\n",
              " '14115',\n",
              " '3424',\n",
              " '4961',\n",
              " '3560',\n",
              " '15130',\n",
              " '3415',\n",
              " '7803',\n",
              " '22271',\n",
              " '16421',\n",
              " '16736',\n",
              " '20076',\n",
              " '4853',\n",
              " '7097',\n",
              " '21236',\n",
              " '23237',\n",
              " '1052',\n",
              " '20356',\n",
              " '24713',\n",
              " '23556',\n",
              " '19091',\n",
              " '9866',\n",
              " '11829',\n",
              " '10629',\n",
              " '21658',\n",
              " '4829',\n",
              " '4293',\n",
              " '9097',\n",
              " '5341',\n",
              " '4376',\n",
              " '23325',\n",
              " '10127',\n",
              " '12851',\n",
              " '12217',\n",
              " '6820',\n",
              " '19439',\n",
              " '2292',\n",
              " '8193',\n",
              " '3255',\n",
              " '15421',\n",
              " '13993',\n",
              " '18640',\n",
              " '6386',\n",
              " '20018',\n",
              " '9609',\n",
              " '4069',\n",
              " '6028',\n",
              " '2427',\n",
              " '31',\n",
              " '20702',\n",
              " '7767',\n",
              " '8642',\n",
              " '4695',\n",
              " '7701',\n",
              " '16377',\n",
              " '11121',\n",
              " '16564',\n",
              " '21548',\n",
              " '17042',\n",
              " '23828',\n",
              " '15422',\n",
              " '22323',\n",
              " '14935',\n",
              " '14305',\n",
              " '17483',\n",
              " '4600',\n",
              " '5488',\n",
              " '11293',\n",
              " '19621',\n",
              " '1284',\n",
              " '9300',\n",
              " '14098',\n",
              " '13592',\n",
              " '22408',\n",
              " '7186',\n",
              " '16010',\n",
              " '14307',\n",
              " '12989',\n",
              " '17554',\n",
              " '18908',\n",
              " '3903',\n",
              " '12661',\n",
              " '24080',\n",
              " '6510',\n",
              " '21745',\n",
              " '6442',\n",
              " '24426',\n",
              " '9544',\n",
              " '14888',\n",
              " '18587',\n",
              " '11112',\n",
              " '21629',\n",
              " '6780',\n",
              " '1107',\n",
              " '21139',\n",
              " '6359',\n",
              " '20381',\n",
              " '15049',\n",
              " '12056',\n",
              " '7444',\n",
              " '9418',\n",
              " '20054',\n",
              " '19907',\n",
              " '14852',\n",
              " '11450',\n",
              " '3474',\n",
              " '13001',\n",
              " '4152',\n",
              " '21829',\n",
              " '11317',\n",
              " '6232',\n",
              " '5624',\n",
              " '23482',\n",
              " '11620',\n",
              " '20962',\n",
              " '5603',\n",
              " '15332',\n",
              " '152',\n",
              " '775',\n",
              " '17889',\n",
              " '4666',\n",
              " '1242',\n",
              " '2181',\n",
              " '22454',\n",
              " '15124',\n",
              " '7814',\n",
              " '17782',\n",
              " '15426',\n",
              " '15307',\n",
              " '5021',\n",
              " '7962',\n",
              " '16557',\n",
              " '6388',\n",
              " '8426',\n",
              " '6221',\n",
              " '18757',\n",
              " '21252',\n",
              " '16548',\n",
              " '6792',\n",
              " '2358',\n",
              " '11441',\n",
              " '8025',\n",
              " '19380',\n",
              " '13423',\n",
              " '21978',\n",
              " '10926',\n",
              " '3882',\n",
              " '10680',\n",
              " '4039',\n",
              " '12199',\n",
              " '14397',\n",
              " '19664',\n",
              " '18928',\n",
              " '8130',\n",
              " '725',\n",
              " '9729',\n",
              " '13676',\n",
              " '16532',\n",
              " '12522',\n",
              " '4999',\n",
              " '15258',\n",
              " '480',\n",
              " '3615',\n",
              " '3980',\n",
              " '19986',\n",
              " '21770',\n",
              " '5586',\n",
              " '4214',\n",
              " '6751',\n",
              " '16205',\n",
              " '18788',\n",
              " '10909',\n",
              " '22451',\n",
              " '18547',\n",
              " '18246',\n",
              " '15629',\n",
              " '15429',\n",
              " '19542',\n",
              " '19846',\n",
              " '17516',\n",
              " '4466',\n",
              " '13724',\n",
              " '12945',\n",
              " '14699',\n",
              " '4648',\n",
              " '16543',\n",
              " '16539',\n",
              " '21892',\n",
              " '16052',\n",
              " '11562',\n",
              " '8239',\n",
              " '18245',\n",
              " '20419',\n",
              " '1269',\n",
              " '13689',\n",
              " '2743',\n",
              " '11978',\n",
              " '19509',\n",
              " '16786',\n",
              " '22488',\n",
              " '22274',\n",
              " '8768',\n",
              " '24570',\n",
              " '23121',\n",
              " '17599',\n",
              " '8121',\n",
              " '19474',\n",
              " '13534',\n",
              " '21199',\n",
              " '747',\n",
              " '5875',\n",
              " '10221',\n",
              " '9322',\n",
              " '14175',\n",
              " '14320',\n",
              " '17710',\n",
              " '9417',\n",
              " '12493',\n",
              " '8788',\n",
              " '14515',\n",
              " '3770',\n",
              " '12868',\n",
              " '23945',\n",
              " '20877',\n",
              " '22878',\n",
              " '7061',\n",
              " '15030',\n",
              " '15027',\n",
              " '2194',\n",
              " '18130',\n",
              " '5972',\n",
              " '7014',\n",
              " '21474',\n",
              " '24654',\n",
              " '11539',\n",
              " '14114',\n",
              " '12973',\n",
              " '24932',\n",
              " '6842',\n",
              " '7895',\n",
              " '19785',\n",
              " '24638',\n",
              " '1430',\n",
              " '3879',\n",
              " '5800',\n",
              " '757',\n",
              " '5417',\n",
              " '8590',\n",
              " '13553',\n",
              " '5802',\n",
              " '24341',\n",
              " '5436',\n",
              " '4710',\n",
              " '10609',\n",
              " '20496',\n",
              " '14561',\n",
              " '4124',\n",
              " '11714',\n",
              " '21266',\n",
              " '5383',\n",
              " '8778',\n",
              " '18391',\n",
              " '4153',\n",
              " '8107',\n",
              " '6143',\n",
              " '8347',\n",
              " '3739',\n",
              " '23320',\n",
              " '1564',\n",
              " '15855',\n",
              " '19513',\n",
              " '21714']"
            ]
          },
          "execution_count": 62,
          "metadata": {},
          "output_type": "execute_result"
        }
      ],
      "source": [
        "top_500_features"
      ]
    },
    {
      "cell_type": "code",
      "execution_count": null,
      "id": "b1b82b70",
      "metadata": {
        "id": "b1b82b70"
      },
      "outputs": [],
      "source": [
        "df3=pd.DataFrame()"
      ]
    },
    {
      "cell_type": "code",
      "execution_count": null,
      "id": "01f78056",
      "metadata": {
        "id": "01f78056"
      },
      "outputs": [],
      "source": [
        "for x in top_500_features:\n",
        "    df3[x]=df1[x]"
      ]
    },
    {
      "cell_type": "code",
      "execution_count": null,
      "id": "c630803c",
      "metadata": {
        "id": "c630803c"
      },
      "outputs": [],
      "source": [
        "df3.to_csv(\"top_features.csv\", index=False)"
      ]
    },
    {
      "cell_type": "code",
      "execution_count": null,
      "id": "3cb75d10",
      "metadata": {
        "id": "3cb75d10",
        "outputId": "5d81d3de-1e94-4f00-ab51-2210b121a37d"
      },
      "outputs": [
        {
          "data": {
            "text/html": [
              "<div>\n",
              "<style scoped>\n",
              "    .dataframe tbody tr th:only-of-type {\n",
              "        vertical-align: middle;\n",
              "    }\n",
              "\n",
              "    .dataframe tbody tr th {\n",
              "        vertical-align: top;\n",
              "    }\n",
              "\n",
              "    .dataframe thead th {\n",
              "        text-align: right;\n",
              "    }\n",
              "</style>\n",
              "<table border=\"1\" class=\"dataframe\">\n",
              "  <thead>\n",
              "    <tr style=\"text-align: right;\">\n",
              "      <th></th>\n",
              "      <th>output</th>\n",
              "      <th>21895</th>\n",
              "      <th>3151</th>\n",
              "      <th>12371</th>\n",
              "      <th>13152</th>\n",
              "      <th>19821</th>\n",
              "      <th>2804</th>\n",
              "      <th>15204</th>\n",
              "      <th>16242</th>\n",
              "      <th>16798</th>\n",
              "      <th>...</th>\n",
              "      <th>4153</th>\n",
              "      <th>8107</th>\n",
              "      <th>6143</th>\n",
              "      <th>8347</th>\n",
              "      <th>3739</th>\n",
              "      <th>23320</th>\n",
              "      <th>1564</th>\n",
              "      <th>15855</th>\n",
              "      <th>19513</th>\n",
              "      <th>21714</th>\n",
              "    </tr>\n",
              "  </thead>\n",
              "  <tbody>\n",
              "    <tr>\n",
              "      <th>0</th>\n",
              "      <td>0</td>\n",
              "      <td>0.000000</td>\n",
              "      <td>0.000000</td>\n",
              "      <td>0.0</td>\n",
              "      <td>0.0</td>\n",
              "      <td>0.0</td>\n",
              "      <td>0.0</td>\n",
              "      <td>0.000000</td>\n",
              "      <td>0.000000</td>\n",
              "      <td>7.934182</td>\n",
              "      <td>...</td>\n",
              "      <td>0.0</td>\n",
              "      <td>0.000000</td>\n",
              "      <td>0.0</td>\n",
              "      <td>4.916677</td>\n",
              "      <td>8.113753</td>\n",
              "      <td>0.0</td>\n",
              "      <td>0.0</td>\n",
              "      <td>0.0</td>\n",
              "      <td>0.0</td>\n",
              "      <td>0.0</td>\n",
              "    </tr>\n",
              "    <tr>\n",
              "      <th>1</th>\n",
              "      <td>1</td>\n",
              "      <td>0.000000</td>\n",
              "      <td>0.000000</td>\n",
              "      <td>0.0</td>\n",
              "      <td>0.0</td>\n",
              "      <td>0.0</td>\n",
              "      <td>0.0</td>\n",
              "      <td>0.000000</td>\n",
              "      <td>0.000000</td>\n",
              "      <td>3.264938</td>\n",
              "      <td>...</td>\n",
              "      <td>0.0</td>\n",
              "      <td>0.000000</td>\n",
              "      <td>0.0</td>\n",
              "      <td>7.377468</td>\n",
              "      <td>6.751903</td>\n",
              "      <td>0.0</td>\n",
              "      <td>0.0</td>\n",
              "      <td>0.0</td>\n",
              "      <td>0.0</td>\n",
              "      <td>0.0</td>\n",
              "    </tr>\n",
              "    <tr>\n",
              "      <th>2</th>\n",
              "      <td>2</td>\n",
              "      <td>5.070895</td>\n",
              "      <td>0.459487</td>\n",
              "      <td>0.0</td>\n",
              "      <td>0.0</td>\n",
              "      <td>0.0</td>\n",
              "      <td>0.0</td>\n",
              "      <td>0.000000</td>\n",
              "      <td>1.242484</td>\n",
              "      <td>6.018667</td>\n",
              "      <td>...</td>\n",
              "      <td>0.0</td>\n",
              "      <td>0.000000</td>\n",
              "      <td>0.0</td>\n",
              "      <td>6.394336</td>\n",
              "      <td>4.291248</td>\n",
              "      <td>0.0</td>\n",
              "      <td>0.0</td>\n",
              "      <td>0.0</td>\n",
              "      <td>0.0</td>\n",
              "      <td>0.0</td>\n",
              "    </tr>\n",
              "    <tr>\n",
              "      <th>3</th>\n",
              "      <td>2</td>\n",
              "      <td>0.000000</td>\n",
              "      <td>0.000000</td>\n",
              "      <td>0.0</td>\n",
              "      <td>0.0</td>\n",
              "      <td>0.0</td>\n",
              "      <td>0.0</td>\n",
              "      <td>0.000000</td>\n",
              "      <td>0.000000</td>\n",
              "      <td>0.000000</td>\n",
              "      <td>...</td>\n",
              "      <td>0.0</td>\n",
              "      <td>3.688568</td>\n",
              "      <td>0.0</td>\n",
              "      <td>6.446243</td>\n",
              "      <td>9.325717</td>\n",
              "      <td>0.0</td>\n",
              "      <td>0.0</td>\n",
              "      <td>0.0</td>\n",
              "      <td>0.0</td>\n",
              "      <td>0.0</td>\n",
              "    </tr>\n",
              "    <tr>\n",
              "      <th>4</th>\n",
              "      <td>1</td>\n",
              "      <td>0.000000</td>\n",
              "      <td>0.000000</td>\n",
              "      <td>0.0</td>\n",
              "      <td>0.0</td>\n",
              "      <td>0.0</td>\n",
              "      <td>0.0</td>\n",
              "      <td>8.025186</td>\n",
              "      <td>0.000000</td>\n",
              "      <td>0.000000</td>\n",
              "      <td>...</td>\n",
              "      <td>0.0</td>\n",
              "      <td>0.000000</td>\n",
              "      <td>0.0</td>\n",
              "      <td>10.961446</td>\n",
              "      <td>9.071072</td>\n",
              "      <td>0.0</td>\n",
              "      <td>0.0</td>\n",
              "      <td>0.0</td>\n",
              "      <td>0.0</td>\n",
              "      <td>0.0</td>\n",
              "    </tr>\n",
              "  </tbody>\n",
              "</table>\n",
              "<p>5 rows × 500 columns</p>\n",
              "</div>"
            ],
            "text/plain": [
              "   output     21895      3151  12371  13152  19821  2804     15204     16242  \\\n",
              "0       0  0.000000  0.000000    0.0    0.0    0.0   0.0  0.000000  0.000000   \n",
              "1       1  0.000000  0.000000    0.0    0.0    0.0   0.0  0.000000  0.000000   \n",
              "2       2  5.070895  0.459487    0.0    0.0    0.0   0.0  0.000000  1.242484   \n",
              "3       2  0.000000  0.000000    0.0    0.0    0.0   0.0  0.000000  0.000000   \n",
              "4       1  0.000000  0.000000    0.0    0.0    0.0   0.0  8.025186  0.000000   \n",
              "\n",
              "      16798  ...  4153      8107  6143       8347      3739  23320  1564  \\\n",
              "0  7.934182  ...   0.0  0.000000   0.0   4.916677  8.113753    0.0   0.0   \n",
              "1  3.264938  ...   0.0  0.000000   0.0   7.377468  6.751903    0.0   0.0   \n",
              "2  6.018667  ...   0.0  0.000000   0.0   6.394336  4.291248    0.0   0.0   \n",
              "3  0.000000  ...   0.0  3.688568   0.0   6.446243  9.325717    0.0   0.0   \n",
              "4  0.000000  ...   0.0  0.000000   0.0  10.961446  9.071072    0.0   0.0   \n",
              "\n",
              "   15855  19513  21714  \n",
              "0    0.0    0.0    0.0  \n",
              "1    0.0    0.0    0.0  \n",
              "2    0.0    0.0    0.0  \n",
              "3    0.0    0.0    0.0  \n",
              "4    0.0    0.0    0.0  \n",
              "\n",
              "[5 rows x 500 columns]"
            ]
          },
          "execution_count": 70,
          "metadata": {},
          "output_type": "execute_result"
        }
      ],
      "source": [
        "top=pd.read_csv(\"top_features.csv\")\n",
        "top.head()"
      ]
    },
    {
      "cell_type": "markdown",
      "id": "588eb4de",
      "metadata": {
        "id": "588eb4de"
      },
      "source": [
        "## Modelling"
      ]
    },
    {
      "cell_type": "code",
      "execution_count": null,
      "id": "5754a971",
      "metadata": {
        "id": "5754a971"
      },
      "outputs": [],
      "source": [
        "X=pd.get_dummies(top.drop(\"output\",axis=1),drop_first=True)\n",
        "y=top['output']"
      ]
    },
    {
      "cell_type": "code",
      "execution_count": null,
      "id": "ce80d11c",
      "metadata": {
        "id": "ce80d11c"
      },
      "outputs": [],
      "source": [
        "from sklearn.model_selection import train_test_split\n",
        "\n",
        "X_train,X_test,y_train,y_test = train_test_split(X,y,train_size=0.8,\n",
        "                                                 random_state=42)"
      ]
    },
    {
      "cell_type": "markdown",
      "source": [
        "## Pycaret"
      ],
      "metadata": {
        "id": "SVvAYHnOqzgb"
      },
      "id": "SVvAYHnOqzgb"
    },
    {
      "cell_type": "code",
      "execution_count": 2,
      "id": "16ab6d79",
      "metadata": {
        "colab": {
          "base_uri": "https://localhost:8080/"
        },
        "id": "16ab6d79",
        "outputId": "9f704c9b-0be4-4f20-cf9b-b34f64250fd7"
      },
      "outputs": [
        {
          "output_type": "stream",
          "name": "stdout",
          "text": [
            "Collecting pycaret\n",
            "  Downloading pycaret-3.3.1-py3-none-any.whl (486 kB)\n",
            "\u001b[2K     \u001b[90m━━━━━━━━━━━━━━━━━━━━━━━━━━━━━━━━━━━━━━━━\u001b[0m \u001b[32m486.2/486.2 kB\u001b[0m \u001b[31m3.7 MB/s\u001b[0m eta \u001b[36m0:00:00\u001b[0m\n",
            "\u001b[?25hCollecting category-encoders>=2.4.0 (from pycaret)\n",
            "  Downloading category_encoders-2.6.3-py2.py3-none-any.whl (81 kB)\n",
            "\u001b[2K     \u001b[90m━━━━━━━━━━━━━━━━━━━━━━━━━━━━━━━━━━━━━━━━\u001b[0m \u001b[32m81.9/81.9 kB\u001b[0m \u001b[31m8.3 MB/s\u001b[0m eta \u001b[36m0:00:00\u001b[0m\n",
            "\u001b[?25hRequirement already satisfied: cloudpickle in /usr/local/lib/python3.10/dist-packages (from pycaret) (2.2.1)\n",
            "Collecting deprecation>=2.1.0 (from pycaret)\n",
            "  Downloading deprecation-2.1.0-py2.py3-none-any.whl (11 kB)\n",
            "Collecting imbalanced-learn>=0.12.0 (from pycaret)\n",
            "  Downloading imbalanced_learn-0.12.2-py3-none-any.whl (257 kB)\n",
            "\u001b[2K     \u001b[90m━━━━━━━━━━━━━━━━━━━━━━━━━━━━━━━━━━━━━━━━\u001b[0m \u001b[32m258.0/258.0 kB\u001b[0m \u001b[31m6.0 MB/s\u001b[0m eta \u001b[36m0:00:00\u001b[0m\n",
            "\u001b[?25hRequirement already satisfied: importlib-metadata>=4.12.0 in /usr/local/lib/python3.10/dist-packages (from pycaret) (7.1.0)\n",
            "Requirement already satisfied: ipython>=5.5.0 in /usr/local/lib/python3.10/dist-packages (from pycaret) (7.34.0)\n",
            "Requirement already satisfied: ipywidgets>=7.6.5 in /usr/local/lib/python3.10/dist-packages (from pycaret) (7.7.1)\n",
            "Requirement already satisfied: jinja2>=3 in /usr/local/lib/python3.10/dist-packages (from pycaret) (3.1.3)\n",
            "Collecting joblib<1.4,>=1.2.0 (from pycaret)\n",
            "  Downloading joblib-1.3.2-py3-none-any.whl (302 kB)\n",
            "\u001b[2K     \u001b[90m━━━━━━━━━━━━━━━━━━━━━━━━━━━━━━━━━━━━━━━━\u001b[0m \u001b[32m302.2/302.2 kB\u001b[0m \u001b[31m9.4 MB/s\u001b[0m eta \u001b[36m0:00:00\u001b[0m\n",
            "\u001b[?25hCollecting kaleido>=0.2.1 (from pycaret)\n",
            "  Downloading kaleido-0.2.1-py2.py3-none-manylinux1_x86_64.whl (79.9 MB)\n",
            "\u001b[2K     \u001b[90m━━━━━━━━━━━━━━━━━━━━━━━━━━━━━━━━━━━━━━━━\u001b[0m \u001b[32m79.9/79.9 MB\u001b[0m \u001b[31m5.2 MB/s\u001b[0m eta \u001b[36m0:00:00\u001b[0m\n",
            "\u001b[?25hRequirement already satisfied: lightgbm>=3.0.0 in /usr/local/lib/python3.10/dist-packages (from pycaret) (4.1.0)\n",
            "Requirement already satisfied: markupsafe>=2.0.1 in /usr/local/lib/python3.10/dist-packages (from pycaret) (2.1.5)\n",
            "Requirement already satisfied: matplotlib<3.8.0 in /usr/local/lib/python3.10/dist-packages (from pycaret) (3.7.1)\n",
            "Requirement already satisfied: nbformat>=4.2.0 in /usr/local/lib/python3.10/dist-packages (from pycaret) (5.10.4)\n",
            "Requirement already satisfied: numba>=0.55.0 in /usr/local/lib/python3.10/dist-packages (from pycaret) (0.58.1)\n",
            "Requirement already satisfied: numpy<1.27,>=1.21 in /usr/local/lib/python3.10/dist-packages (from pycaret) (1.25.2)\n",
            "Requirement already satisfied: pandas<2.2.0 in /usr/local/lib/python3.10/dist-packages (from pycaret) (2.0.3)\n",
            "Collecting plotly-resampler>=0.8.3.1 (from pycaret)\n",
            "  Downloading plotly_resampler-0.10.0-py3-none-any.whl (80 kB)\n",
            "\u001b[2K     \u001b[90m━━━━━━━━━━━━━━━━━━━━━━━━━━━━━━━━━━━━━━━━\u001b[0m \u001b[32m80.7/80.7 kB\u001b[0m \u001b[31m6.4 MB/s\u001b[0m eta \u001b[36m0:00:00\u001b[0m\n",
            "\u001b[?25hRequirement already satisfied: plotly>=5.14.0 in /usr/local/lib/python3.10/dist-packages (from pycaret) (5.15.0)\n",
            "Collecting pmdarima>=2.0.4 (from pycaret)\n",
            "  Downloading pmdarima-2.0.4-cp310-cp310-manylinux_2_17_x86_64.manylinux2014_x86_64.manylinux_2_28_x86_64.whl (2.1 MB)\n",
            "\u001b[2K     \u001b[90m━━━━━━━━━━━━━━━━━━━━━━━━━━━━━━━━━━━━━━━━\u001b[0m \u001b[32m2.1/2.1 MB\u001b[0m \u001b[31m48.7 MB/s\u001b[0m eta \u001b[36m0:00:00\u001b[0m\n",
            "\u001b[?25hRequirement already satisfied: psutil>=5.9.0 in /usr/local/lib/python3.10/dist-packages (from pycaret) (5.9.5)\n",
            "Collecting pyod>=1.1.3 (from pycaret)\n",
            "  Downloading pyod-1.1.3.tar.gz (160 kB)\n",
            "\u001b[2K     \u001b[90m━━━━━━━━━━━━━━━━━━━━━━━━━━━━━━━━━━━━━━━━\u001b[0m \u001b[32m160.5/160.5 kB\u001b[0m \u001b[31m18.8 MB/s\u001b[0m eta \u001b[36m0:00:00\u001b[0m\n",
            "\u001b[?25h  Preparing metadata (setup.py) ... \u001b[?25l\u001b[?25hdone\n",
            "Requirement already satisfied: requests>=2.27.1 in /usr/local/lib/python3.10/dist-packages (from pycaret) (2.31.0)\n",
            "Collecting schemdraw==0.15 (from pycaret)\n",
            "  Downloading schemdraw-0.15-py3-none-any.whl (106 kB)\n",
            "\u001b[2K     \u001b[90m━━━━━━━━━━━━━━━━━━━━━━━━━━━━━━━━━━━━━━━━\u001b[0m \u001b[32m106.8/106.8 kB\u001b[0m \u001b[31m13.5 MB/s\u001b[0m eta \u001b[36m0:00:00\u001b[0m\n",
            "\u001b[?25hCollecting scikit-learn>1.4.0 (from pycaret)\n",
            "  Downloading scikit_learn-1.4.2-cp310-cp310-manylinux_2_17_x86_64.manylinux2014_x86_64.whl (12.1 MB)\n",
            "\u001b[2K     \u001b[90m━━━━━━━━━━━━━━━━━━━━━━━━━━━━━━━━━━━━━━━━\u001b[0m \u001b[32m12.1/12.1 MB\u001b[0m \u001b[31m63.2 MB/s\u001b[0m eta \u001b[36m0:00:00\u001b[0m\n",
            "\u001b[?25hCollecting scikit-plot>=0.3.7 (from pycaret)\n",
            "  Downloading scikit_plot-0.3.7-py3-none-any.whl (33 kB)\n",
            "Requirement already satisfied: scipy<=1.11.4,>=1.6.1 in /usr/local/lib/python3.10/dist-packages (from pycaret) (1.11.4)\n",
            "Collecting sktime==0.26.0 (from pycaret)\n",
            "  Downloading sktime-0.26.0-py3-none-any.whl (21.8 MB)\n",
            "\u001b[2K     \u001b[90m━━━━━━━━━━━━━━━━━━━━━━━━━━━━━━━━━━━━━━━━\u001b[0m \u001b[32m21.8/21.8 MB\u001b[0m \u001b[31m57.8 MB/s\u001b[0m eta \u001b[36m0:00:00\u001b[0m\n",
            "\u001b[?25hRequirement already satisfied: statsmodels>=0.12.1 in /usr/local/lib/python3.10/dist-packages (from pycaret) (0.14.2)\n",
            "Collecting tbats>=1.1.3 (from pycaret)\n",
            "  Downloading tbats-1.1.3-py3-none-any.whl (44 kB)\n",
            "\u001b[2K     \u001b[90m━━━━━━━━━━━━━━━━━━━━━━━━━━━━━━━━━━━━━━━━\u001b[0m \u001b[32m44.0/44.0 kB\u001b[0m \u001b[31m6.3 MB/s\u001b[0m eta \u001b[36m0:00:00\u001b[0m\n",
            "\u001b[?25hRequirement already satisfied: tqdm>=4.62.0 in /usr/local/lib/python3.10/dist-packages (from pycaret) (4.66.2)\n",
            "Collecting xxhash (from pycaret)\n",
            "  Downloading xxhash-3.4.1-cp310-cp310-manylinux_2_17_x86_64.manylinux2014_x86_64.whl (194 kB)\n",
            "\u001b[2K     \u001b[90m━━━━━━━━━━━━━━━━━━━━━━━━━━━━━━━━━━━━━━━━\u001b[0m \u001b[32m194.1/194.1 kB\u001b[0m \u001b[31m24.2 MB/s\u001b[0m eta \u001b[36m0:00:00\u001b[0m\n",
            "\u001b[?25hRequirement already satisfied: yellowbrick>=1.4 in /usr/local/lib/python3.10/dist-packages (from pycaret) (1.5)\n",
            "Collecting wurlitzer (from pycaret)\n",
            "  Downloading wurlitzer-3.0.3-py3-none-any.whl (7.3 kB)\n",
            "Requirement already satisfied: packaging in /usr/local/lib/python3.10/dist-packages (from sktime==0.26.0->pycaret) (24.0)\n",
            "Collecting scikit-base<0.8.0 (from sktime==0.26.0->pycaret)\n",
            "  Downloading scikit_base-0.7.7-py3-none-any.whl (129 kB)\n",
            "\u001b[2K     \u001b[90m━━━━━━━━━━━━━━━━━━━━━━━━━━━━━━━━━━━━━━━━\u001b[0m \u001b[32m129.9/129.9 kB\u001b[0m \u001b[31m15.9 MB/s\u001b[0m eta \u001b[36m0:00:00\u001b[0m\n",
            "\u001b[?25hRequirement already satisfied: patsy>=0.5.1 in /usr/local/lib/python3.10/dist-packages (from category-encoders>=2.4.0->pycaret) (0.5.6)\n",
            "Requirement already satisfied: threadpoolctl>=2.0.0 in /usr/local/lib/python3.10/dist-packages (from imbalanced-learn>=0.12.0->pycaret) (3.4.0)\n",
            "Requirement already satisfied: zipp>=0.5 in /usr/local/lib/python3.10/dist-packages (from importlib-metadata>=4.12.0->pycaret) (3.18.1)\n",
            "Requirement already satisfied: setuptools>=18.5 in /usr/local/lib/python3.10/dist-packages (from ipython>=5.5.0->pycaret) (67.7.2)\n",
            "Collecting jedi>=0.16 (from ipython>=5.5.0->pycaret)\n",
            "  Downloading jedi-0.19.1-py2.py3-none-any.whl (1.6 MB)\n",
            "\u001b[2K     \u001b[90m━━━━━━━━━━━━━━━━━━━━━━━━━━━━━━━━━━━━━━━━\u001b[0m \u001b[32m1.6/1.6 MB\u001b[0m \u001b[31m55.6 MB/s\u001b[0m eta \u001b[36m0:00:00\u001b[0m\n",
            "\u001b[?25hRequirement already satisfied: decorator in /usr/local/lib/python3.10/dist-packages (from ipython>=5.5.0->pycaret) (4.4.2)\n",
            "Requirement already satisfied: pickleshare in /usr/local/lib/python3.10/dist-packages (from ipython>=5.5.0->pycaret) (0.7.5)\n",
            "Requirement already satisfied: traitlets>=4.2 in /usr/local/lib/python3.10/dist-packages (from ipython>=5.5.0->pycaret) (5.7.1)\n",
            "Requirement already satisfied: prompt-toolkit!=3.0.0,!=3.0.1,<3.1.0,>=2.0.0 in /usr/local/lib/python3.10/dist-packages (from ipython>=5.5.0->pycaret) (3.0.43)\n",
            "Requirement already satisfied: pygments in /usr/local/lib/python3.10/dist-packages (from ipython>=5.5.0->pycaret) (2.16.1)\n",
            "Requirement already satisfied: backcall in /usr/local/lib/python3.10/dist-packages (from ipython>=5.5.0->pycaret) (0.2.0)\n",
            "Requirement already satisfied: matplotlib-inline in /usr/local/lib/python3.10/dist-packages (from ipython>=5.5.0->pycaret) (0.1.7)\n",
            "Requirement already satisfied: pexpect>4.3 in /usr/local/lib/python3.10/dist-packages (from ipython>=5.5.0->pycaret) (4.9.0)\n",
            "Requirement already satisfied: ipykernel>=4.5.1 in /usr/local/lib/python3.10/dist-packages (from ipywidgets>=7.6.5->pycaret) (5.5.6)\n",
            "Requirement already satisfied: ipython-genutils~=0.2.0 in /usr/local/lib/python3.10/dist-packages (from ipywidgets>=7.6.5->pycaret) (0.2.0)\n",
            "Requirement already satisfied: widgetsnbextension~=3.6.0 in /usr/local/lib/python3.10/dist-packages (from ipywidgets>=7.6.5->pycaret) (3.6.6)\n",
            "Requirement already satisfied: jupyterlab-widgets>=1.0.0 in /usr/local/lib/python3.10/dist-packages (from ipywidgets>=7.6.5->pycaret) (3.0.10)\n",
            "Requirement already satisfied: contourpy>=1.0.1 in /usr/local/lib/python3.10/dist-packages (from matplotlib<3.8.0->pycaret) (1.2.1)\n",
            "Requirement already satisfied: cycler>=0.10 in /usr/local/lib/python3.10/dist-packages (from matplotlib<3.8.0->pycaret) (0.12.1)\n",
            "Requirement already satisfied: fonttools>=4.22.0 in /usr/local/lib/python3.10/dist-packages (from matplotlib<3.8.0->pycaret) (4.51.0)\n",
            "Requirement already satisfied: kiwisolver>=1.0.1 in /usr/local/lib/python3.10/dist-packages (from matplotlib<3.8.0->pycaret) (1.4.5)\n",
            "Requirement already satisfied: pillow>=6.2.0 in /usr/local/lib/python3.10/dist-packages (from matplotlib<3.8.0->pycaret) (9.4.0)\n",
            "Requirement already satisfied: pyparsing>=2.3.1 in /usr/local/lib/python3.10/dist-packages (from matplotlib<3.8.0->pycaret) (3.1.2)\n",
            "Requirement already satisfied: python-dateutil>=2.7 in /usr/local/lib/python3.10/dist-packages (from matplotlib<3.8.0->pycaret) (2.8.2)\n",
            "Requirement already satisfied: fastjsonschema>=2.15 in /usr/local/lib/python3.10/dist-packages (from nbformat>=4.2.0->pycaret) (2.19.1)\n",
            "Requirement already satisfied: jsonschema>=2.6 in /usr/local/lib/python3.10/dist-packages (from nbformat>=4.2.0->pycaret) (4.19.2)\n",
            "Requirement already satisfied: jupyter-core!=5.0.*,>=4.12 in /usr/local/lib/python3.10/dist-packages (from nbformat>=4.2.0->pycaret) (5.7.2)\n",
            "Requirement already satisfied: llvmlite<0.42,>=0.41.0dev0 in /usr/local/lib/python3.10/dist-packages (from numba>=0.55.0->pycaret) (0.41.1)\n",
            "Requirement already satisfied: pytz>=2020.1 in /usr/local/lib/python3.10/dist-packages (from pandas<2.2.0->pycaret) (2023.4)\n",
            "Requirement already satisfied: tzdata>=2022.1 in /usr/local/lib/python3.10/dist-packages (from pandas<2.2.0->pycaret) (2024.1)\n",
            "Requirement already satisfied: tenacity>=6.2.0 in /usr/local/lib/python3.10/dist-packages (from plotly>=5.14.0->pycaret) (8.2.3)\n",
            "Collecting dash>=2.9.0 (from plotly-resampler>=0.8.3.1->pycaret)\n",
            "  Downloading dash-2.16.1-py3-none-any.whl (10.2 MB)\n",
            "\u001b[2K     \u001b[90m━━━━━━━━━━━━━━━━━━━━━━━━━━━━━━━━━━━━━━━━\u001b[0m \u001b[32m10.2/10.2 MB\u001b[0m \u001b[31m41.8 MB/s\u001b[0m eta \u001b[36m0:00:00\u001b[0m\n",
            "\u001b[?25hCollecting orjson<4.0.0,>=3.8.0 (from plotly-resampler>=0.8.3.1->pycaret)\n",
            "  Downloading orjson-3.10.1-cp310-cp310-manylinux_2_17_x86_64.manylinux2014_x86_64.whl (141 kB)\n",
            "\u001b[2K     \u001b[90m━━━━━━━━━━━━━━━━━━━━━━━━━━━━━━━━━━━━━━━━\u001b[0m \u001b[32m141.1/141.1 kB\u001b[0m \u001b[31m19.4 MB/s\u001b[0m eta \u001b[36m0:00:00\u001b[0m\n",
            "\u001b[?25hCollecting tsdownsample>=0.1.3 (from plotly-resampler>=0.8.3.1->pycaret)\n",
            "  Downloading tsdownsample-0.1.3-cp310-cp310-manylinux_2_17_x86_64.manylinux2014_x86_64.whl (2.1 MB)\n",
            "\u001b[2K     \u001b[90m━━━━━━━━━━━━━━━━━━━━━━━━━━━━━━━━━━━━━━━━\u001b[0m \u001b[32m2.1/2.1 MB\u001b[0m \u001b[31m78.6 MB/s\u001b[0m eta \u001b[36m0:00:00\u001b[0m\n",
            "\u001b[?25hRequirement already satisfied: Cython!=0.29.18,!=0.29.31,>=0.29 in /usr/local/lib/python3.10/dist-packages (from pmdarima>=2.0.4->pycaret) (3.0.10)\n",
            "Requirement already satisfied: urllib3 in /usr/local/lib/python3.10/dist-packages (from pmdarima>=2.0.4->pycaret) (2.0.7)\n",
            "Requirement already satisfied: six in /usr/local/lib/python3.10/dist-packages (from pyod>=1.1.3->pycaret) (1.16.0)\n",
            "Requirement already satisfied: charset-normalizer<4,>=2 in /usr/local/lib/python3.10/dist-packages (from requests>=2.27.1->pycaret) (3.3.2)\n",
            "Requirement already satisfied: idna<4,>=2.5 in /usr/local/lib/python3.10/dist-packages (from requests>=2.27.1->pycaret) (3.7)\n",
            "Requirement already satisfied: certifi>=2017.4.17 in /usr/local/lib/python3.10/dist-packages (from requests>=2.27.1->pycaret) (2024.2.2)\n",
            "Requirement already satisfied: Flask<3.1,>=1.0.4 in /usr/local/lib/python3.10/dist-packages (from dash>=2.9.0->plotly-resampler>=0.8.3.1->pycaret) (2.2.5)\n",
            "Requirement already satisfied: Werkzeug<3.1 in /usr/local/lib/python3.10/dist-packages (from dash>=2.9.0->plotly-resampler>=0.8.3.1->pycaret) (3.0.2)\n",
            "Collecting dash-html-components==2.0.0 (from dash>=2.9.0->plotly-resampler>=0.8.3.1->pycaret)\n",
            "  Downloading dash_html_components-2.0.0-py3-none-any.whl (4.1 kB)\n",
            "Collecting dash-core-components==2.0.0 (from dash>=2.9.0->plotly-resampler>=0.8.3.1->pycaret)\n",
            "  Downloading dash_core_components-2.0.0-py3-none-any.whl (3.8 kB)\n",
            "Collecting dash-table==5.0.0 (from dash>=2.9.0->plotly-resampler>=0.8.3.1->pycaret)\n",
            "  Downloading dash_table-5.0.0-py3-none-any.whl (3.9 kB)\n",
            "Requirement already satisfied: typing-extensions>=4.1.1 in /usr/local/lib/python3.10/dist-packages (from dash>=2.9.0->plotly-resampler>=0.8.3.1->pycaret) (4.11.0)\n",
            "Collecting retrying (from dash>=2.9.0->plotly-resampler>=0.8.3.1->pycaret)\n",
            "  Downloading retrying-1.3.4-py3-none-any.whl (11 kB)\n",
            "Requirement already satisfied: nest-asyncio in /usr/local/lib/python3.10/dist-packages (from dash>=2.9.0->plotly-resampler>=0.8.3.1->pycaret) (1.6.0)\n",
            "Requirement already satisfied: jupyter-client in /usr/local/lib/python3.10/dist-packages (from ipykernel>=4.5.1->ipywidgets>=7.6.5->pycaret) (6.1.12)\n",
            "Requirement already satisfied: tornado>=4.2 in /usr/local/lib/python3.10/dist-packages (from ipykernel>=4.5.1->ipywidgets>=7.6.5->pycaret) (6.3.3)\n",
            "Requirement already satisfied: parso<0.9.0,>=0.8.3 in /usr/local/lib/python3.10/dist-packages (from jedi>=0.16->ipython>=5.5.0->pycaret) (0.8.4)\n",
            "Requirement already satisfied: attrs>=22.2.0 in /usr/local/lib/python3.10/dist-packages (from jsonschema>=2.6->nbformat>=4.2.0->pycaret) (23.2.0)\n",
            "Requirement already satisfied: jsonschema-specifications>=2023.03.6 in /usr/local/lib/python3.10/dist-packages (from jsonschema>=2.6->nbformat>=4.2.0->pycaret) (2023.12.1)\n",
            "Requirement already satisfied: referencing>=0.28.4 in /usr/local/lib/python3.10/dist-packages (from jsonschema>=2.6->nbformat>=4.2.0->pycaret) (0.34.0)\n",
            "Requirement already satisfied: rpds-py>=0.7.1 in /usr/local/lib/python3.10/dist-packages (from jsonschema>=2.6->nbformat>=4.2.0->pycaret) (0.18.0)\n",
            "Requirement already satisfied: platformdirs>=2.5 in /usr/local/lib/python3.10/dist-packages (from jupyter-core!=5.0.*,>=4.12->nbformat>=4.2.0->pycaret) (4.2.0)\n",
            "Requirement already satisfied: ptyprocess>=0.5 in /usr/local/lib/python3.10/dist-packages (from pexpect>4.3->ipython>=5.5.0->pycaret) (0.7.0)\n",
            "Requirement already satisfied: wcwidth in /usr/local/lib/python3.10/dist-packages (from prompt-toolkit!=3.0.0,!=3.0.1,<3.1.0,>=2.0.0->ipython>=5.5.0->pycaret) (0.2.13)\n",
            "Requirement already satisfied: notebook>=4.4.1 in /usr/local/lib/python3.10/dist-packages (from widgetsnbextension~=3.6.0->ipywidgets>=7.6.5->pycaret) (6.5.5)\n",
            "Requirement already satisfied: itsdangerous>=2.0 in /usr/local/lib/python3.10/dist-packages (from Flask<3.1,>=1.0.4->dash>=2.9.0->plotly-resampler>=0.8.3.1->pycaret) (2.2.0)\n",
            "Requirement already satisfied: click>=8.0 in /usr/local/lib/python3.10/dist-packages (from Flask<3.1,>=1.0.4->dash>=2.9.0->plotly-resampler>=0.8.3.1->pycaret) (8.1.7)\n",
            "Requirement already satisfied: pyzmq<25,>=17 in /usr/local/lib/python3.10/dist-packages (from notebook>=4.4.1->widgetsnbextension~=3.6.0->ipywidgets>=7.6.5->pycaret) (23.2.1)\n",
            "Requirement already satisfied: argon2-cffi in /usr/local/lib/python3.10/dist-packages (from notebook>=4.4.1->widgetsnbextension~=3.6.0->ipywidgets>=7.6.5->pycaret) (23.1.0)\n",
            "Requirement already satisfied: nbconvert>=5 in /usr/local/lib/python3.10/dist-packages (from notebook>=4.4.1->widgetsnbextension~=3.6.0->ipywidgets>=7.6.5->pycaret) (6.5.4)\n",
            "Requirement already satisfied: Send2Trash>=1.8.0 in /usr/local/lib/python3.10/dist-packages (from notebook>=4.4.1->widgetsnbextension~=3.6.0->ipywidgets>=7.6.5->pycaret) (1.8.3)\n",
            "Requirement already satisfied: terminado>=0.8.3 in /usr/local/lib/python3.10/dist-packages (from notebook>=4.4.1->widgetsnbextension~=3.6.0->ipywidgets>=7.6.5->pycaret) (0.18.1)\n",
            "Requirement already satisfied: prometheus-client in /usr/local/lib/python3.10/dist-packages (from notebook>=4.4.1->widgetsnbextension~=3.6.0->ipywidgets>=7.6.5->pycaret) (0.20.0)\n",
            "Requirement already satisfied: nbclassic>=0.4.7 in /usr/local/lib/python3.10/dist-packages (from notebook>=4.4.1->widgetsnbextension~=3.6.0->ipywidgets>=7.6.5->pycaret) (1.0.0)\n",
            "Requirement already satisfied: jupyter-server>=1.8 in /usr/local/lib/python3.10/dist-packages (from nbclassic>=0.4.7->notebook>=4.4.1->widgetsnbextension~=3.6.0->ipywidgets>=7.6.5->pycaret) (1.24.0)\n",
            "Requirement already satisfied: notebook-shim>=0.2.3 in /usr/local/lib/python3.10/dist-packages (from nbclassic>=0.4.7->notebook>=4.4.1->widgetsnbextension~=3.6.0->ipywidgets>=7.6.5->pycaret) (0.2.4)\n",
            "Requirement already satisfied: lxml in /usr/local/lib/python3.10/dist-packages (from nbconvert>=5->notebook>=4.4.1->widgetsnbextension~=3.6.0->ipywidgets>=7.6.5->pycaret) (4.9.4)\n",
            "Requirement already satisfied: beautifulsoup4 in /usr/local/lib/python3.10/dist-packages (from nbconvert>=5->notebook>=4.4.1->widgetsnbextension~=3.6.0->ipywidgets>=7.6.5->pycaret) (4.12.3)\n",
            "Requirement already satisfied: bleach in /usr/local/lib/python3.10/dist-packages (from nbconvert>=5->notebook>=4.4.1->widgetsnbextension~=3.6.0->ipywidgets>=7.6.5->pycaret) (6.1.0)\n",
            "Requirement already satisfied: defusedxml in /usr/local/lib/python3.10/dist-packages (from nbconvert>=5->notebook>=4.4.1->widgetsnbextension~=3.6.0->ipywidgets>=7.6.5->pycaret) (0.7.1)\n",
            "Requirement already satisfied: entrypoints>=0.2.2 in /usr/local/lib/python3.10/dist-packages (from nbconvert>=5->notebook>=4.4.1->widgetsnbextension~=3.6.0->ipywidgets>=7.6.5->pycaret) (0.4)\n",
            "Requirement already satisfied: jupyterlab-pygments in /usr/local/lib/python3.10/dist-packages (from nbconvert>=5->notebook>=4.4.1->widgetsnbextension~=3.6.0->ipywidgets>=7.6.5->pycaret) (0.3.0)\n",
            "Requirement already satisfied: mistune<2,>=0.8.1 in /usr/local/lib/python3.10/dist-packages (from nbconvert>=5->notebook>=4.4.1->widgetsnbextension~=3.6.0->ipywidgets>=7.6.5->pycaret) (0.8.4)\n",
            "Requirement already satisfied: nbclient>=0.5.0 in /usr/local/lib/python3.10/dist-packages (from nbconvert>=5->notebook>=4.4.1->widgetsnbextension~=3.6.0->ipywidgets>=7.6.5->pycaret) (0.10.0)\n",
            "Requirement already satisfied: pandocfilters>=1.4.1 in /usr/local/lib/python3.10/dist-packages (from nbconvert>=5->notebook>=4.4.1->widgetsnbextension~=3.6.0->ipywidgets>=7.6.5->pycaret) (1.5.1)\n",
            "Requirement already satisfied: tinycss2 in /usr/local/lib/python3.10/dist-packages (from nbconvert>=5->notebook>=4.4.1->widgetsnbextension~=3.6.0->ipywidgets>=7.6.5->pycaret) (1.2.1)\n",
            "Requirement already satisfied: argon2-cffi-bindings in /usr/local/lib/python3.10/dist-packages (from argon2-cffi->notebook>=4.4.1->widgetsnbextension~=3.6.0->ipywidgets>=7.6.5->pycaret) (21.2.0)\n",
            "Requirement already satisfied: anyio<4,>=3.1.0 in /usr/local/lib/python3.10/dist-packages (from jupyter-server>=1.8->nbclassic>=0.4.7->notebook>=4.4.1->widgetsnbextension~=3.6.0->ipywidgets>=7.6.5->pycaret) (3.7.1)\n",
            "Requirement already satisfied: websocket-client in /usr/local/lib/python3.10/dist-packages (from jupyter-server>=1.8->nbclassic>=0.4.7->notebook>=4.4.1->widgetsnbextension~=3.6.0->ipywidgets>=7.6.5->pycaret) (1.7.0)\n",
            "Requirement already satisfied: cffi>=1.0.1 in /usr/local/lib/python3.10/dist-packages (from argon2-cffi-bindings->argon2-cffi->notebook>=4.4.1->widgetsnbextension~=3.6.0->ipywidgets>=7.6.5->pycaret) (1.16.0)\n",
            "Requirement already satisfied: soupsieve>1.2 in /usr/local/lib/python3.10/dist-packages (from beautifulsoup4->nbconvert>=5->notebook>=4.4.1->widgetsnbextension~=3.6.0->ipywidgets>=7.6.5->pycaret) (2.5)\n",
            "Requirement already satisfied: webencodings in /usr/local/lib/python3.10/dist-packages (from bleach->nbconvert>=5->notebook>=4.4.1->widgetsnbextension~=3.6.0->ipywidgets>=7.6.5->pycaret) (0.5.1)\n",
            "Requirement already satisfied: sniffio>=1.1 in /usr/local/lib/python3.10/dist-packages (from anyio<4,>=3.1.0->jupyter-server>=1.8->nbclassic>=0.4.7->notebook>=4.4.1->widgetsnbextension~=3.6.0->ipywidgets>=7.6.5->pycaret) (1.3.1)\n",
            "Requirement already satisfied: exceptiongroup in /usr/local/lib/python3.10/dist-packages (from anyio<4,>=3.1.0->jupyter-server>=1.8->nbclassic>=0.4.7->notebook>=4.4.1->widgetsnbextension~=3.6.0->ipywidgets>=7.6.5->pycaret) (1.2.1)\n",
            "Requirement already satisfied: pycparser in /usr/local/lib/python3.10/dist-packages (from cffi>=1.0.1->argon2-cffi-bindings->argon2-cffi->notebook>=4.4.1->widgetsnbextension~=3.6.0->ipywidgets>=7.6.5->pycaret) (2.22)\n",
            "Building wheels for collected packages: pyod\n",
            "  Building wheel for pyod (setup.py) ... \u001b[?25l\u001b[?25hdone\n",
            "  Created wheel for pyod: filename=pyod-1.1.3-py3-none-any.whl size=190250 sha256=73df8729ca8404bb5f6d92139e00868b6bf97440ae0a5728587b12c3babf5824\n",
            "  Stored in directory: /root/.cache/pip/wheels/05/f8/db/124d43bec122d6ec0ab3713fadfe25ebed8af52ec561682b4e\n",
            "Successfully built pyod\n",
            "Installing collected packages: kaleido, dash-table, dash-html-components, dash-core-components, xxhash, wurlitzer, tsdownsample, scikit-base, schemdraw, retrying, orjson, joblib, jedi, deprecation, scikit-learn, sktime, scikit-plot, pyod, imbalanced-learn, dash, pmdarima, plotly-resampler, category-encoders, tbats, pycaret\n",
            "  Attempting uninstall: joblib\n",
            "    Found existing installation: joblib 1.4.0\n",
            "    Uninstalling joblib-1.4.0:\n",
            "      Successfully uninstalled joblib-1.4.0\n",
            "  Attempting uninstall: scikit-learn\n",
            "    Found existing installation: scikit-learn 1.2.2\n",
            "    Uninstalling scikit-learn-1.2.2:\n",
            "      Successfully uninstalled scikit-learn-1.2.2\n",
            "  Attempting uninstall: imbalanced-learn\n",
            "    Found existing installation: imbalanced-learn 0.10.1\n",
            "    Uninstalling imbalanced-learn-0.10.1:\n",
            "      Successfully uninstalled imbalanced-learn-0.10.1\n",
            "Successfully installed category-encoders-2.6.3 dash-2.16.1 dash-core-components-2.0.0 dash-html-components-2.0.0 dash-table-5.0.0 deprecation-2.1.0 imbalanced-learn-0.12.2 jedi-0.19.1 joblib-1.3.2 kaleido-0.2.1 orjson-3.10.1 plotly-resampler-0.10.0 pmdarima-2.0.4 pycaret-3.3.1 pyod-1.1.3 retrying-1.3.4 schemdraw-0.15 scikit-base-0.7.7 scikit-learn-1.4.2 scikit-plot-0.3.7 sktime-0.26.0 tbats-1.1.3 tsdownsample-0.1.3 wurlitzer-3.0.3 xxhash-3.4.1\n"
          ]
        }
      ],
      "source": [
        "pip install pycaret"
      ]
    },
    {
      "cell_type": "code",
      "execution_count": null,
      "id": "7f718d34",
      "metadata": {
        "id": "7f718d34"
      },
      "outputs": [],
      "source": [
        "from pycaret.datasets import get_data"
      ]
    },
    {
      "cell_type": "code",
      "execution_count": 4,
      "id": "ca1551c1",
      "metadata": {
        "colab": {
          "base_uri": "https://localhost:8080/",
          "height": 235
        },
        "id": "ca1551c1",
        "outputId": "2fdfa04e-ac69-4fdb-97ff-a219de3a3231"
      },
      "outputs": [
        {
          "output_type": "execute_result",
          "data": {
            "text/plain": [
              "   output     21895      3151  12371  13152  19821  2804     15204     16242  \\\n",
              "0       0  0.000000  0.000000    0.0    0.0    0.0   0.0  0.000000  0.000000   \n",
              "1       1  0.000000  0.000000    0.0    0.0    0.0   0.0  0.000000  0.000000   \n",
              "2       2  5.070895  0.459487    0.0    0.0    0.0   0.0  0.000000  1.242484   \n",
              "3       2  0.000000  0.000000    0.0    0.0    0.0   0.0  0.000000  0.000000   \n",
              "4       1  0.000000  0.000000    0.0    0.0    0.0   0.0  8.025186  0.000000   \n",
              "\n",
              "      16798  ...  4153      8107  6143       8347      3739  23320  1564  \\\n",
              "0  7.934182  ...   0.0  0.000000   0.0   4.916677  8.113753    0.0   0.0   \n",
              "1  3.264938  ...   0.0  0.000000   0.0   7.377468  6.751903    0.0   0.0   \n",
              "2  6.018667  ...   0.0  0.000000   0.0   6.394336  4.291248    0.0   0.0   \n",
              "3  0.000000  ...   0.0  3.688568   0.0   6.446243  9.325717    0.0   0.0   \n",
              "4  0.000000  ...   0.0  0.000000   0.0  10.961446  9.071072    0.0   0.0   \n",
              "\n",
              "   15855  19513  21714  \n",
              "0    0.0    0.0    0.0  \n",
              "1    0.0    0.0    0.0  \n",
              "2    0.0    0.0    0.0  \n",
              "3    0.0    0.0    0.0  \n",
              "4    0.0    0.0    0.0  \n",
              "\n",
              "[5 rows x 500 columns]"
            ],
            "text/html": [
              "\n",
              "  <div id=\"df-7e3301c0-874f-4359-bbb5-5f2ff72f9673\" class=\"colab-df-container\">\n",
              "    <div>\n",
              "<style scoped>\n",
              "    .dataframe tbody tr th:only-of-type {\n",
              "        vertical-align: middle;\n",
              "    }\n",
              "\n",
              "    .dataframe tbody tr th {\n",
              "        vertical-align: top;\n",
              "    }\n",
              "\n",
              "    .dataframe thead th {\n",
              "        text-align: right;\n",
              "    }\n",
              "</style>\n",
              "<table border=\"1\" class=\"dataframe\">\n",
              "  <thead>\n",
              "    <tr style=\"text-align: right;\">\n",
              "      <th></th>\n",
              "      <th>output</th>\n",
              "      <th>21895</th>\n",
              "      <th>3151</th>\n",
              "      <th>12371</th>\n",
              "      <th>13152</th>\n",
              "      <th>19821</th>\n",
              "      <th>2804</th>\n",
              "      <th>15204</th>\n",
              "      <th>16242</th>\n",
              "      <th>16798</th>\n",
              "      <th>...</th>\n",
              "      <th>4153</th>\n",
              "      <th>8107</th>\n",
              "      <th>6143</th>\n",
              "      <th>8347</th>\n",
              "      <th>3739</th>\n",
              "      <th>23320</th>\n",
              "      <th>1564</th>\n",
              "      <th>15855</th>\n",
              "      <th>19513</th>\n",
              "      <th>21714</th>\n",
              "    </tr>\n",
              "  </thead>\n",
              "  <tbody>\n",
              "    <tr>\n",
              "      <th>0</th>\n",
              "      <td>0</td>\n",
              "      <td>0.000000</td>\n",
              "      <td>0.000000</td>\n",
              "      <td>0.0</td>\n",
              "      <td>0.0</td>\n",
              "      <td>0.0</td>\n",
              "      <td>0.0</td>\n",
              "      <td>0.000000</td>\n",
              "      <td>0.000000</td>\n",
              "      <td>7.934182</td>\n",
              "      <td>...</td>\n",
              "      <td>0.0</td>\n",
              "      <td>0.000000</td>\n",
              "      <td>0.0</td>\n",
              "      <td>4.916677</td>\n",
              "      <td>8.113753</td>\n",
              "      <td>0.0</td>\n",
              "      <td>0.0</td>\n",
              "      <td>0.0</td>\n",
              "      <td>0.0</td>\n",
              "      <td>0.0</td>\n",
              "    </tr>\n",
              "    <tr>\n",
              "      <th>1</th>\n",
              "      <td>1</td>\n",
              "      <td>0.000000</td>\n",
              "      <td>0.000000</td>\n",
              "      <td>0.0</td>\n",
              "      <td>0.0</td>\n",
              "      <td>0.0</td>\n",
              "      <td>0.0</td>\n",
              "      <td>0.000000</td>\n",
              "      <td>0.000000</td>\n",
              "      <td>3.264938</td>\n",
              "      <td>...</td>\n",
              "      <td>0.0</td>\n",
              "      <td>0.000000</td>\n",
              "      <td>0.0</td>\n",
              "      <td>7.377468</td>\n",
              "      <td>6.751903</td>\n",
              "      <td>0.0</td>\n",
              "      <td>0.0</td>\n",
              "      <td>0.0</td>\n",
              "      <td>0.0</td>\n",
              "      <td>0.0</td>\n",
              "    </tr>\n",
              "    <tr>\n",
              "      <th>2</th>\n",
              "      <td>2</td>\n",
              "      <td>5.070895</td>\n",
              "      <td>0.459487</td>\n",
              "      <td>0.0</td>\n",
              "      <td>0.0</td>\n",
              "      <td>0.0</td>\n",
              "      <td>0.0</td>\n",
              "      <td>0.000000</td>\n",
              "      <td>1.242484</td>\n",
              "      <td>6.018667</td>\n",
              "      <td>...</td>\n",
              "      <td>0.0</td>\n",
              "      <td>0.000000</td>\n",
              "      <td>0.0</td>\n",
              "      <td>6.394336</td>\n",
              "      <td>4.291248</td>\n",
              "      <td>0.0</td>\n",
              "      <td>0.0</td>\n",
              "      <td>0.0</td>\n",
              "      <td>0.0</td>\n",
              "      <td>0.0</td>\n",
              "    </tr>\n",
              "    <tr>\n",
              "      <th>3</th>\n",
              "      <td>2</td>\n",
              "      <td>0.000000</td>\n",
              "      <td>0.000000</td>\n",
              "      <td>0.0</td>\n",
              "      <td>0.0</td>\n",
              "      <td>0.0</td>\n",
              "      <td>0.0</td>\n",
              "      <td>0.000000</td>\n",
              "      <td>0.000000</td>\n",
              "      <td>0.000000</td>\n",
              "      <td>...</td>\n",
              "      <td>0.0</td>\n",
              "      <td>3.688568</td>\n",
              "      <td>0.0</td>\n",
              "      <td>6.446243</td>\n",
              "      <td>9.325717</td>\n",
              "      <td>0.0</td>\n",
              "      <td>0.0</td>\n",
              "      <td>0.0</td>\n",
              "      <td>0.0</td>\n",
              "      <td>0.0</td>\n",
              "    </tr>\n",
              "    <tr>\n",
              "      <th>4</th>\n",
              "      <td>1</td>\n",
              "      <td>0.000000</td>\n",
              "      <td>0.000000</td>\n",
              "      <td>0.0</td>\n",
              "      <td>0.0</td>\n",
              "      <td>0.0</td>\n",
              "      <td>0.0</td>\n",
              "      <td>8.025186</td>\n",
              "      <td>0.000000</td>\n",
              "      <td>0.000000</td>\n",
              "      <td>...</td>\n",
              "      <td>0.0</td>\n",
              "      <td>0.000000</td>\n",
              "      <td>0.0</td>\n",
              "      <td>10.961446</td>\n",
              "      <td>9.071072</td>\n",
              "      <td>0.0</td>\n",
              "      <td>0.0</td>\n",
              "      <td>0.0</td>\n",
              "      <td>0.0</td>\n",
              "      <td>0.0</td>\n",
              "    </tr>\n",
              "  </tbody>\n",
              "</table>\n",
              "<p>5 rows × 500 columns</p>\n",
              "</div>\n",
              "    <div class=\"colab-df-buttons\">\n",
              "\n",
              "  <div class=\"colab-df-container\">\n",
              "    <button class=\"colab-df-convert\" onclick=\"convertToInteractive('df-7e3301c0-874f-4359-bbb5-5f2ff72f9673')\"\n",
              "            title=\"Convert this dataframe to an interactive table.\"\n",
              "            style=\"display:none;\">\n",
              "\n",
              "  <svg xmlns=\"http://www.w3.org/2000/svg\" height=\"24px\" viewBox=\"0 -960 960 960\">\n",
              "    <path d=\"M120-120v-720h720v720H120Zm60-500h600v-160H180v160Zm220 220h160v-160H400v160Zm0 220h160v-160H400v160ZM180-400h160v-160H180v160Zm440 0h160v-160H620v160ZM180-180h160v-160H180v160Zm440 0h160v-160H620v160Z\"/>\n",
              "  </svg>\n",
              "    </button>\n",
              "\n",
              "  <style>\n",
              "    .colab-df-container {\n",
              "      display:flex;\n",
              "      gap: 12px;\n",
              "    }\n",
              "\n",
              "    .colab-df-convert {\n",
              "      background-color: #E8F0FE;\n",
              "      border: none;\n",
              "      border-radius: 50%;\n",
              "      cursor: pointer;\n",
              "      display: none;\n",
              "      fill: #1967D2;\n",
              "      height: 32px;\n",
              "      padding: 0 0 0 0;\n",
              "      width: 32px;\n",
              "    }\n",
              "\n",
              "    .colab-df-convert:hover {\n",
              "      background-color: #E2EBFA;\n",
              "      box-shadow: 0px 1px 2px rgba(60, 64, 67, 0.3), 0px 1px 3px 1px rgba(60, 64, 67, 0.15);\n",
              "      fill: #174EA6;\n",
              "    }\n",
              "\n",
              "    .colab-df-buttons div {\n",
              "      margin-bottom: 4px;\n",
              "    }\n",
              "\n",
              "    [theme=dark] .colab-df-convert {\n",
              "      background-color: #3B4455;\n",
              "      fill: #D2E3FC;\n",
              "    }\n",
              "\n",
              "    [theme=dark] .colab-df-convert:hover {\n",
              "      background-color: #434B5C;\n",
              "      box-shadow: 0px 1px 3px 1px rgba(0, 0, 0, 0.15);\n",
              "      filter: drop-shadow(0px 1px 2px rgba(0, 0, 0, 0.3));\n",
              "      fill: #FFFFFF;\n",
              "    }\n",
              "  </style>\n",
              "\n",
              "    <script>\n",
              "      const buttonEl =\n",
              "        document.querySelector('#df-7e3301c0-874f-4359-bbb5-5f2ff72f9673 button.colab-df-convert');\n",
              "      buttonEl.style.display =\n",
              "        google.colab.kernel.accessAllowed ? 'block' : 'none';\n",
              "\n",
              "      async function convertToInteractive(key) {\n",
              "        const element = document.querySelector('#df-7e3301c0-874f-4359-bbb5-5f2ff72f9673');\n",
              "        const dataTable =\n",
              "          await google.colab.kernel.invokeFunction('convertToInteractive',\n",
              "                                                    [key], {});\n",
              "        if (!dataTable) return;\n",
              "\n",
              "        const docLinkHtml = 'Like what you see? Visit the ' +\n",
              "          '<a target=\"_blank\" href=https://colab.research.google.com/notebooks/data_table.ipynb>data table notebook</a>'\n",
              "          + ' to learn more about interactive tables.';\n",
              "        element.innerHTML = '';\n",
              "        dataTable['output_type'] = 'display_data';\n",
              "        await google.colab.output.renderOutput(dataTable, element);\n",
              "        const docLink = document.createElement('div');\n",
              "        docLink.innerHTML = docLinkHtml;\n",
              "        element.appendChild(docLink);\n",
              "      }\n",
              "    </script>\n",
              "  </div>\n",
              "\n",
              "\n",
              "<div id=\"df-14d507ba-7a38-4326-ab33-216c9adbb3a6\">\n",
              "  <button class=\"colab-df-quickchart\" onclick=\"quickchart('df-14d507ba-7a38-4326-ab33-216c9adbb3a6')\"\n",
              "            title=\"Suggest charts\"\n",
              "            style=\"display:none;\">\n",
              "\n",
              "<svg xmlns=\"http://www.w3.org/2000/svg\" height=\"24px\"viewBox=\"0 0 24 24\"\n",
              "     width=\"24px\">\n",
              "    <g>\n",
              "        <path d=\"M19 3H5c-1.1 0-2 .9-2 2v14c0 1.1.9 2 2 2h14c1.1 0 2-.9 2-2V5c0-1.1-.9-2-2-2zM9 17H7v-7h2v7zm4 0h-2V7h2v10zm4 0h-2v-4h2v4z\"/>\n",
              "    </g>\n",
              "</svg>\n",
              "  </button>\n",
              "\n",
              "<style>\n",
              "  .colab-df-quickchart {\n",
              "      --bg-color: #E8F0FE;\n",
              "      --fill-color: #1967D2;\n",
              "      --hover-bg-color: #E2EBFA;\n",
              "      --hover-fill-color: #174EA6;\n",
              "      --disabled-fill-color: #AAA;\n",
              "      --disabled-bg-color: #DDD;\n",
              "  }\n",
              "\n",
              "  [theme=dark] .colab-df-quickchart {\n",
              "      --bg-color: #3B4455;\n",
              "      --fill-color: #D2E3FC;\n",
              "      --hover-bg-color: #434B5C;\n",
              "      --hover-fill-color: #FFFFFF;\n",
              "      --disabled-bg-color: #3B4455;\n",
              "      --disabled-fill-color: #666;\n",
              "  }\n",
              "\n",
              "  .colab-df-quickchart {\n",
              "    background-color: var(--bg-color);\n",
              "    border: none;\n",
              "    border-radius: 50%;\n",
              "    cursor: pointer;\n",
              "    display: none;\n",
              "    fill: var(--fill-color);\n",
              "    height: 32px;\n",
              "    padding: 0;\n",
              "    width: 32px;\n",
              "  }\n",
              "\n",
              "  .colab-df-quickchart:hover {\n",
              "    background-color: var(--hover-bg-color);\n",
              "    box-shadow: 0 1px 2px rgba(60, 64, 67, 0.3), 0 1px 3px 1px rgba(60, 64, 67, 0.15);\n",
              "    fill: var(--button-hover-fill-color);\n",
              "  }\n",
              "\n",
              "  .colab-df-quickchart-complete:disabled,\n",
              "  .colab-df-quickchart-complete:disabled:hover {\n",
              "    background-color: var(--disabled-bg-color);\n",
              "    fill: var(--disabled-fill-color);\n",
              "    box-shadow: none;\n",
              "  }\n",
              "\n",
              "  .colab-df-spinner {\n",
              "    border: 2px solid var(--fill-color);\n",
              "    border-color: transparent;\n",
              "    border-bottom-color: var(--fill-color);\n",
              "    animation:\n",
              "      spin 1s steps(1) infinite;\n",
              "  }\n",
              "\n",
              "  @keyframes spin {\n",
              "    0% {\n",
              "      border-color: transparent;\n",
              "      border-bottom-color: var(--fill-color);\n",
              "      border-left-color: var(--fill-color);\n",
              "    }\n",
              "    20% {\n",
              "      border-color: transparent;\n",
              "      border-left-color: var(--fill-color);\n",
              "      border-top-color: var(--fill-color);\n",
              "    }\n",
              "    30% {\n",
              "      border-color: transparent;\n",
              "      border-left-color: var(--fill-color);\n",
              "      border-top-color: var(--fill-color);\n",
              "      border-right-color: var(--fill-color);\n",
              "    }\n",
              "    40% {\n",
              "      border-color: transparent;\n",
              "      border-right-color: var(--fill-color);\n",
              "      border-top-color: var(--fill-color);\n",
              "    }\n",
              "    60% {\n",
              "      border-color: transparent;\n",
              "      border-right-color: var(--fill-color);\n",
              "    }\n",
              "    80% {\n",
              "      border-color: transparent;\n",
              "      border-right-color: var(--fill-color);\n",
              "      border-bottom-color: var(--fill-color);\n",
              "    }\n",
              "    90% {\n",
              "      border-color: transparent;\n",
              "      border-bottom-color: var(--fill-color);\n",
              "    }\n",
              "  }\n",
              "</style>\n",
              "\n",
              "  <script>\n",
              "    async function quickchart(key) {\n",
              "      const quickchartButtonEl =\n",
              "        document.querySelector('#' + key + ' button');\n",
              "      quickchartButtonEl.disabled = true;  // To prevent multiple clicks.\n",
              "      quickchartButtonEl.classList.add('colab-df-spinner');\n",
              "      try {\n",
              "        const charts = await google.colab.kernel.invokeFunction(\n",
              "            'suggestCharts', [key], {});\n",
              "      } catch (error) {\n",
              "        console.error('Error during call to suggestCharts:', error);\n",
              "      }\n",
              "      quickchartButtonEl.classList.remove('colab-df-spinner');\n",
              "      quickchartButtonEl.classList.add('colab-df-quickchart-complete');\n",
              "    }\n",
              "    (() => {\n",
              "      let quickchartButtonEl =\n",
              "        document.querySelector('#df-14d507ba-7a38-4326-ab33-216c9adbb3a6 button');\n",
              "      quickchartButtonEl.style.display =\n",
              "        google.colab.kernel.accessAllowed ? 'block' : 'none';\n",
              "    })();\n",
              "  </script>\n",
              "</div>\n",
              "\n",
              "    </div>\n",
              "  </div>\n"
            ],
            "application/vnd.google.colaboratory.intrinsic+json": {
              "type": "dataframe",
              "variable_name": "final"
            }
          },
          "metadata": {},
          "execution_count": 4
        }
      ],
      "source": [
        "final=pd.read_csv(\"top_features.csv\")\n",
        "final.head()"
      ]
    },
    {
      "cell_type": "code",
      "execution_count": 3,
      "id": "fa8ad20d",
      "metadata": {
        "id": "fa8ad20d"
      },
      "outputs": [],
      "source": [
        "from pycaret.classification import *"
      ]
    },
    {
      "cell_type": "code",
      "execution_count": 7,
      "id": "fd34368b",
      "metadata": {
        "colab": {
          "base_uri": "https://localhost:8080/",
          "height": 645
        },
        "id": "fd34368b",
        "outputId": "29fd17c0-aa2f-4afc-d755-7f0303323cd1"
      },
      "outputs": [
        {
          "output_type": "display_data",
          "data": {
            "text/plain": [
              "<pandas.io.formats.style.Styler at 0x79304c245a20>"
            ],
            "text/html": [
              "<style type=\"text/css\">\n",
              "#T_14078_row8_col1 {\n",
              "  background-color: lightgreen;\n",
              "}\n",
              "</style>\n",
              "<table id=\"T_14078\" class=\"dataframe\">\n",
              "  <thead>\n",
              "    <tr>\n",
              "      <th class=\"blank level0\" >&nbsp;</th>\n",
              "      <th id=\"T_14078_level0_col0\" class=\"col_heading level0 col0\" >Description</th>\n",
              "      <th id=\"T_14078_level0_col1\" class=\"col_heading level0 col1\" >Value</th>\n",
              "    </tr>\n",
              "  </thead>\n",
              "  <tbody>\n",
              "    <tr>\n",
              "      <th id=\"T_14078_level0_row0\" class=\"row_heading level0 row0\" >0</th>\n",
              "      <td id=\"T_14078_row0_col0\" class=\"data row0 col0\" >Session id</td>\n",
              "      <td id=\"T_14078_row0_col1\" class=\"data row0 col1\" >4726</td>\n",
              "    </tr>\n",
              "    <tr>\n",
              "      <th id=\"T_14078_level0_row1\" class=\"row_heading level0 row1\" >1</th>\n",
              "      <td id=\"T_14078_row1_col0\" class=\"data row1 col0\" >Target</td>\n",
              "      <td id=\"T_14078_row1_col1\" class=\"data row1 col1\" >output</td>\n",
              "    </tr>\n",
              "    <tr>\n",
              "      <th id=\"T_14078_level0_row2\" class=\"row_heading level0 row2\" >2</th>\n",
              "      <td id=\"T_14078_row2_col0\" class=\"data row2 col0\" >Target type</td>\n",
              "      <td id=\"T_14078_row2_col1\" class=\"data row2 col1\" >Multiclass</td>\n",
              "    </tr>\n",
              "    <tr>\n",
              "      <th id=\"T_14078_level0_row3\" class=\"row_heading level0 row3\" >3</th>\n",
              "      <td id=\"T_14078_row3_col0\" class=\"data row3 col0\" >Original data shape</td>\n",
              "      <td id=\"T_14078_row3_col1\" class=\"data row3 col1\" >(2298, 500)</td>\n",
              "    </tr>\n",
              "    <tr>\n",
              "      <th id=\"T_14078_level0_row4\" class=\"row_heading level0 row4\" >4</th>\n",
              "      <td id=\"T_14078_row4_col0\" class=\"data row4 col0\" >Transformed data shape</td>\n",
              "      <td id=\"T_14078_row4_col1\" class=\"data row4 col1\" >(2298, 500)</td>\n",
              "    </tr>\n",
              "    <tr>\n",
              "      <th id=\"T_14078_level0_row5\" class=\"row_heading level0 row5\" >5</th>\n",
              "      <td id=\"T_14078_row5_col0\" class=\"data row5 col0\" >Transformed train set shape</td>\n",
              "      <td id=\"T_14078_row5_col1\" class=\"data row5 col1\" >(1608, 500)</td>\n",
              "    </tr>\n",
              "    <tr>\n",
              "      <th id=\"T_14078_level0_row6\" class=\"row_heading level0 row6\" >6</th>\n",
              "      <td id=\"T_14078_row6_col0\" class=\"data row6 col0\" >Transformed test set shape</td>\n",
              "      <td id=\"T_14078_row6_col1\" class=\"data row6 col1\" >(690, 500)</td>\n",
              "    </tr>\n",
              "    <tr>\n",
              "      <th id=\"T_14078_level0_row7\" class=\"row_heading level0 row7\" >7</th>\n",
              "      <td id=\"T_14078_row7_col0\" class=\"data row7 col0\" >Numeric features</td>\n",
              "      <td id=\"T_14078_row7_col1\" class=\"data row7 col1\" >499</td>\n",
              "    </tr>\n",
              "    <tr>\n",
              "      <th id=\"T_14078_level0_row8\" class=\"row_heading level0 row8\" >8</th>\n",
              "      <td id=\"T_14078_row8_col0\" class=\"data row8 col0\" >Preprocess</td>\n",
              "      <td id=\"T_14078_row8_col1\" class=\"data row8 col1\" >True</td>\n",
              "    </tr>\n",
              "    <tr>\n",
              "      <th id=\"T_14078_level0_row9\" class=\"row_heading level0 row9\" >9</th>\n",
              "      <td id=\"T_14078_row9_col0\" class=\"data row9 col0\" >Imputation type</td>\n",
              "      <td id=\"T_14078_row9_col1\" class=\"data row9 col1\" >simple</td>\n",
              "    </tr>\n",
              "    <tr>\n",
              "      <th id=\"T_14078_level0_row10\" class=\"row_heading level0 row10\" >10</th>\n",
              "      <td id=\"T_14078_row10_col0\" class=\"data row10 col0\" >Numeric imputation</td>\n",
              "      <td id=\"T_14078_row10_col1\" class=\"data row10 col1\" >mean</td>\n",
              "    </tr>\n",
              "    <tr>\n",
              "      <th id=\"T_14078_level0_row11\" class=\"row_heading level0 row11\" >11</th>\n",
              "      <td id=\"T_14078_row11_col0\" class=\"data row11 col0\" >Categorical imputation</td>\n",
              "      <td id=\"T_14078_row11_col1\" class=\"data row11 col1\" >mode</td>\n",
              "    </tr>\n",
              "    <tr>\n",
              "      <th id=\"T_14078_level0_row12\" class=\"row_heading level0 row12\" >12</th>\n",
              "      <td id=\"T_14078_row12_col0\" class=\"data row12 col0\" >Fold Generator</td>\n",
              "      <td id=\"T_14078_row12_col1\" class=\"data row12 col1\" >StratifiedKFold</td>\n",
              "    </tr>\n",
              "    <tr>\n",
              "      <th id=\"T_14078_level0_row13\" class=\"row_heading level0 row13\" >13</th>\n",
              "      <td id=\"T_14078_row13_col0\" class=\"data row13 col0\" >Fold Number</td>\n",
              "      <td id=\"T_14078_row13_col1\" class=\"data row13 col1\" >10</td>\n",
              "    </tr>\n",
              "    <tr>\n",
              "      <th id=\"T_14078_level0_row14\" class=\"row_heading level0 row14\" >14</th>\n",
              "      <td id=\"T_14078_row14_col0\" class=\"data row14 col0\" >CPU Jobs</td>\n",
              "      <td id=\"T_14078_row14_col1\" class=\"data row14 col1\" >-1</td>\n",
              "    </tr>\n",
              "    <tr>\n",
              "      <th id=\"T_14078_level0_row15\" class=\"row_heading level0 row15\" >15</th>\n",
              "      <td id=\"T_14078_row15_col0\" class=\"data row15 col0\" >Use GPU</td>\n",
              "      <td id=\"T_14078_row15_col1\" class=\"data row15 col1\" >False</td>\n",
              "    </tr>\n",
              "    <tr>\n",
              "      <th id=\"T_14078_level0_row16\" class=\"row_heading level0 row16\" >16</th>\n",
              "      <td id=\"T_14078_row16_col0\" class=\"data row16 col0\" >Log Experiment</td>\n",
              "      <td id=\"T_14078_row16_col1\" class=\"data row16 col1\" >False</td>\n",
              "    </tr>\n",
              "    <tr>\n",
              "      <th id=\"T_14078_level0_row17\" class=\"row_heading level0 row17\" >17</th>\n",
              "      <td id=\"T_14078_row17_col0\" class=\"data row17 col0\" >Experiment Name</td>\n",
              "      <td id=\"T_14078_row17_col1\" class=\"data row17 col1\" >clf-default-name</td>\n",
              "    </tr>\n",
              "    <tr>\n",
              "      <th id=\"T_14078_level0_row18\" class=\"row_heading level0 row18\" >18</th>\n",
              "      <td id=\"T_14078_row18_col0\" class=\"data row18 col0\" >USI</td>\n",
              "      <td id=\"T_14078_row18_col1\" class=\"data row18 col1\" >4102</td>\n",
              "    </tr>\n",
              "  </tbody>\n",
              "</table>\n"
            ]
          },
          "metadata": {}
        }
      ],
      "source": [
        "clf_setup = setup(data=final, target=\"output\")"
      ]
    },
    {
      "cell_type": "code",
      "execution_count": 8,
      "id": "60f77652",
      "metadata": {
        "colab": {
          "base_uri": "https://localhost:8080/",
          "height": 519,
          "referenced_widgets": [
            "0e75385917e447c68f2e5191c75310f7",
            "741c824f94b64c4d9742220b2a15cd3c",
            "ca3c823f6583462a991efa42a6b03a60",
            "3ee232cfbce44fb587b4c86ef3e0f83d",
            "ddbb22f509a0485590adb0efda5cba15",
            "0854fe7d657e4a20b41e3a44c41604d7",
            "19e62671641a4747919e201d9697ed26",
            "0cd55c65a7af47d78490d176fcdc68e5",
            "f178240da9e44648998599498e66ab18",
            "b23287c0efa94ea5ac37e71d36d8f5f6",
            "8e702e84656f495791756af5ae015701"
          ]
        },
        "id": "60f77652",
        "outputId": "c4c6bc53-f00e-40a1-dde6-a2ef0d1737ee"
      },
      "outputs": [
        {
          "output_type": "display_data",
          "data": {
            "text/plain": [
              "<IPython.core.display.HTML object>"
            ],
            "text/html": []
          },
          "metadata": {}
        },
        {
          "output_type": "display_data",
          "data": {
            "text/plain": [
              "<pandas.io.formats.style.Styler at 0x79304c166cb0>"
            ],
            "text/html": [
              "<style type=\"text/css\">\n",
              "#T_3d4c1 th {\n",
              "  text-align: left;\n",
              "}\n",
              "#T_3d4c1_row0_col0, #T_3d4c1_row0_col2, #T_3d4c1_row0_col4, #T_3d4c1_row0_col5, #T_3d4c1_row0_col6, #T_3d4c1_row0_col7, #T_3d4c1_row1_col0, #T_3d4c1_row1_col1, #T_3d4c1_row1_col2, #T_3d4c1_row1_col3, #T_3d4c1_row1_col4, #T_3d4c1_row1_col5, #T_3d4c1_row1_col6, #T_3d4c1_row1_col7, #T_3d4c1_row2_col0, #T_3d4c1_row2_col1, #T_3d4c1_row2_col2, #T_3d4c1_row2_col3, #T_3d4c1_row2_col4, #T_3d4c1_row2_col5, #T_3d4c1_row2_col6, #T_3d4c1_row2_col7, #T_3d4c1_row3_col0, #T_3d4c1_row3_col1, #T_3d4c1_row3_col2, #T_3d4c1_row3_col3, #T_3d4c1_row3_col4, #T_3d4c1_row3_col5, #T_3d4c1_row3_col6, #T_3d4c1_row3_col7, #T_3d4c1_row4_col0, #T_3d4c1_row4_col1, #T_3d4c1_row4_col2, #T_3d4c1_row4_col3, #T_3d4c1_row4_col6, #T_3d4c1_row4_col7, #T_3d4c1_row5_col0, #T_3d4c1_row5_col1, #T_3d4c1_row5_col2, #T_3d4c1_row5_col3, #T_3d4c1_row5_col4, #T_3d4c1_row5_col5, #T_3d4c1_row5_col6, #T_3d4c1_row5_col7, #T_3d4c1_row6_col0, #T_3d4c1_row6_col1, #T_3d4c1_row6_col2, #T_3d4c1_row6_col3, #T_3d4c1_row6_col4, #T_3d4c1_row6_col5, #T_3d4c1_row6_col6, #T_3d4c1_row6_col7, #T_3d4c1_row7_col0, #T_3d4c1_row7_col1, #T_3d4c1_row7_col2, #T_3d4c1_row7_col3, #T_3d4c1_row7_col4, #T_3d4c1_row7_col5, #T_3d4c1_row7_col6, #T_3d4c1_row7_col7, #T_3d4c1_row8_col0, #T_3d4c1_row8_col1, #T_3d4c1_row8_col2, #T_3d4c1_row8_col3, #T_3d4c1_row8_col4, #T_3d4c1_row8_col5, #T_3d4c1_row8_col6, #T_3d4c1_row8_col7, #T_3d4c1_row9_col0, #T_3d4c1_row9_col1, #T_3d4c1_row9_col2, #T_3d4c1_row9_col3, #T_3d4c1_row9_col4, #T_3d4c1_row9_col5, #T_3d4c1_row10_col0, #T_3d4c1_row10_col1, #T_3d4c1_row10_col2, #T_3d4c1_row10_col3, #T_3d4c1_row10_col4, #T_3d4c1_row10_col5, #T_3d4c1_row10_col6, #T_3d4c1_row10_col7, #T_3d4c1_row11_col0, #T_3d4c1_row11_col1, #T_3d4c1_row11_col2, #T_3d4c1_row11_col3, #T_3d4c1_row11_col4, #T_3d4c1_row11_col5, #T_3d4c1_row11_col6, #T_3d4c1_row11_col7, #T_3d4c1_row12_col0, #T_3d4c1_row12_col1, #T_3d4c1_row12_col2, #T_3d4c1_row12_col3, #T_3d4c1_row12_col4, #T_3d4c1_row12_col5, #T_3d4c1_row12_col6, #T_3d4c1_row12_col7, #T_3d4c1_row13_col0, #T_3d4c1_row13_col1, #T_3d4c1_row13_col2, #T_3d4c1_row13_col3, #T_3d4c1_row13_col4, #T_3d4c1_row13_col5, #T_3d4c1_row13_col6, #T_3d4c1_row13_col7, #T_3d4c1_row14_col0, #T_3d4c1_row14_col1, #T_3d4c1_row14_col3, #T_3d4c1_row14_col4, #T_3d4c1_row14_col5, #T_3d4c1_row14_col6, #T_3d4c1_row14_col7 {\n",
              "  text-align: left;\n",
              "}\n",
              "#T_3d4c1_row0_col1, #T_3d4c1_row0_col3, #T_3d4c1_row4_col4, #T_3d4c1_row4_col5, #T_3d4c1_row9_col6, #T_3d4c1_row9_col7, #T_3d4c1_row14_col2 {\n",
              "  text-align: left;\n",
              "  background-color: yellow;\n",
              "}\n",
              "#T_3d4c1_row0_col8 {\n",
              "  text-align: left;\n",
              "  background-color: yellow;\n",
              "  background-color: lightgrey;\n",
              "}\n",
              "#T_3d4c1_row1_col8, #T_3d4c1_row2_col8, #T_3d4c1_row3_col8, #T_3d4c1_row4_col8, #T_3d4c1_row5_col8, #T_3d4c1_row6_col8, #T_3d4c1_row7_col8, #T_3d4c1_row8_col8, #T_3d4c1_row9_col8, #T_3d4c1_row10_col8, #T_3d4c1_row11_col8, #T_3d4c1_row12_col8, #T_3d4c1_row13_col8, #T_3d4c1_row14_col8 {\n",
              "  text-align: left;\n",
              "  background-color: lightgrey;\n",
              "}\n",
              "</style>\n",
              "<table id=\"T_3d4c1\" class=\"dataframe\">\n",
              "  <thead>\n",
              "    <tr>\n",
              "      <th class=\"blank level0\" >&nbsp;</th>\n",
              "      <th id=\"T_3d4c1_level0_col0\" class=\"col_heading level0 col0\" >Model</th>\n",
              "      <th id=\"T_3d4c1_level0_col1\" class=\"col_heading level0 col1\" >Accuracy</th>\n",
              "      <th id=\"T_3d4c1_level0_col2\" class=\"col_heading level0 col2\" >AUC</th>\n",
              "      <th id=\"T_3d4c1_level0_col3\" class=\"col_heading level0 col3\" >Recall</th>\n",
              "      <th id=\"T_3d4c1_level0_col4\" class=\"col_heading level0 col4\" >Prec.</th>\n",
              "      <th id=\"T_3d4c1_level0_col5\" class=\"col_heading level0 col5\" >F1</th>\n",
              "      <th id=\"T_3d4c1_level0_col6\" class=\"col_heading level0 col6\" >Kappa</th>\n",
              "      <th id=\"T_3d4c1_level0_col7\" class=\"col_heading level0 col7\" >MCC</th>\n",
              "      <th id=\"T_3d4c1_level0_col8\" class=\"col_heading level0 col8\" >TT (Sec)</th>\n",
              "    </tr>\n",
              "  </thead>\n",
              "  <tbody>\n",
              "    <tr>\n",
              "      <th id=\"T_3d4c1_level0_row0\" class=\"row_heading level0 row0\" >dummy</th>\n",
              "      <td id=\"T_3d4c1_row0_col0\" class=\"data row0 col0\" >Dummy Classifier</td>\n",
              "      <td id=\"T_3d4c1_row0_col1\" class=\"data row0 col1\" >0.3675</td>\n",
              "      <td id=\"T_3d4c1_row0_col2\" class=\"data row0 col2\" >0.5000</td>\n",
              "      <td id=\"T_3d4c1_row0_col3\" class=\"data row0 col3\" >0.3675</td>\n",
              "      <td id=\"T_3d4c1_row0_col4\" class=\"data row0 col4\" >0.1351</td>\n",
              "      <td id=\"T_3d4c1_row0_col5\" class=\"data row0 col5\" >0.1976</td>\n",
              "      <td id=\"T_3d4c1_row0_col6\" class=\"data row0 col6\" >0.0000</td>\n",
              "      <td id=\"T_3d4c1_row0_col7\" class=\"data row0 col7\" >0.0000</td>\n",
              "      <td id=\"T_3d4c1_row0_col8\" class=\"data row0 col8\" >0.1580</td>\n",
              "    </tr>\n",
              "    <tr>\n",
              "      <th id=\"T_3d4c1_level0_row1\" class=\"row_heading level0 row1\" >rf</th>\n",
              "      <td id=\"T_3d4c1_row1_col0\" class=\"data row1 col0\" >Random Forest Classifier</td>\n",
              "      <td id=\"T_3d4c1_row1_col1\" class=\"data row1 col1\" >0.3626</td>\n",
              "      <td id=\"T_3d4c1_row1_col2\" class=\"data row1 col2\" >0.5311</td>\n",
              "      <td id=\"T_3d4c1_row1_col3\" class=\"data row1 col3\" >0.3626</td>\n",
              "      <td id=\"T_3d4c1_row1_col4\" class=\"data row1 col4\" >0.2435</td>\n",
              "      <td id=\"T_3d4c1_row1_col5\" class=\"data row1 col5\" >0.2863</td>\n",
              "      <td id=\"T_3d4c1_row1_col6\" class=\"data row1 col6\" >0.0187</td>\n",
              "      <td id=\"T_3d4c1_row1_col7\" class=\"data row1 col7\" >0.0213</td>\n",
              "      <td id=\"T_3d4c1_row1_col8\" class=\"data row1 col8\" >1.3580</td>\n",
              "    </tr>\n",
              "    <tr>\n",
              "      <th id=\"T_3d4c1_level0_row2\" class=\"row_heading level0 row2\" >qda</th>\n",
              "      <td id=\"T_3d4c1_row2_col0\" class=\"data row2 col0\" >Quadratic Discriminant Analysis</td>\n",
              "      <td id=\"T_3d4c1_row2_col1\" class=\"data row2 col1\" >0.3570</td>\n",
              "      <td id=\"T_3d4c1_row2_col2\" class=\"data row2 col2\" >0.0000</td>\n",
              "      <td id=\"T_3d4c1_row2_col3\" class=\"data row2 col3\" >0.3570</td>\n",
              "      <td id=\"T_3d4c1_row2_col4\" class=\"data row2 col4\" >0.1506</td>\n",
              "      <td id=\"T_3d4c1_row2_col5\" class=\"data row2 col5\" >0.2021</td>\n",
              "      <td id=\"T_3d4c1_row2_col6\" class=\"data row2 col6\" >0.0046</td>\n",
              "      <td id=\"T_3d4c1_row2_col7\" class=\"data row2 col7\" >0.0097</td>\n",
              "      <td id=\"T_3d4c1_row2_col8\" class=\"data row2 col8\" >0.4200</td>\n",
              "    </tr>\n",
              "    <tr>\n",
              "      <th id=\"T_3d4c1_level0_row3\" class=\"row_heading level0 row3\" >et</th>\n",
              "      <td id=\"T_3d4c1_row3_col0\" class=\"data row3 col0\" >Extra Trees Classifier</td>\n",
              "      <td id=\"T_3d4c1_row3_col1\" class=\"data row3 col1\" >0.3539</td>\n",
              "      <td id=\"T_3d4c1_row3_col2\" class=\"data row3 col2\" >0.5459</td>\n",
              "      <td id=\"T_3d4c1_row3_col3\" class=\"data row3 col3\" >0.3539</td>\n",
              "      <td id=\"T_3d4c1_row3_col4\" class=\"data row3 col4\" >0.2652</td>\n",
              "      <td id=\"T_3d4c1_row3_col5\" class=\"data row3 col5\" >0.2832</td>\n",
              "      <td id=\"T_3d4c1_row3_col6\" class=\"data row3 col6\" >0.0096</td>\n",
              "      <td id=\"T_3d4c1_row3_col7\" class=\"data row3 col7\" >0.0105</td>\n",
              "      <td id=\"T_3d4c1_row3_col8\" class=\"data row3 col8\" >1.4220</td>\n",
              "    </tr>\n",
              "    <tr>\n",
              "      <th id=\"T_3d4c1_level0_row4\" class=\"row_heading level0 row4\" >gbc</th>\n",
              "      <td id=\"T_3d4c1_row4_col0\" class=\"data row4 col0\" >Gradient Boosting Classifier</td>\n",
              "      <td id=\"T_3d4c1_row4_col1\" class=\"data row4 col1\" >0.3514</td>\n",
              "      <td id=\"T_3d4c1_row4_col2\" class=\"data row4 col2\" >0.0000</td>\n",
              "      <td id=\"T_3d4c1_row4_col3\" class=\"data row4 col3\" >0.3514</td>\n",
              "      <td id=\"T_3d4c1_row4_col4\" class=\"data row4 col4\" >0.3163</td>\n",
              "      <td id=\"T_3d4c1_row4_col5\" class=\"data row4 col5\" >0.3134</td>\n",
              "      <td id=\"T_3d4c1_row4_col6\" class=\"data row4 col6\" >0.0445</td>\n",
              "      <td id=\"T_3d4c1_row4_col7\" class=\"data row4 col7\" >0.0465</td>\n",
              "      <td id=\"T_3d4c1_row4_col8\" class=\"data row4 col8\" >27.5710</td>\n",
              "    </tr>\n",
              "    <tr>\n",
              "      <th id=\"T_3d4c1_level0_row5\" class=\"row_heading level0 row5\" >lightgbm</th>\n",
              "      <td id=\"T_3d4c1_row5_col0\" class=\"data row5 col0\" >Light Gradient Boosting Machine</td>\n",
              "      <td id=\"T_3d4c1_row5_col1\" class=\"data row5 col1\" >0.3377</td>\n",
              "      <td id=\"T_3d4c1_row5_col2\" class=\"data row5 col2\" >0.5284</td>\n",
              "      <td id=\"T_3d4c1_row5_col3\" class=\"data row5 col3\" >0.3377</td>\n",
              "      <td id=\"T_3d4c1_row5_col4\" class=\"data row5 col4\" >0.2637</td>\n",
              "      <td id=\"T_3d4c1_row5_col5\" class=\"data row5 col5\" >0.2798</td>\n",
              "      <td id=\"T_3d4c1_row5_col6\" class=\"data row5 col6\" >-0.0035</td>\n",
              "      <td id=\"T_3d4c1_row5_col7\" class=\"data row5 col7\" >-0.0037</td>\n",
              "      <td id=\"T_3d4c1_row5_col8\" class=\"data row5 col8\" >56.9130</td>\n",
              "    </tr>\n",
              "    <tr>\n",
              "      <th id=\"T_3d4c1_level0_row6\" class=\"row_heading level0 row6\" >xgboost</th>\n",
              "      <td id=\"T_3d4c1_row6_col0\" class=\"data row6 col0\" >Extreme Gradient Boosting</td>\n",
              "      <td id=\"T_3d4c1_row6_col1\" class=\"data row6 col1\" >0.3327</td>\n",
              "      <td id=\"T_3d4c1_row6_col2\" class=\"data row6 col2\" >0.5198</td>\n",
              "      <td id=\"T_3d4c1_row6_col3\" class=\"data row6 col3\" >0.3327</td>\n",
              "      <td id=\"T_3d4c1_row6_col4\" class=\"data row6 col4\" >0.2688</td>\n",
              "      <td id=\"T_3d4c1_row6_col5\" class=\"data row6 col5\" >0.2809</td>\n",
              "      <td id=\"T_3d4c1_row6_col6\" class=\"data row6 col6\" >-0.0036</td>\n",
              "      <td id=\"T_3d4c1_row6_col7\" class=\"data row6 col7\" >-0.0037</td>\n",
              "      <td id=\"T_3d4c1_row6_col8\" class=\"data row6 col8\" >13.3450</td>\n",
              "    </tr>\n",
              "    <tr>\n",
              "      <th id=\"T_3d4c1_level0_row7\" class=\"row_heading level0 row7\" >ada</th>\n",
              "      <td id=\"T_3d4c1_row7_col0\" class=\"data row7 col0\" >Ada Boost Classifier</td>\n",
              "      <td id=\"T_3d4c1_row7_col1\" class=\"data row7 col1\" >0.3321</td>\n",
              "      <td id=\"T_3d4c1_row7_col2\" class=\"data row7 col2\" >0.0000</td>\n",
              "      <td id=\"T_3d4c1_row7_col3\" class=\"data row7 col3\" >0.3321</td>\n",
              "      <td id=\"T_3d4c1_row7_col4\" class=\"data row7 col4\" >0.2723</td>\n",
              "      <td id=\"T_3d4c1_row7_col5\" class=\"data row7 col5\" >0.2705</td>\n",
              "      <td id=\"T_3d4c1_row7_col6\" class=\"data row7 col6\" >-0.0072</td>\n",
              "      <td id=\"T_3d4c1_row7_col7\" class=\"data row7 col7\" >-0.0081</td>\n",
              "      <td id=\"T_3d4c1_row7_col8\" class=\"data row7 col8\" >1.0590</td>\n",
              "    </tr>\n",
              "    <tr>\n",
              "      <th id=\"T_3d4c1_level0_row8\" class=\"row_heading level0 row8\" >ridge</th>\n",
              "      <td id=\"T_3d4c1_row8_col0\" class=\"data row8 col0\" >Ridge Classifier</td>\n",
              "      <td id=\"T_3d4c1_row8_col1\" class=\"data row8 col1\" >0.3234</td>\n",
              "      <td id=\"T_3d4c1_row8_col2\" class=\"data row8 col2\" >0.0000</td>\n",
              "      <td id=\"T_3d4c1_row8_col3\" class=\"data row8 col3\" >0.3234</td>\n",
              "      <td id=\"T_3d4c1_row8_col4\" class=\"data row8 col4\" >0.2883</td>\n",
              "      <td id=\"T_3d4c1_row8_col5\" class=\"data row8 col5\" >0.3012</td>\n",
              "      <td id=\"T_3d4c1_row8_col6\" class=\"data row8 col6\" >0.0332</td>\n",
              "      <td id=\"T_3d4c1_row8_col7\" class=\"data row8 col7\" >0.0334</td>\n",
              "      <td id=\"T_3d4c1_row8_col8\" class=\"data row8 col8\" >0.1760</td>\n",
              "    </tr>\n",
              "    <tr>\n",
              "      <th id=\"T_3d4c1_level0_row9\" class=\"row_heading level0 row9\" >lda</th>\n",
              "      <td id=\"T_3d4c1_row9_col0\" class=\"data row9 col0\" >Linear Discriminant Analysis</td>\n",
              "      <td id=\"T_3d4c1_row9_col1\" class=\"data row9 col1\" >0.3197</td>\n",
              "      <td id=\"T_3d4c1_row9_col2\" class=\"data row9 col2\" >0.0000</td>\n",
              "      <td id=\"T_3d4c1_row9_col3\" class=\"data row9 col3\" >0.3197</td>\n",
              "      <td id=\"T_3d4c1_row9_col4\" class=\"data row9 col4\" >0.3120</td>\n",
              "      <td id=\"T_3d4c1_row9_col5\" class=\"data row9 col5\" >0.3129</td>\n",
              "      <td id=\"T_3d4c1_row9_col6\" class=\"data row9 col6\" >0.0616</td>\n",
              "      <td id=\"T_3d4c1_row9_col7\" class=\"data row9 col7\" >0.0618</td>\n",
              "      <td id=\"T_3d4c1_row9_col8\" class=\"data row9 col8\" >0.4010</td>\n",
              "    </tr>\n",
              "    <tr>\n",
              "      <th id=\"T_3d4c1_level0_row10\" class=\"row_heading level0 row10\" >knn</th>\n",
              "      <td id=\"T_3d4c1_row10_col0\" class=\"data row10 col0\" >K Neighbors Classifier</td>\n",
              "      <td id=\"T_3d4c1_row10_col1\" class=\"data row10 col1\" >0.3078</td>\n",
              "      <td id=\"T_3d4c1_row10_col2\" class=\"data row10 col2\" >0.5056</td>\n",
              "      <td id=\"T_3d4c1_row10_col3\" class=\"data row10 col3\" >0.3078</td>\n",
              "      <td id=\"T_3d4c1_row10_col4\" class=\"data row10 col4\" >0.2551</td>\n",
              "      <td id=\"T_3d4c1_row10_col5\" class=\"data row10 col5\" >0.2646</td>\n",
              "      <td id=\"T_3d4c1_row10_col6\" class=\"data row10 col6\" >-0.0132</td>\n",
              "      <td id=\"T_3d4c1_row10_col7\" class=\"data row10 col7\" >-0.0142</td>\n",
              "      <td id=\"T_3d4c1_row10_col8\" class=\"data row10 col8\" >0.2010</td>\n",
              "    </tr>\n",
              "    <tr>\n",
              "      <th id=\"T_3d4c1_level0_row11\" class=\"row_heading level0 row11\" >svm</th>\n",
              "      <td id=\"T_3d4c1_row11_col0\" class=\"data row11 col0\" >SVM - Linear Kernel</td>\n",
              "      <td id=\"T_3d4c1_row11_col1\" class=\"data row11 col1\" >0.2997</td>\n",
              "      <td id=\"T_3d4c1_row11_col2\" class=\"data row11 col2\" >0.0000</td>\n",
              "      <td id=\"T_3d4c1_row11_col3\" class=\"data row11 col3\" >0.2997</td>\n",
              "      <td id=\"T_3d4c1_row11_col4\" class=\"data row11 col4\" >0.2990</td>\n",
              "      <td id=\"T_3d4c1_row11_col5\" class=\"data row11 col5\" >0.2871</td>\n",
              "      <td id=\"T_3d4c1_row11_col6\" class=\"data row11 col6\" >0.0411</td>\n",
              "      <td id=\"T_3d4c1_row11_col7\" class=\"data row11 col7\" >0.0424</td>\n",
              "      <td id=\"T_3d4c1_row11_col8\" class=\"data row11 col8\" >0.7700</td>\n",
              "    </tr>\n",
              "    <tr>\n",
              "      <th id=\"T_3d4c1_level0_row12\" class=\"row_heading level0 row12\" >lr</th>\n",
              "      <td id=\"T_3d4c1_row12_col0\" class=\"data row12 col0\" >Logistic Regression</td>\n",
              "      <td id=\"T_3d4c1_row12_col1\" class=\"data row12 col1\" >0.2811</td>\n",
              "      <td id=\"T_3d4c1_row12_col2\" class=\"data row12 col2\" >0.0000</td>\n",
              "      <td id=\"T_3d4c1_row12_col3\" class=\"data row12 col3\" >0.2811</td>\n",
              "      <td id=\"T_3d4c1_row12_col4\" class=\"data row12 col4\" >0.2995</td>\n",
              "      <td id=\"T_3d4c1_row12_col5\" class=\"data row12 col5\" >0.2867</td>\n",
              "      <td id=\"T_3d4c1_row12_col6\" class=\"data row12 col6\" >0.0461</td>\n",
              "      <td id=\"T_3d4c1_row12_col7\" class=\"data row12 col7\" >0.0465</td>\n",
              "      <td id=\"T_3d4c1_row12_col8\" class=\"data row12 col8\" >5.9810</td>\n",
              "    </tr>\n",
              "    <tr>\n",
              "      <th id=\"T_3d4c1_level0_row13\" class=\"row_heading level0 row13\" >dt</th>\n",
              "      <td id=\"T_3d4c1_row13_col0\" class=\"data row13 col0\" >Decision Tree Classifier</td>\n",
              "      <td id=\"T_3d4c1_row13_col1\" class=\"data row13 col1\" >0.2680</td>\n",
              "      <td id=\"T_3d4c1_row13_col2\" class=\"data row13 col2\" >0.5018</td>\n",
              "      <td id=\"T_3d4c1_row13_col3\" class=\"data row13 col3\" >0.2680</td>\n",
              "      <td id=\"T_3d4c1_row13_col4\" class=\"data row13 col4\" >0.2678</td>\n",
              "      <td id=\"T_3d4c1_row13_col5\" class=\"data row13 col5\" >0.2672</td>\n",
              "      <td id=\"T_3d4c1_row13_col6\" class=\"data row13 col6\" >0.0023</td>\n",
              "      <td id=\"T_3d4c1_row13_col7\" class=\"data row13 col7\" >0.0023</td>\n",
              "      <td id=\"T_3d4c1_row13_col8\" class=\"data row13 col8\" >0.4300</td>\n",
              "    </tr>\n",
              "    <tr>\n",
              "      <th id=\"T_3d4c1_level0_row14\" class=\"row_heading level0 row14\" >nb</th>\n",
              "      <td id=\"T_3d4c1_row14_col0\" class=\"data row14 col0\" >Naive Bayes</td>\n",
              "      <td id=\"T_3d4c1_row14_col1\" class=\"data row14 col1\" >0.1580</td>\n",
              "      <td id=\"T_3d4c1_row14_col2\" class=\"data row14 col2\" >0.5494</td>\n",
              "      <td id=\"T_3d4c1_row14_col3\" class=\"data row14 col3\" >0.1580</td>\n",
              "      <td id=\"T_3d4c1_row14_col4\" class=\"data row14 col4\" >0.2739</td>\n",
              "      <td id=\"T_3d4c1_row14_col5\" class=\"data row14 col5\" >0.1663</td>\n",
              "      <td id=\"T_3d4c1_row14_col6\" class=\"data row14 col6\" >0.0207</td>\n",
              "      <td id=\"T_3d4c1_row14_col7\" class=\"data row14 col7\" >0.0231</td>\n",
              "      <td id=\"T_3d4c1_row14_col8\" class=\"data row14 col8\" >0.1920</td>\n",
              "    </tr>\n",
              "  </tbody>\n",
              "</table>\n"
            ]
          },
          "metadata": {}
        },
        {
          "output_type": "display_data",
          "data": {
            "text/plain": [
              "Processing:   0%|          | 0/65 [00:00<?, ?it/s]"
            ],
            "application/vnd.jupyter.widget-view+json": {
              "version_major": 2,
              "version_minor": 0,
              "model_id": "0e75385917e447c68f2e5191c75310f7"
            }
          },
          "metadata": {
            "application/vnd.jupyter.widget-view+json": {
              "colab": {
                "custom_widget_manager": {
                  "url": "https://ssl.gstatic.com/colaboratory-static/widgets/colab-cdn-widget-manager/2b70e893a8ba7c0f/manager.min.js"
                }
              }
            }
          }
        },
        {
          "output_type": "display_data",
          "data": {
            "text/plain": [
              "<IPython.core.display.HTML object>"
            ],
            "text/html": []
          },
          "metadata": {}
        }
      ],
      "source": [
        "best = compare_models()"
      ]
    }
  ],
  "metadata": {
    "kernelspec": {
      "display_name": "Python 3 (ipykernel)",
      "language": "python",
      "name": "python3"
    },
    "language_info": {
      "codemirror_mode": {
        "name": "ipython",
        "version": 3
      },
      "file_extension": ".py",
      "mimetype": "text/x-python",
      "name": "python",
      "nbconvert_exporter": "python",
      "pygments_lexer": "ipython3",
      "version": "3.11.4"
    },
    "colab": {
      "provenance": [],
      "include_colab_link": true
    },
    "widgets": {
      "application/vnd.jupyter.widget-state+json": {
        "0e75385917e447c68f2e5191c75310f7": {
          "model_module": "@jupyter-widgets/controls",
          "model_name": "HBoxModel",
          "model_module_version": "1.5.0",
          "state": {
            "_dom_classes": [],
            "_model_module": "@jupyter-widgets/controls",
            "_model_module_version": "1.5.0",
            "_model_name": "HBoxModel",
            "_view_count": null,
            "_view_module": "@jupyter-widgets/controls",
            "_view_module_version": "1.5.0",
            "_view_name": "HBoxView",
            "box_style": "",
            "children": [
              "IPY_MODEL_741c824f94b64c4d9742220b2a15cd3c",
              "IPY_MODEL_ca3c823f6583462a991efa42a6b03a60",
              "IPY_MODEL_3ee232cfbce44fb587b4c86ef3e0f83d"
            ],
            "layout": "IPY_MODEL_ddbb22f509a0485590adb0efda5cba15"
          }
        },
        "741c824f94b64c4d9742220b2a15cd3c": {
          "model_module": "@jupyter-widgets/controls",
          "model_name": "HTMLModel",
          "model_module_version": "1.5.0",
          "state": {
            "_dom_classes": [],
            "_model_module": "@jupyter-widgets/controls",
            "_model_module_version": "1.5.0",
            "_model_name": "HTMLModel",
            "_view_count": null,
            "_view_module": "@jupyter-widgets/controls",
            "_view_module_version": "1.5.0",
            "_view_name": "HTMLView",
            "description": "",
            "description_tooltip": null,
            "layout": "IPY_MODEL_0854fe7d657e4a20b41e3a44c41604d7",
            "placeholder": "​",
            "style": "IPY_MODEL_19e62671641a4747919e201d9697ed26",
            "value": "Processing: 100%"
          }
        },
        "ca3c823f6583462a991efa42a6b03a60": {
          "model_module": "@jupyter-widgets/controls",
          "model_name": "FloatProgressModel",
          "model_module_version": "1.5.0",
          "state": {
            "_dom_classes": [],
            "_model_module": "@jupyter-widgets/controls",
            "_model_module_version": "1.5.0",
            "_model_name": "FloatProgressModel",
            "_view_count": null,
            "_view_module": "@jupyter-widgets/controls",
            "_view_module_version": "1.5.0",
            "_view_name": "ProgressView",
            "bar_style": "",
            "description": "",
            "description_tooltip": null,
            "layout": "IPY_MODEL_0cd55c65a7af47d78490d176fcdc68e5",
            "max": 65,
            "min": 0,
            "orientation": "horizontal",
            "style": "IPY_MODEL_f178240da9e44648998599498e66ab18",
            "value": 65
          }
        },
        "3ee232cfbce44fb587b4c86ef3e0f83d": {
          "model_module": "@jupyter-widgets/controls",
          "model_name": "HTMLModel",
          "model_module_version": "1.5.0",
          "state": {
            "_dom_classes": [],
            "_model_module": "@jupyter-widgets/controls",
            "_model_module_version": "1.5.0",
            "_model_name": "HTMLModel",
            "_view_count": null,
            "_view_module": "@jupyter-widgets/controls",
            "_view_module_version": "1.5.0",
            "_view_name": "HTMLView",
            "description": "",
            "description_tooltip": null,
            "layout": "IPY_MODEL_b23287c0efa94ea5ac37e71d36d8f5f6",
            "placeholder": "​",
            "style": "IPY_MODEL_8e702e84656f495791756af5ae015701",
            "value": " 65/65 [18:31&lt;00:00, 23.82s/it]"
          }
        },
        "ddbb22f509a0485590adb0efda5cba15": {
          "model_module": "@jupyter-widgets/base",
          "model_name": "LayoutModel",
          "model_module_version": "1.2.0",
          "state": {
            "_model_module": "@jupyter-widgets/base",
            "_model_module_version": "1.2.0",
            "_model_name": "LayoutModel",
            "_view_count": null,
            "_view_module": "@jupyter-widgets/base",
            "_view_module_version": "1.2.0",
            "_view_name": "LayoutView",
            "align_content": null,
            "align_items": null,
            "align_self": null,
            "border": null,
            "bottom": null,
            "display": null,
            "flex": null,
            "flex_flow": null,
            "grid_area": null,
            "grid_auto_columns": null,
            "grid_auto_flow": null,
            "grid_auto_rows": null,
            "grid_column": null,
            "grid_gap": null,
            "grid_row": null,
            "grid_template_areas": null,
            "grid_template_columns": null,
            "grid_template_rows": null,
            "height": null,
            "justify_content": null,
            "justify_items": null,
            "left": null,
            "margin": null,
            "max_height": null,
            "max_width": null,
            "min_height": null,
            "min_width": null,
            "object_fit": null,
            "object_position": null,
            "order": null,
            "overflow": null,
            "overflow_x": null,
            "overflow_y": null,
            "padding": null,
            "right": null,
            "top": null,
            "visibility": "hidden",
            "width": null
          }
        },
        "0854fe7d657e4a20b41e3a44c41604d7": {
          "model_module": "@jupyter-widgets/base",
          "model_name": "LayoutModel",
          "model_module_version": "1.2.0",
          "state": {
            "_model_module": "@jupyter-widgets/base",
            "_model_module_version": "1.2.0",
            "_model_name": "LayoutModel",
            "_view_count": null,
            "_view_module": "@jupyter-widgets/base",
            "_view_module_version": "1.2.0",
            "_view_name": "LayoutView",
            "align_content": null,
            "align_items": null,
            "align_self": null,
            "border": null,
            "bottom": null,
            "display": null,
            "flex": null,
            "flex_flow": null,
            "grid_area": null,
            "grid_auto_columns": null,
            "grid_auto_flow": null,
            "grid_auto_rows": null,
            "grid_column": null,
            "grid_gap": null,
            "grid_row": null,
            "grid_template_areas": null,
            "grid_template_columns": null,
            "grid_template_rows": null,
            "height": null,
            "justify_content": null,
            "justify_items": null,
            "left": null,
            "margin": null,
            "max_height": null,
            "max_width": null,
            "min_height": null,
            "min_width": null,
            "object_fit": null,
            "object_position": null,
            "order": null,
            "overflow": null,
            "overflow_x": null,
            "overflow_y": null,
            "padding": null,
            "right": null,
            "top": null,
            "visibility": null,
            "width": null
          }
        },
        "19e62671641a4747919e201d9697ed26": {
          "model_module": "@jupyter-widgets/controls",
          "model_name": "DescriptionStyleModel",
          "model_module_version": "1.5.0",
          "state": {
            "_model_module": "@jupyter-widgets/controls",
            "_model_module_version": "1.5.0",
            "_model_name": "DescriptionStyleModel",
            "_view_count": null,
            "_view_module": "@jupyter-widgets/base",
            "_view_module_version": "1.2.0",
            "_view_name": "StyleView",
            "description_width": ""
          }
        },
        "0cd55c65a7af47d78490d176fcdc68e5": {
          "model_module": "@jupyter-widgets/base",
          "model_name": "LayoutModel",
          "model_module_version": "1.2.0",
          "state": {
            "_model_module": "@jupyter-widgets/base",
            "_model_module_version": "1.2.0",
            "_model_name": "LayoutModel",
            "_view_count": null,
            "_view_module": "@jupyter-widgets/base",
            "_view_module_version": "1.2.0",
            "_view_name": "LayoutView",
            "align_content": null,
            "align_items": null,
            "align_self": null,
            "border": null,
            "bottom": null,
            "display": null,
            "flex": null,
            "flex_flow": null,
            "grid_area": null,
            "grid_auto_columns": null,
            "grid_auto_flow": null,
            "grid_auto_rows": null,
            "grid_column": null,
            "grid_gap": null,
            "grid_row": null,
            "grid_template_areas": null,
            "grid_template_columns": null,
            "grid_template_rows": null,
            "height": null,
            "justify_content": null,
            "justify_items": null,
            "left": null,
            "margin": null,
            "max_height": null,
            "max_width": null,
            "min_height": null,
            "min_width": null,
            "object_fit": null,
            "object_position": null,
            "order": null,
            "overflow": null,
            "overflow_x": null,
            "overflow_y": null,
            "padding": null,
            "right": null,
            "top": null,
            "visibility": null,
            "width": null
          }
        },
        "f178240da9e44648998599498e66ab18": {
          "model_module": "@jupyter-widgets/controls",
          "model_name": "ProgressStyleModel",
          "model_module_version": "1.5.0",
          "state": {
            "_model_module": "@jupyter-widgets/controls",
            "_model_module_version": "1.5.0",
            "_model_name": "ProgressStyleModel",
            "_view_count": null,
            "_view_module": "@jupyter-widgets/base",
            "_view_module_version": "1.2.0",
            "_view_name": "StyleView",
            "bar_color": null,
            "description_width": ""
          }
        },
        "b23287c0efa94ea5ac37e71d36d8f5f6": {
          "model_module": "@jupyter-widgets/base",
          "model_name": "LayoutModel",
          "model_module_version": "1.2.0",
          "state": {
            "_model_module": "@jupyter-widgets/base",
            "_model_module_version": "1.2.0",
            "_model_name": "LayoutModel",
            "_view_count": null,
            "_view_module": "@jupyter-widgets/base",
            "_view_module_version": "1.2.0",
            "_view_name": "LayoutView",
            "align_content": null,
            "align_items": null,
            "align_self": null,
            "border": null,
            "bottom": null,
            "display": null,
            "flex": null,
            "flex_flow": null,
            "grid_area": null,
            "grid_auto_columns": null,
            "grid_auto_flow": null,
            "grid_auto_rows": null,
            "grid_column": null,
            "grid_gap": null,
            "grid_row": null,
            "grid_template_areas": null,
            "grid_template_columns": null,
            "grid_template_rows": null,
            "height": null,
            "justify_content": null,
            "justify_items": null,
            "left": null,
            "margin": null,
            "max_height": null,
            "max_width": null,
            "min_height": null,
            "min_width": null,
            "object_fit": null,
            "object_position": null,
            "order": null,
            "overflow": null,
            "overflow_x": null,
            "overflow_y": null,
            "padding": null,
            "right": null,
            "top": null,
            "visibility": null,
            "width": null
          }
        },
        "8e702e84656f495791756af5ae015701": {
          "model_module": "@jupyter-widgets/controls",
          "model_name": "DescriptionStyleModel",
          "model_module_version": "1.5.0",
          "state": {
            "_model_module": "@jupyter-widgets/controls",
            "_model_module_version": "1.5.0",
            "_model_name": "DescriptionStyleModel",
            "_view_count": null,
            "_view_module": "@jupyter-widgets/base",
            "_view_module_version": "1.2.0",
            "_view_name": "StyleView",
            "description_width": ""
          }
        }
      }
    }
  },
  "nbformat": 4,
  "nbformat_minor": 5
}